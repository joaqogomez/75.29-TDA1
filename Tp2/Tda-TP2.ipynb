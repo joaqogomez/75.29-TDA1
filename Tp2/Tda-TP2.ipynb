{
 "cells": [
  {
   "attachments": {},
   "cell_type": "markdown",
   "metadata": {},
   "source": [
    "# Trabajo Práctico 2: Problema de Empaquetamiento\n",
    "El presente trabajo busca evaluar el desarrollo y análisis de un problema NP Completo, la implementación de una solución\n",
    "exacta así como una aproximada y su análisis. La primera fecha de entrega del TP será el 05/06/23, mientras que la segunda\n",
    "fecha de entrega (con reducción de nota) será el 12/06/23."
   ]
  },
  {
   "attachments": {},
   "cell_type": "markdown",
   "metadata": {},
   "source": [
    "## Definición del problema\n",
    "Dado un conjunto de n objetos cuyos tamaños son {T1, T2, · · · , Tn}, con Ti ∈ (0, 1], se debe empaquetarlos usando la mínima\n",
    "cantidad de envases de capacidad 1."
   ]
  },
  {
   "attachments": {},
   "cell_type": "markdown",
   "metadata": {},
   "source": [
    "### Enunciado\n",
    "1. Demostrar que el problema de empaquetamiento es NP-Completo.\n",
    "2. Programar un algoritmo por Backtracking/Fuerza Bruta que busque la solución exacta del problema. Indicar la\n",
    "complejidad del mismo. Realizar mediciones del tiempo de ejecución, y realizar gráficos en función de n.\n",
    "3. Considerar el siguiente algoritmo: Se abre el primer envase y se empaqueta el primer objeto, luego por cada uno de los\n",
    "objetos restantes se prueba si cabe en el envase actual que está abierto. Si es así, se lo agrega a dicho envase, y se sigue\n",
    "con el siguiente objeto. Si no entra, se cierra el envase actual, se abre uno nuevo que pasa a ser el envase actual, se\n",
    "empaqueta el objeto y se prosigue con el siguiente.\n",
    "Este algoritmo sirve como una aproximación para resolver el problema de empaquetamiento. Implementar dicho\n",
    "algoritmo, analizar su complejidad, y analizar cuán buena aproximación es. Para esto, considerar lo siguiente: Sea I una\n",
    "instancia cualquiera del problema de empaquetamiento, y z(I) una solución óptima para dicha instancia, y sea A(I) la\n",
    "solución aproximada, se define A(I)/z(I) ≤ r(A) para todas las instancias posibles. Calcular r(A) para el algoritmo dado,\n",
    "demostrando que la cota está bien calculada. Realizar mediciones utilizando el algoritmo exacto y la aproximación, con\n",
    "el objetivo de verificar dicha relación.\n",
    "4. Implementar alguna otra aproximación (u algoritmo greedy) que les parezca de interés. Comparar sus\n",
    "resultados con los dados por la aproximación del punto 3. Indicar y justificar su complejidad.\n",
    "Se recomienda realizar varias ejecuciones con distintos conjuntos de datos del mismo tamaño y promediar los tiempos medidos\n",
    "para obtener un punto a graficar. Repetir para valores de n crecientes hasta valores que sean manejables con el hardware\n",
    "donde se realiza la prueba."
   ]
  },
  {
   "attachments": {},
   "cell_type": "markdown",
   "metadata": {},
   "source": [
    "----------------"
   ]
  },
  {
   "attachments": {},
   "cell_type": "markdown",
   "metadata": {},
   "source": [
    "1. Demostrar que el problema de empaquetamiento es NP-Completo.\n"
   ]
  },
  {
   "attachments": {},
   "cell_type": "markdown",
   "metadata": {},
   "source": [
    "Para demostrar que el problema de empaquetamiento es NP-Completo, se debe demostrar que es NP y luego reducir un problema NP-Completo a este problema."
   ]
  },
  {
   "attachments": {},
   "cell_type": "markdown",
   "metadata": {},
   "source": [
    "Para demostrar que es NP, se debe demostrar que existe un algoritmo polinomial que verifica si una solución es correcta.  \n",
    "En este caso, dada una lista de elementos y una lista de elementos empaquetados, para verificar que la solución es correcta hay que:  \n",
    "1. Verificar que todos los elementos estén en algún paquete  \n",
    "2. Verificar que la suma de los elementos de cada paquete sea menor o igual a 1  \n",
    "3. Verificar que la cantidad de paquetes sea la mínima posible  \n",
    "\n",
    "Los puntos 1 y 2 se pueden verificar en forma polinomial, pero, si uno no conoce de antemano la cantidad mínima de paquetes, el punto 3 no se puede verificar en forma polinomial (ya que habría que resolver el problema de empaquetamiento el cual estamos en proceso de demostrar que es NP-Completo)."
   ]
  },
  {
   "attachments": {},
   "cell_type": "markdown",
   "metadata": {},
   "source": [
    "Para verificar que un resultado es correcto, vamos a verificar que todos los items estén en algún paquete, que no haya items de más en los paquetes y que la suma de los items de cada paquete sea menor o igual a 1.  \n",
    "Además, verificamos si no hay dos paquetes que puedan ser unidos en uno solo, ya que si se puede unir dos paquetes, entonces no es una solución óptima. Esto no verifica completamente que la cantidad de paquetes sea la mínima, ya que no hace una reorganización de items entre paquetes (ya que para esa verificación es necesario resolver el problema de empaquetamiento)."
   ]
  },
  {
   "cell_type": "code",
   "execution_count": 1,
   "metadata": {},
   "outputs": [
    {
     "name": "stdout",
     "output_type": "stream",
     "text": [
      "Ejemplo 1 ->  True\n",
      "Ejemplo 2 ->  False\n",
      "Ejemplo 3 ->  False\n",
      "Ejemplo 4 ->  False\n",
      "Ejemplo 5 ->  False\n"
     ]
    }
   ],
   "source": [
    "def verificacion_paquetes(items, paquetes): # n -> #items | p -> #paquetes\n",
    "    # Cond1: Verifico si todos los items estan en algun paquete\n",
    "    paquetes_flatten = [item for sublist in paquetes for item in sublist]\n",
    "\n",
    "    for item in items: # n veces\n",
    "        if item in paquetes_flatten:\n",
    "            paquetes_flatten.remove(item) # O(n) -> Busca el item y lo remueve\n",
    "        else:\n",
    "            return False\n",
    "    # n * O(n) = O(n^2)\n",
    "\n",
    "    if len(paquetes_flatten) > 0: # O(1)\n",
    "        return False # Hay items de más en los paquetes\n",
    "\n",
    "    # Cond2: Verifico que ningún paquete sume más de 1\n",
    "    if not all(sum(paquete) <= 1 for paquete in paquetes): # O(n) (Dado que ya se verificó que \n",
    "        return False            # los paquetes en conjunto tienen a todos los items, hacer todas\n",
    "                                # las sumas tiene en cuenta a todos los items una vez)\n",
    "    \n",
    "    # Cond3: Verifico que ningún paquete pueda agregarse a otro\n",
    "    for paquete in paquetes: # p veces\n",
    "        for otro_paquete in paquetes: # O(n) (Dado que este ciclo recorre todos los items una vez\n",
    "            if paquete != otro_paquete:     # y por cada item hace operaciones constantes)\n",
    "                if sum(paquete + otro_paquete) <= 1: \n",
    "                    return False                \n",
    "    # p * O(n) = O(p*n)\n",
    "\n",
    "    return True\n",
    "# Complejidad: O(n^2 + p*n)\n",
    "# Dado que n >= p, la complejidad es O(n^2)\n",
    "\n",
    "# Ejemplo 1 -> Correcto\n",
    "items = [0.4, 0.8, 0.5, 0.1, 0.7, 0.6, 0.1, 0.4, 0.2, 0.2]\n",
    "paquetes = [[0.5, 0.4, 0.1], [0.8, 0.2], [0.7, 0.2, 0.1], [0.6, 0.4]]\n",
    "print(\"Ejemplo 1 -> \", verificacion_paquetes(items, paquetes))\n",
    "\n",
    "# Ejemplo 2 -> Incorrecto (falta el 0.1)\n",
    "items = [0.4, 0.8, 0.5, 0.1, 0.7, 0.6, 0.1, 0.4, 0.2, 0.2]\n",
    "paquetes = [[0.5, 0.4], [0.8, 0.2], [0.7, 0.2, 0.1], [0.6, 0.4]]\n",
    "print(\"Ejemplo 2 -> \", verificacion_paquetes(items, paquetes))\n",
    "\n",
    "# Ejemplo 3 -> Incorrecto (sobra el 0.1)\n",
    "items = [0.4, 0.8, 0.5, 0.1, 0.7, 0.6, 0.1, 0.4, 0.2, 0.2]\n",
    "paquetes = [[0.5, 0.4, 0.1], [0.8, 0.2], [0.7, 0.2, 0.1], [0.6, 0.4], [0.1]]\n",
    "print(\"Ejemplo 3 -> \", verificacion_paquetes(items, paquetes))\n",
    "\n",
    "# Ejemplo 4 -> Incorrecto (Un paquete suma más de 1)\n",
    "items = [0.4, 0.8, 0.5, 0.1, 0.7, 0.6, 0.1, 0.4, 0.2, 0.2]\n",
    "paquetes = [[0.6, 0.4, 0.1], [0.8, 0.2], [0.7, 0.2, 0.1], [0.5, 0.4]]\n",
    "print(\"Ejemplo 4 -> \", verificacion_paquetes(items, paquetes))\n",
    "\n",
    "# Ejemplo 5 -> Incorrecto (Un paquete puede agregarse a otro)\n",
    "items = [0.4, 0.8, 0.5, 0.1, 0.7, 0.6, 0.1, 0.4, 0.2, 0.2]\n",
    "paquetes = [[0.5, 0.4, 0.1], [0.8, 0.2], [0.7, 0.2, 0.1], [0.6], [0.4]]\n",
    "print(\"Ejemplo 5 -> \", verificacion_paquetes(items, paquetes))\n"
   ]
  },
  {
   "attachments": {},
   "cell_type": "markdown",
   "metadata": {},
   "source": [
    "Dado que esta verificación es O(n²), siendo n la cantidad de items, entonces la verificación del problema de empaquetamiento es polinomial y por lo tanto el problema de empaquetamiento es NP."
   ]
  },
  {
   "attachments": {},
   "cell_type": "markdown",
   "metadata": {},
   "source": [
    "Ahora resta demostrar que el problema de empaquetamiento es NP-Completo. Para esto, se va a reducir un problema NP-Completo al problema de empaquetamiento.\n",
    "El problema que se va a reducir al problema de empaquetamiento es el problema de Partition Problem, el cual es NP-Completo.\n",
    "\n",
    "**Problema de Partition Problem**  \n",
    "Dada una lista de enteros positivos L, se debe determinar si existen los subconjuntos S1 y S2 tal que la suma de los elementos en S1 sea igual que la suma de los elementos en S2.\n",
    "\n",
    "**Reducción de Partition Problem a Empaquetamiento**  \n",
    "Dada una instancia del problema de Parition Problem, se resuelve con el algoritmo de empaquetamiento de la siguiente forma:\n",
    "1. Se toma la sumatoria de todos los elementos de la lista L y se divide por 2, ya que de existir S1 y S2, la suma de los elementos de S1 y S2 debe ser igual a la sumatoria de todos los elementos de L.\n",
    "2. Se crea una lista L', en donde cada elemento es el elemento de L dividido por el resultado de la división anterior.\n",
    "3. Se resuelve el problema de empaquetamiento con la lista L' y se obtiene una lista de paquetes P.\n",
    "4. Se verifica que la cantidad de paquetes sea 2, ya que si no es 2, entonces no existe una solución para el problema de Partition Problem.\n",
    "\n",
    "> Dado que el problema de empaquetamiento busca devolver la minima cantidad de paquetes, si es posible resolver el problema de Partition Problem, entonces la cantidad de paquetes debe ser 2.\n",
    "> En caso de que la sumatoria de todos los elementos de L sea impar, entonces no existe una solución para el problema de Partition Problem, ya que la lista es de enteros positivos y no se puede dividir en dos listas de igual sumatoria."
   ]
  },
  {
   "attachments": {},
   "cell_type": "markdown",
   "metadata": {},
   "source": [
    "_Luego de la implementación del algoritmo de empaquetamiento por backtracking, se puede ver una implementación del algoritmo de Partition Problem utilizando el algoritmo de empaquetamiento._"
   ]
  },
  {
   "attachments": {},
   "cell_type": "markdown",
   "metadata": {},
   "source": [
    "2. Programar un algoritmo por Backtracking/Fuerza Bruta que busque la solución exacta del problema. Indicar la complejidad del mismo. Realizar mediciones del tiempo de ejecución, y realizar gráficos en función de n."
   ]
  },
  {
   "cell_type": "code",
   "execution_count": 2,
   "metadata": {},
   "outputs": [],
   "source": [
    "# to use deepcopy\n",
    "from copy import deepcopy\n",
    "from math import inf\n",
    "\n",
    "def _empaquetar_back(items, paquetes, len_min=inf):\n",
    "    if len(items) == 0:\n",
    "        return paquetes\n",
    "    \n",
    "    # tomamos el primer item\n",
    "    item = items.pop(0)\n",
    "\n",
    "    # agrego un nuevo paquete\n",
    "    if paquetes == []:\n",
    "        paquetes.append([item])\n",
    "        return _empaquetar_back(items.copy(), deepcopy(paquetes))\n",
    "\n",
    "    # hay que empaquetar el item\n",
    "    # puede ser en un paquete existente\n",
    "    # o en un paquete nuevo\n",
    "    opciones = []\n",
    "    for i in range(len(paquetes)):\n",
    "        if sum(paquetes[i]) + item <= 1:\n",
    "            paquetes_copia = deepcopy(paquetes)\n",
    "            paquetes_copia[i].append(item)\n",
    "            opcion = _empaquetar_back(items.copy(), paquetes_copia, len_min)\n",
    "           \n",
    "            if len(opcion) < len_min:\n",
    "               len_min = len(opcion)\n",
    "               opciones = [opcion]\n",
    "\n",
    "    \n",
    "    if len(opciones) + 1 <= len_min:\n",
    "        paquetes_copia = deepcopy(paquetes)\n",
    "        paquetes_copia.append([item])\n",
    "        opciones.append(_empaquetar_back(items.copy(), paquetes_copia, len_min))\n",
    "                \n",
    "    min = opciones[0]\n",
    "\n",
    "    for opcion in opciones:\n",
    "        if len(opcion) < len(min):\n",
    "            min = opcion\n",
    "\n",
    "    return min\n",
    "            \n",
    "def empaquetar_back(items):\n",
    "    paquetes = []\n",
    "    return _empaquetar_back(items.copy(), paquetes)"
   ]
  },
  {
   "cell_type": "code",
   "execution_count": 3,
   "metadata": {},
   "outputs": [
    {
     "name": "stdout",
     "output_type": "stream",
     "text": [
      "[[0.5, 0.4, 0.1], [0.3, 0.2]]\n",
      "[[0.4, 0.5, 0.1], [0.8, 0.2], [0.7, 0.1, 0.2], [0.6, 0.4]]\n"
     ]
    }
   ],
   "source": [
    "items = [0.5, 0.4, 0.3, 0.2, 0.1]\n",
    "print(empaquetar_back(items))\n",
    "\n",
    "items = [0.4, 0.8, 0.5, 0.1, 0.7, 0.6, 0.1, 0.4, 0.2, 0.2]\n",
    "print(empaquetar_back(items))"
   ]
  },
  {
   "attachments": {},
   "cell_type": "markdown",
   "metadata": {},
   "source": [
    "Aprovechamos la resolución del problema de empaquetamiento para resolver el problema de subset sum."
   ]
  },
  {
   "cell_type": "code",
   "execution_count": 4,
   "metadata": {},
   "outputs": [],
   "source": [
    "def partition_problem(lista):\n",
    "    suma = sum(lista)\n",
    "    if suma % 2 != 0:\n",
    "        return False\n",
    "    div = suma / 2\n",
    "    lista_aux = [round(i / div, 3) for i in lista]\n",
    "    return len(empaquetar_back(lista_aux)) == 2"
   ]
  },
  {
   "cell_type": "code",
   "execution_count": 5,
   "metadata": {},
   "outputs": [
    {
     "name": "stdout",
     "output_type": "stream",
     "text": [
      "[4, 8, 5, 1, 7, 6, 1, 4, 2, 2] ->  True\n",
      "[4, 8, 7, 6, 4] ->  False\n",
      "[4, 7, 6, 4, 1] ->  True\n"
     ]
    }
   ],
   "source": [
    "items_subset = [4, 8, 5, 1, 7, 6, 1, 4, 2, 2]\n",
    "print(\"[4, 8, 5, 1, 7, 6, 1, 4, 2, 2] -> \", partition_problem(items_subset))\n",
    "\n",
    "items_subset = [4, 8, 7, 6, 4]\n",
    "print(\"[4, 8, 7, 6, 4] -> \", partition_problem(items_subset))\n",
    " \n",
    "items_subset = [4, 7, 6, 4, 1]\n",
    "print(\"[4, 7, 6, 4, 1] -> \", partition_problem(items_subset))"
   ]
  },
  {
   "attachments": {},
   "cell_type": "markdown",
   "metadata": {},
   "source": [
    "**Complejidad:**  \n",
    "Al momento de resolver el problema, se realizan todas las combinaciones posibles de items hasta encontrar la óptima. Al momento de ubicar un item en un paquete, podría ser en el paquete 1, o en el 2, o en el 3, ..., o en un paquete n. De esta forma, al no tener una cantidad de paquetes máxima, se podrá hacer combinaciones con una cantidad de paquetes cercana o igual a la cantidad de items. Entonces, siendo n la cantidad de items, la complejidad del algoritmo es O(n^n).\n",
    "> Aunque realizamos podas en el algoritmo (para que no sea una resolución por fuerza bruta), lo cual reduce bastante los tiempos de ejecución, estos cortes de rama no afectan a la complejidad algoritmica en sí y se puede notar al ver lo rápido que escala en tiempo ya desde pocos items."
   ]
  },
  {
   "attachments": {},
   "cell_type": "markdown",
   "metadata": {},
   "source": [
    "Creamos una función que genere sets para hacer las mediciones."
   ]
  },
  {
   "cell_type": "code",
   "execution_count": 6,
   "metadata": {},
   "outputs": [],
   "source": [
    "from random import uniform\n",
    "\n",
    "def generador_items(n):\n",
    "    return [round(uniform(0.01, 1.00), 2) for _ in range(n)]"
   ]
  },
  {
   "cell_type": "code",
   "execution_count": 7,
   "metadata": {},
   "outputs": [],
   "source": [
    "import time\n",
    "\n",
    "def calcular_tiempo(items, funcion):\n",
    "    start = time.time()\n",
    "    funcion(items)\n",
    "    end = time.time()\n",
    "    return end - start"
   ]
  },
  {
   "cell_type": "code",
   "execution_count": 8,
   "metadata": {},
   "outputs": [
    {
     "name": "stdout",
     "output_type": "stream",
     "text": [
      "termine para 1 elementos en 0.0 segundos\n",
      "termine para 2 elementos en 0.0 segundos\n",
      "termine para 3 elementos en 0.0 segundos\n",
      "termine para 4 elementos en 9.9945068359375e-05 segundos\n",
      "termine para 5 elementos en 9.996891021728516e-05 segundos\n",
      "termine para 6 elementos en 0.000299835205078125 segundos\n",
      "termine para 7 elementos en 0.0011999845504760743 segundos\n",
      "termine para 8 elementos en 0.0018999099731445313 segundos\n",
      "termine para 9 elementos en 0.002400660514831543 segundos\n",
      "termine para 10 elementos en 0.038699555397033694 segundos\n",
      "termine para 11 elementos en 0.029700446128845214 segundos\n",
      "termine para 12 elementos en 0.16920056343078613 segundos\n",
      "termine para 13 elementos en 0.13376588821411134 segundos\n",
      "termine para 14 elementos en 6.316067171096802 segundos\n",
      "termine para 15 elementos en 9.268953895568847 segundos\n",
      "termine para 16 elementos en 42.17360692024231 segundos\n"
     ]
    }
   ],
   "source": [
    "tiempos = {}\n",
    "for i in range(1, 17):\n",
    "    todos = []    \n",
    "    for _ in range(10):\n",
    "        items = generador_items(i)\n",
    "        todos.append(calcular_tiempo(items, empaquetar_back))\n",
    "    tiempos[i] = sum(todos) / len(todos)\n",
    "    print(f\"termine para {i} elementos en {tiempos[i]} segundos\")"
   ]
  },
  {
   "cell_type": "code",
   "execution_count": 9,
   "metadata": {},
   "outputs": [
    {
     "data": {
      "image/png": "[encoded data removed]",
      "text/plain": [
       "<Figure size 432x288 with 1 Axes>"
      ]
     },
     "metadata": {
      "needs_background": "light"
     },
     "output_type": "display_data"
    }
   ],
   "source": [
    "from matplotlib import pyplot as plt\n",
    "\n",
    "plt.plot(tiempos.keys(), tiempos.values())\n",
    "plt.xlabel('n')\n",
    "plt.ylabel('Tiempo')\n",
    "plt.show()"
   ]
  },
  {
   "attachments": {},
   "cell_type": "markdown",
   "metadata": {},
   "source": [
    "3. Considerar el siguiente algoritmo: Se abre el primer envase y se empaqueta el primer objeto, luego por cada uno de los\n",
    "objetos restantes se prueba si cabe en el envase actual que está abierto. Si es así, se lo agrega a dicho envase, y se sigue\n",
    "con el siguiente objeto. Si no entra, se cierra el envase actual, se abre uno nuevo que pasa a ser el envase actual, se\n",
    "empaqueta el objeto y se prosigue con el siguiente.  \n",
    "\n",
    "Este algoritmo sirve como una aproximación para resolver el problema de empaquetamiento. Implementar dicho\n",
    "algoritmo, analizar su complejidad, y analizar cuán buena aproximación es. Para esto, considerar lo siguiente: Sea I una\n",
    "instancia cualquiera del problema de empaquetamiento, y z(I) una solución óptima para dicha instancia, y sea A(I) la\n",
    "solución aproximada, se define A(I)/z(I) ≤ r(A) para todas las instancias posibles. Calcular r(A) para el algoritmo dado,\n",
    "demostrando que la cota está bien calculada. Realizar mediciones utilizando el algoritmo exacto y la aproximación, con\n",
    "el objetivo de verificar dicha relación."
   ]
  },
  {
   "attachments": {},
   "cell_type": "markdown",
   "metadata": {},
   "source": [
    "Algoritmo de aproximación:  \n",
    "1. Se abre el primer envase y se empaqueta el primer objeto.  \n",
    "2. Por cada uno de los objetos restantes se prueba si cabe en el envase actual que está abierto.  \n",
    "a. Si es así, se lo agrega a dicho envase, y se sigue con el siguiente objeto.  \n",
    "b. Si no entra, se cierra el envase actual, se abre uno nuevo que pasa a ser el envase actual, se empaqueta el objeto y se prosigue con el siguiente.  \n"
   ]
  },
  {
   "cell_type": "code",
   "execution_count": 10,
   "metadata": {},
   "outputs": [],
   "source": [
    "def empaquetar_aprox(items):\n",
    "    paquetes = []\n",
    "    paquete_actual = []\n",
    "    suma_actual = 0\n",
    "    for item in items:\n",
    "        if round(suma_actual + item, 4) <= 1:\n",
    "            paquete_actual.append(item)\n",
    "            suma_actual += item\n",
    "        else:\n",
    "            paquetes.append(paquete_actual)\n",
    "            paquete_actual = [item]\n",
    "            suma_actual = item\n",
    "    paquetes.append(paquete_actual)\n",
    "    return paquetes"
   ]
  },
  {
   "cell_type": "code",
   "execution_count": 11,
   "metadata": {},
   "outputs": [
    {
     "name": "stdout",
     "output_type": "stream",
     "text": [
      "[[0.5, 0.4], [0.3, 0.2, 0.1]]\n",
      "[[0.4], [0.8], [0.5, 0.1], [0.7], [0.6, 0.1], [0.4, 0.2, 0.2]]\n"
     ]
    }
   ],
   "source": [
    "items = [0.5, 0.4, 0.3, 0.2, 0.1]\n",
    "print(empaquetar_aprox(items))\n",
    "\n",
    "items = [0.4, 0.8, 0.5, 0.1, 0.7, 0.6, 0.1, 0.4, 0.2, 0.2]\n",
    "print(empaquetar_aprox(items))"
   ]
  },
  {
   "attachments": {},
   "cell_type": "markdown",
   "metadata": {},
   "source": [
    "**Complejidad:**  \n",
    "La complejidad de este algoritmo es O(n) ya que recorre todos los items y asigna cada uno a un paquete, lo cual es O(1)."
   ]
  },
  {
   "attachments": {},
   "cell_type": "markdown",
   "metadata": {},
   "source": [
    "**Análisis de la aproximación:**  \n",
    "Analizando los paquetes, se puede ver que:  \n",
    "- Dos paquetes consecutivos no pueden sumar <= 1 ya que sino estarían en el mismo paquete  \n",
    "- Debido al punto anterior, no puede haber dos paquetes consecutivos en donde cada uno sume <= 0.5  \n",
    "\n",
    "De esta forma, en el peor caso cada paquete suma 0.5 + ε (siendo ε un número muy chico), y si la forma óptima para armar los paquetes es que cada paquete sume 1, entonces la aproximación va a repartir los items en el doble de paquetes que la solución óptima. Por lo tanto, si tenemos una lista de la forma (0.5, ε, 0.5, ε, 0.5, ε, 0.5, ε, ..., 0.5, ε) de largo 2n, y siendo ε un numero tan chico que entren todos los items ε en un sólo paquete:  \n",
    "Solución óptima: n paquetes de tipo (0.5, 0.5) y un paquete de tipo (ε, ε, ε, ε, ..., ε) -> z(I) = n + 1  \n",
    "Solución aproximada: 2n paquetes de tipo (0.5, ε) -> A(I) = 2n  \n",
    "$$\n",
    "\\frac{A(I)}{z(I)}=\\frac{2n}{n+1}\\cong 2\n",
    "$$\n",
    "Por lo tanto r(A) en el peor caso es 2 y se puede decir que es una 2-aproximación.\n"
   ]
  },
  {
   "cell_type": "code",
   "execution_count": 16,
   "metadata": {},
   "outputs": [],
   "source": [
    "tiempos = {}\n",
    "for i in range(1, 10000, 100):\n",
    "    todos = []\n",
    "    for _ in range(100):\n",
    "        items = generador_items(i)\n",
    "        todos.append(calcular_tiempo(items, empaquetar_aprox))\n",
    "    tiempos[i] = sum(todos) / len(todos)"
   ]
  },
  {
   "cell_type": "code",
   "execution_count": 17,
   "metadata": {},
   "outputs": [
    {
     "data": {
      "image/png": "[encoded data removed]",
      "text/plain": [
       "<Figure size 432x288 with 1 Axes>"
      ]
     },
     "metadata": {
      "needs_background": "light"
     },
     "output_type": "display_data"
    }
   ],
   "source": [
    "from matplotlib import pyplot as plt\n",
    "\n",
    "plt.plot(tiempos.keys(), tiempos.values())\n",
    "plt.xlabel('n')\n",
    "plt.ylabel('Tiempo')\n",
    "plt.show()"
   ]
  },
  {
   "attachments": {},
   "cell_type": "markdown",
   "metadata": {},
   "source": [
    "4. Implementar alguna otra aproximación (u algoritmo greedy) que les parezca de interés. Comparar sus\n",
    "resultados con los dados por la aproximación del punto 3. Indicar y justificar su complejidad.\n",
    "Se recomienda realizar varias ejecuciones con distintos conjuntos de datos del mismo tamaño y promediar los tiempos medidos\n",
    "para obtener un punto a graficar. Repetir para valores de n crecientes hasta valores que sean manejables con el hardware\n",
    "donde se realiza la prueba."
   ]
  },
  {
   "cell_type": "code",
   "execution_count": 18,
   "metadata": {},
   "outputs": [],
   "source": [
    "def empaquetar_greedy(items):\n",
    "    #ordenamos los items de mayor a menor\n",
    "    items.sort(reverse=True)\n",
    "    paquetes = []\n",
    "    paquetes_suma = []\n",
    "\n",
    "    for item in items:\n",
    "        \n",
    "        # si no hay paquetes creo el primero\n",
    "        if paquetes == []:\n",
    "            paquetes.append([item])\n",
    "            paquetes_suma.append(item)\n",
    "            continue\n",
    "\n",
    "        # itero sobre los paquetes\n",
    "        agregado = False\n",
    "        for i in range(len(paquetes)):\n",
    "            # si el item entra en el paquete\n",
    "            if round(paquetes_suma[i] + item, 4) <= 1:\n",
    "                paquetes[i].append(item)\n",
    "                paquetes_suma[i] += item\n",
    "                agregado = True\n",
    "                break\n",
    "\n",
    "        # si no entra en ningun paquete\n",
    "        if not agregado:\n",
    "            paquetes.append([item])\n",
    "            paquetes_suma.append(item)\n",
    "            \n",
    "    return paquetes"
   ]
  },
  {
   "cell_type": "code",
   "execution_count": 19,
   "metadata": {},
   "outputs": [
    {
     "name": "stdout",
     "output_type": "stream",
     "text": [
      "[[0.5, 0.4, 0.1], [0.3, 0.2]]\n",
      "[[0.8, 0.2], [0.7, 0.2, 0.1], [0.6, 0.4], [0.5, 0.4, 0.1]]\n"
     ]
    }
   ],
   "source": [
    "items = [0.5, 0.4, 0.3, 0.2, 0.1]\n",
    "print(empaquetar_greedy(items))\n",
    "\n",
    "items = [0.4, 0.8, 0.5, 0.1, 0.7, 0.6, 0.1, 0.4, 0.2, 0.2]\n",
    "print(empaquetar_greedy(items))"
   ]
  },
  {
   "attachments": {},
   "cell_type": "markdown",
   "metadata": {},
   "source": [
    "**Complejidad:**  \n",
    "La complejidad de este algoritmo es O(n^2) ya que recorre todos los items y por cada uno recorre todos los paquetes para ver si entra en alguno (lo cual en el peor de los casos, la cantidad de paquetes es igual a la cantidad de items, por lo tanto, es O(n)) y si no lo encuentra, lo crea. Cada operación para introducir un elemento en un paquete o verificar si el elemento entra en un paquete se hace en tiempo constante.\n",
    "> Se nota que este algoritmo usa al principio un ordenamiento, lo cual tiene complejidad O(n logn), pero como n^2 es mayor que n logn, se toma la complejidad de n^2."
   ]
  },
  {
   "cell_type": "code",
   "execution_count": 20,
   "metadata": {},
   "outputs": [],
   "source": [
    "tiempos_aprox = {}\n",
    "tiempos_greedy = {}\n",
    "\n",
    "for i in range(10, 1000, 10):\n",
    "    todos_aprox = []\n",
    "    todos_greedy = []\n",
    "    for _ in range(50):\n",
    "        items = generador_items(i)\n",
    "        todos_aprox.append(calcular_tiempo(items, empaquetar_aprox))\n",
    "        todos_greedy.append(calcular_tiempo(items, empaquetar_greedy))\n",
    "    tiempos_aprox[i] = sum(todos_aprox) / len(todos_aprox)\n",
    "    tiempos_greedy[i] = sum(todos_greedy) / len(todos_greedy)"
   ]
  },
  {
   "cell_type": "code",
   "execution_count": 21,
   "metadata": {},
   "outputs": [
    {
     "data": {
      "image/png": "[encoded data removed]",
      "text/plain": [
       "<Figure size 432x288 with 1 Axes>"
      ]
     },
     "metadata": {
      "needs_background": "light"
     },
     "output_type": "display_data"
    }
   ],
   "source": [
    "plt.plot(tiempos_aprox.keys(), tiempos_aprox.values(), label=\"aprox\")\n",
    "plt.plot(tiempos_greedy.keys(), tiempos_greedy.values(), label=\"greedy\")\n",
    "plt.xlabel('n')\n",
    "plt.ylabel('Tiempo')\n",
    "plt.legend()\n",
    "plt.show()"
   ]
  },
  {
   "attachments": {},
   "cell_type": "markdown",
   "metadata": {},
   "source": [
    "A continuación, hacemos unas comparativas entre los 3 algoritmos. Debido a que el algoritmo de backtracking es muy lento, se harán comparativas con una cantidad chica de items y para cantidades mayores sólo se tendrán en cuenta los dos algoritmos de aproximación."
   ]
  },
  {
   "cell_type": "code",
   "execution_count": 22,
   "metadata": {},
   "outputs": [
    {
     "name": "stdout",
     "output_type": "stream",
     "text": [
      "Para 10 items:\n",
      "Backtracking -> 4 paquetes -> [[0.69, 0.22, 0.08], [0.62, 0.18, 0.18], [0.59, 0.4], [0.49, 0.49]]\n",
      "Sumas paquetes back -> [0.9899999999999999, 0.98, 0.99, 0.98]\n",
      "Algun paquete tiene un valor mayor que 1 -> [False, False, False, False]\n",
      "Cantidad de elementos totales -> 10\n",
      "\n",
      "Aproximacion -> 4 paquetes -> [[0.69, 0.22, 0.08], [0.62, 0.18, 0.18], [0.59, 0.4], [0.49, 0.49]]\n",
      "Sumas paquetes aprox -> [0.9899999999999999, 0.98, 0.99, 0.98]\n",
      "Algun paquete tiene un valor mayor que 1 -> [False, False, False, False]\n",
      "Cantidad de elementos totales -> 10\n",
      "\n",
      "Greedy -> 4 paquetes -> [[0.69, 0.22, 0.08], [0.62, 0.18, 0.18], [0.59, 0.4], [0.49, 0.49]]\n",
      "Sumas paquetes greedy -> [0.9899999999999999, 0.98, 0.99, 0.98]\n",
      "Algun paquete tiene un valor mayor que 1 -> [False, False, False, False]\n",
      "Cantidad de elementos totales -> 10\n",
      "\n"
     ]
    }
   ],
   "source": [
    "items = [0.69, 0.22, 0.08, 0.62, 0.18, 0.18, 0.59, 0.4, 0.49, 0.49]\n",
    "back = empaquetar_back(items)\n",
    "aprox = empaquetar_aprox(items)\n",
    "greedy = empaquetar_greedy(items)\n",
    "print(f\"Para {len(items)} items:\")\n",
    "print(f\"Backtracking -> {len(back)} paquetes -> {back}\")\n",
    "print(f\"Sumas paquetes back -> {[sum(p) for p in back]}\")\n",
    "print(f\"Algun paquete tiene un valor mayor que 1 -> {[sum(p) > 1.0 for p in back]}\")\n",
    "print(f\"Cantidad de elementos totales -> {sum([len(p) for p in back])}\\n\")\n",
    "print(f\"Aproximacion -> {len(aprox)} paquetes -> {aprox}\")\n",
    "print(f\"Sumas paquetes aprox -> {[sum(p) for p in aprox]}\")\n",
    "print(f\"Algun paquete tiene un valor mayor que 1 -> {[sum(p) > 1.0 for p in aprox]}\")\n",
    "print(f\"Cantidad de elementos totales -> {sum([len(p) for p in aprox])}\\n\")\n",
    "print(f\"Greedy -> {len(greedy)} paquetes -> {greedy}\")\n",
    "print(f\"Sumas paquetes greedy -> {[sum(p) for p in greedy]}\")\n",
    "print(f\"Algun paquete tiene un valor mayor que 1 -> {[sum(p) > 1.0 for p in greedy]}\")\n",
    "print(f\"Cantidad de elementos totales -> {sum([len(p) for p in greedy])}\\n\")"
   ]
  },
  {
   "cell_type": "code",
   "execution_count": 23,
   "metadata": {},
   "outputs": [
    {
     "name": "stdout",
     "output_type": "stream",
     "text": [
      "Para 10 items:\n",
      "Backtracking -> 4 paquetes -> [[0.08, 0.22, 0.69], [0.49, 0.49], [0.18, 0.18, 0.62], [0.4, 0.59]]\n",
      "Sumas paquetes back -> [0.99, 0.98, 0.98, 0.99]\n",
      "Algun paquete tiene un valor mayor que 1 -> [False, False, False, False]\n",
      "Cantidad de elementos totales -> 10\n",
      "\n",
      "Aproximacion -> 5 paquetes -> [[0.08, 0.22, 0.49, 0.18], [0.4, 0.59], [0.49], [0.69, 0.18], [0.62]]\n",
      "Sumas paquetes aprox -> [0.97, 0.99, 0.49, 0.8699999999999999, 0.62]\n",
      "Algun paquete tiene un valor mayor que 1 -> [False, False, False, False, False]\n",
      "Cantidad de elementos totales -> 10\n",
      "\n",
      "Greedy -> 4 paquetes -> [[0.69, 0.22, 0.08], [0.62, 0.18, 0.18], [0.59, 0.4], [0.49, 0.49]]\n",
      "Sumas paquetes greedy -> [0.9899999999999999, 0.98, 0.99, 0.98]\n",
      "Algún paquete tiene un valor mayor que 1 -> [False, False, False, False]\n",
      "Cantidad de elementos totales -> 10\n",
      "\n"
     ]
    }
   ],
   "source": [
    "items = [0.08, 0.22, 0.49, 0.18, 0.4, 0.59, 0.49, 0.69, 0.18, 0.62]\n",
    "back = empaquetar_back(items)\n",
    "aprox = empaquetar_aprox(items)\n",
    "greedy = empaquetar_greedy(items)\n",
    "print(f\"Para {len(items)} items:\")\n",
    "print(f\"Backtracking -> {len(back)} paquetes -> {back}\")\n",
    "print(f\"Sumas paquetes back -> {[sum(p) for p in back]}\")\n",
    "print(f\"Algun paquete tiene un valor mayor que 1 -> {[sum(p) > 1.0 for p in back]}\")\n",
    "print(f\"Cantidad de elementos totales -> {sum([len(p) for p in back])}\\n\")\n",
    "print(f\"Aproximacion -> {len(aprox)} paquetes -> {aprox}\")\n",
    "print(f\"Sumas paquetes aprox -> {[sum(p) for p in aprox]}\")\n",
    "print(f\"Algun paquete tiene un valor mayor que 1 -> {[sum(p) > 1.0 for p in aprox]}\")\n",
    "print(f\"Cantidad de elementos totales -> {sum([len(p) for p in aprox])}\\n\")\n",
    "print(f\"Greedy -> {len(greedy)} paquetes -> {greedy}\")\n",
    "print(f\"Sumas paquetes greedy -> {[sum(p) for p in greedy]}\")\n",
    "print(f\"Algún paquete tiene un valor mayor que 1 -> {[sum(p) > 1.0 for p in greedy]}\")\n",
    "print(f\"Cantidad de elementos totales -> {sum([len(p) for p in greedy])}\\n\")"
   ]
  },
  {
   "cell_type": "code",
   "execution_count": 24,
   "metadata": {},
   "outputs": [],
   "source": [
    "items1 = generador_items(5)\n",
    "items2 = generador_items(10)\n",
    "items3 = generador_items(15)\n",
    "\n",
    "back1 = empaquetar_back(items1)\n",
    "back2 = empaquetar_back(items2)\n",
    "back3 = empaquetar_back(items3)\n",
    "\n",
    "aprox1 = empaquetar_aprox(items1)\n",
    "aprox2 = empaquetar_aprox(items2)\n",
    "aprox3 = empaquetar_aprox(items3)\n",
    "\n",
    "greedy1 = empaquetar_greedy(items1)\n",
    "greedy2 = empaquetar_greedy(items2)\n",
    "greedy3 = empaquetar_greedy(items3)"
   ]
  },
  {
   "cell_type": "code",
   "execution_count": 25,
   "metadata": {},
   "outputs": [
    {
     "name": "stdout",
     "output_type": "stream",
     "text": [
      "Para 5 items:\n",
      "Backtracking -> 3 paquetes -> [[0.4, 0.4, 0.14], [0.36], [0.88]]\n",
      "Sumas paquetes back -> [0.9400000000000001, 0.36, 0.88]\n",
      "Algun paquete tiene un valor mayor que 1 -> [False, False, False]\n",
      "Cantidad de elementos totales -> 5\n",
      "Aproximacion -> 3 paquetes -> [[0.4, 0.4], [0.36, 0.14], [0.88]]\n",
      "Sumas paquetes aprox -> [0.8, 0.5, 0.88]\n",
      "Algun paquete tiene un valor mayor que 1 -> [False, False, False]\n",
      "Cantidad de elementos totales -> 5\n",
      "Greedy -> 3 paquetes -> [[0.88], [0.4, 0.4, 0.14], [0.36]]\n",
      "Sumas paquetes greedy -> [0.88, 0.9400000000000001, 0.36]\n",
      "Algun paquete tiene un valor mayor que 1 -> [False, False, False]\n",
      "Cantidad de elementos totales -> 5\n",
      "\n",
      "Para 10 items:\n",
      "Backtracking -> 7 paquetes -> [[0.32, 0.66], [0.18, 0.69], [0.98], [0.14, 0.85], [0.87], [0.93], [0.99]]\n",
      "sumas paquetes back -> [0.98, 0.8699999999999999, 0.98, 0.99, 0.87, 0.93, 0.99]\n",
      "Algun paquete tiene un valor mayor que 1 -> [False, False, False, False, False, False, False]\n",
      "Cantidad de elementos totales -> 10\n",
      "Aproximacion -> 8 paquetes -> [[0.32, 0.18], [0.66], [0.98], [0.69, 0.14], [0.85], [0.87], [0.93], [0.99]]\n",
      "sumas paquetes aprox -> [0.5, 0.66, 0.98, 0.83, 0.85, 0.87, 0.93, 0.99]\n",
      "Algun paquete tiene un valor mayor que 1 -> [False, False, False, False, False, False, False, False]\n",
      "Cantidad de elementos totales -> 10\n",
      "Greedy -> 7 paquetes -> [[0.99], [0.98], [0.93], [0.87], [0.85, 0.14], [0.69, 0.18], [0.66, 0.32]]\n",
      "sumas paquetes greedy -> [0.99, 0.98, 0.93, 0.87, 0.99, 0.8699999999999999, 0.98]\n",
      "Algun paquete tiene un valor mayor que 1 -> [False, False, False, False, False, False, False]\n",
      "Cantidad de elementos totales -> 10\n",
      "\n",
      "Para 15 items:\n",
      "Backtracking -> 8 paquetes -> [[0.04, 0.59, 0.14, 0.16], [0.91], [0.98], [0.31, 0.67], [0.36, 0.59], [0.9], [0.51, 0.46], [0.15, 0.72]]\n",
      "sumas paquetes back -> [0.93, 0.91, 0.98, 0.98, 0.95, 0.9, 0.97, 0.87]\n",
      "Algun paquete tiene un valor mayor que 1 -> [False, False, False, False, False, False, False, False]\n",
      "Cantidad de elementos totales -> 15\n",
      "Aproximacion -> 11 paquetes -> [[0.04, 0.59], [0.91], [0.14], [0.98], [0.31, 0.36], [0.9], [0.51, 0.16, 0.15], [0.72], [0.67], [0.46], [0.59]]\n",
      "sumas paquetes aprox -> [0.63, 0.91, 0.14, 0.98, 0.6699999999999999, 0.9, 0.8200000000000001, 0.72, 0.67, 0.46, 0.59]\n",
      "Algun paquete tiene un valor mayor que 1 -> [False, False, False, False, False, False, False, False, False, False, False]\n",
      "Cantidad de elementos totales -> 15\n",
      "Greedy -> 8 paquetes -> [[0.98], [0.91, 0.04], [0.9], [0.72, 0.16], [0.67, 0.31], [0.59, 0.36], [0.59, 0.15, 0.14], [0.51, 0.46]]\n",
      "sumas paquetes greedy -> [0.98, 0.9500000000000001, 0.9, 0.88, 0.98, 0.95, 0.88, 0.97]\n",
      "Algun paquete tiene un valor mayor que 1 -> [False, False, False, False, False, False, False, False]\n",
      "Cantidad de elementos totales -> 15\n",
      "\n"
     ]
    }
   ],
   "source": [
    "print(\"Para 5 items:\")\n",
    "print(f\"Backtracking -> {len(back1)} paquetes -> {back1}\")\n",
    "print(f\"Sumas paquetes back -> {[sum(p) for p in back1]}\")\n",
    "print(f\"Algun paquete tiene un valor mayor que 1 -> {[sum(p) > 1.0 for p in back1]}\")\n",
    "print(f\"Cantidad de elementos totales -> {sum([len(p) for p in back1])}\")\n",
    "print(f\"Aproximacion -> {len(aprox1)} paquetes -> {aprox1}\")\n",
    "print(f\"Sumas paquetes aprox -> {[sum(p) for p in aprox1]}\")\n",
    "print(f\"Algun paquete tiene un valor mayor que 1 -> {[sum(p) > 1.0 for p in aprox1]}\")\n",
    "print(f\"Cantidad de elementos totales -> {sum([len(p) for p in aprox1])}\")\n",
    "print(f\"Greedy -> {len(greedy1)} paquetes -> {greedy1}\")\n",
    "print(f\"Sumas paquetes greedy -> {[sum(p) for p in greedy1]}\")\n",
    "print(f\"Algun paquete tiene un valor mayor que 1 -> {[sum(p) > 1.0 for p in greedy1]}\")\n",
    "print(f\"Cantidad de elementos totales -> {sum([len(p) for p in greedy1])}\\n\")\n",
    "\n",
    "print(\"Para 10 items:\")\n",
    "print(f\"Backtracking -> {len(back2)} paquetes -> {back2}\")\n",
    "print(f\"sumas paquetes back -> {[sum(p) for p in back2]}\")\n",
    "print(f\"Algun paquete tiene un valor mayor que 1 -> {[sum(p) > 1.0 for p in back2]}\")\n",
    "print(f\"Cantidad de elementos totales -> {sum([len(p) for p in back2])}\")\n",
    "print(f\"Aproximacion -> {len(aprox2)} paquetes -> {aprox2}\")\n",
    "print(f\"sumas paquetes aprox -> {[sum(p) for p in aprox2]}\")\n",
    "print(f\"Algun paquete tiene un valor mayor que 1 -> {[sum(p) > 1.0 for p in aprox2]}\")\n",
    "print(f\"Cantidad de elementos totales -> {sum([len(p) for p in aprox2])}\")\n",
    "print(f\"Greedy -> {len(greedy2)} paquetes -> {greedy2}\")\n",
    "print(f\"sumas paquetes greedy -> {[sum(p) for p in greedy2]}\")\n",
    "print(f\"Algun paquete tiene un valor mayor que 1 -> {[sum(p) > 1.0 for p in greedy2]}\")\n",
    "print(f\"Cantidad de elementos totales -> {sum([len(p) for p in greedy2])}\\n\")\n",
    "\n",
    "print(\"Para 15 items:\")\n",
    "print(f\"Backtracking -> {len(back3)} paquetes -> {back3}\")\n",
    "print(f\"sumas paquetes back -> {[sum(p) for p in back3]}\")\n",
    "print(f\"Algun paquete tiene un valor mayor que 1 -> {[sum(p) > 1.0 for p in back3]}\")\n",
    "print(f\"Cantidad de elementos totales -> {sum([len(p) for p in back3])}\")\n",
    "print(f\"Aproximacion -> {len(aprox3)} paquetes -> {aprox3}\")\n",
    "print(f\"sumas paquetes aprox -> {[sum(p) for p in aprox3]}\")\n",
    "print(f\"Algun paquete tiene un valor mayor que 1 -> {[sum(p) > 1.0 for p in aprox3]}\")\n",
    "print(f\"Cantidad de elementos totales -> {sum([len(p) for p in aprox3])}\")\n",
    "print(f\"Greedy -> {len(greedy3)} paquetes -> {greedy3}\")\n",
    "print(f\"sumas paquetes greedy -> {[sum(p) for p in greedy3]}\")\n",
    "print(f\"Algun paquete tiene un valor mayor que 1 -> {[sum(p) > 1.0 for p in greedy3]}\")\n",
    "print(f\"Cantidad de elementos totales -> {sum([len(p) for p in greedy3])}\\n\")"
   ]
  },
  {
   "attachments": {},
   "cell_type": "markdown",
   "metadata": {},
   "source": [
    "Realizamos la comparativa entre los algoritmos de aproximación, una con menos iteraciones pero más detalladas, y otra con menos detalles pero una cantidad de iteraciones mayor."
   ]
  },
  {
   "cell_type": "code",
   "execution_count": 26,
   "metadata": {},
   "outputs": [],
   "source": [
    "with open(\"comparativa.txt\", \"w\") as f:\n",
    "    for i in range(1, 50, 10):\n",
    "        items = generador_items(i)\n",
    "        aprox = empaquetar_aprox(items)\n",
    "        greedy = empaquetar_greedy(items)\n",
    "        f.write(f\"Para {i} items:\\n\")\n",
    "        f.write(f\"Aproximacion -> {len(aprox)} paquetes -> {aprox}\\n\")\n",
    "        f.write(f\"Greedy -> {len(greedy)} paquetes -> {greedy}\\n\\n\")"
   ]
  },
  {
   "cell_type": "code",
   "execution_count": 27,
   "metadata": {},
   "outputs": [],
   "source": [
    "with open(\"comparativa2.txt\", \"w\") as f:\n",
    "    for i in range(1, 2500, 50):\n",
    "        items = generador_items(i)\n",
    "        aprox = empaquetar_aprox(items)\n",
    "        greedy = empaquetar_greedy(items)\n",
    "        f.write(f\"Para {i} items:\\n\")\n",
    "        f.write(f\"Aproximacion -> {len(aprox)} paquetes\\n\")\n",
    "        f.write(f\"Greedy -> {len(greedy)} paquetes\\n\\n\")\n",
    "        f.write(f\"Diferecia -> {len(aprox) - len(greedy)}\\n\\n\")"
   ]
  },
  {
   "attachments": {},
   "cell_type": "markdown",
   "metadata": {},
   "source": [
    "Dados los 3 algoritmos:  \n",
    "- Backtracking -> O(2^n)  \n",
    "- Aproximación cátedra -> O(n)  \n",
    "- Aproximación greedy -> O(n^2)\n",
    "\n",
    "(Siendo n en todos los casos la cantidad de elementos)\n",
    "\n",
    "Para elegir entre los algoritmos vamos a tener en cuenta el tiempo de ejecución y la optimalidad de la solución.  \n",
    "\n",
    "Respecto al tiempo de ejecución, el algoritmo de backtracking es el que peor tiempo de ejecución tiene, llegando a tardar un tiempo largo para una cantidad de items relativamente pequeña. Por otro lado, los algoritmos de aproximación tardan un tiempo mucho menor, siendo el algoritmo de aproximación de la cátedra el que menos tarda y el algoritmo greedy el que más tarda, pero esperando tiempos muy pequeños para inputs con miles de elementos (para 1000 elementos tarda décimas de segundos).  \n",
    "\n",
    "Respecto a la optimalidad, el algoritmo de backtraking es óptimo por definicion ya que ve todas las alternativas posibles y elige la que cumple la condicion de ser óptima. Respecto a las aproximaciones, ambas suelen dan resultados diferentes al optimo pero el algoritmo greedy da mejores soluciones ya que su resultado no depende del orden en el que le pasen los elementos, lo que permite que las mismas sean bastante cercanas al óptimo.\n",
    "\n",
    "Por lo tanto, elegimos el algoritmo de aproximación greedy ya que da resultados muy cercanos al óptimo sin alejarse mucho de los tiempos de ejecución de la aproximación de la cátedra."
   ]
  }
 ],
 "metadata": {
  "kernelspec": {
   "display_name": "Python 3",
   "language": "python",
   "name": "python3"
  },
  "language_info": {
   "codemirror_mode": {
    "name": "ipython",
    "version": 3
   },
   "file_extension": ".py",
   "mimetype": "text/x-python",
   "name": "python",
   "nbconvert_exporter": "python",
   "pygments_lexer": "ipython3",
   "version": "3.10.4"
  },
  "orig_nbformat": 4
 },
 "nbformat": 4,
 "nbformat_minor": 2
}
