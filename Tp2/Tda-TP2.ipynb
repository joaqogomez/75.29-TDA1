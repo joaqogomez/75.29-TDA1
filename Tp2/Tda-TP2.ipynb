{
 "cells": [
  {
   "attachments": {},
   "cell_type": "markdown",
   "metadata": {},
   "source": [
    "Dado un conjunto de n objetos cuyos tamaños son {T1, T2,··· , Tn}, con Ti ∈ (0,1], se debe empaquetarlos usando la mínima cantidad de envases de capacidad 1. "
   ]
  },
  {
   "attachments": {},
   "cell_type": "markdown",
   "metadata": {},
   "source": [
    "Solución por backtracking/fuerza bruta."
   ]
  },
  {
   "cell_type": "code",
   "execution_count": 55,
   "metadata": {},
   "outputs": [],
   "source": [
    "# to use deepcopy\n",
    "from copy import deepcopy\n",
    "from math import inf\n",
    "\n",
    "def _empaquetar_back(items, paquetes, tabs=0, len_min=inf):\n",
    "    if len(items) == 0:\n",
    "        # print(\"\\t\"*tabs, \"items:\", items)\n",
    "        # print(\"\\t\"*tabs, \"paquetes:\", paquetes)\n",
    "        return paquetes\n",
    "    \n",
    "    # tomamos el primer item\n",
    "    item = items.pop(0)\n",
    "\n",
    "    # agrego un nuevo paquete\n",
    "    if paquetes == []:\n",
    "        paquetes.append([item])\n",
    "        return _empaquetar_back(items.copy(), deepcopy(paquetes), tabs+1)\n",
    "\n",
    "    # hay que empaquetar el item\n",
    "    # puede ser en un paquete existente\n",
    "    # o en un paquete nuevo\n",
    "    opciones = []\n",
    "    # print(\"\\t\"*tabs, \"item:\", item)\n",
    "    # print(\"\\t\"*tabs, \"paquetes:\", paquetes)\n",
    "    for i in range(len(paquetes)):\n",
    "        if sum(paquetes[i]) + item <= 1:\n",
    "            paquetes_copia = deepcopy(paquetes)\n",
    "            paquetes_copia[i].append(item)\n",
    "            opcion = _empaquetar_back(items.copy(), paquetes_copia, tabs+1, len_min)\n",
    "            # if len(opcion) < len_min:\n",
    "            #     len_min = len(opcion)\n",
    "            #     opciones = [opcion]\n",
    "\n",
    "    \n",
    "    # if len(opciones) + 1 <= len_min:\n",
    "    paquetes_copia = deepcopy(paquetes)\n",
    "    paquetes_copia.append([item])\n",
    "    opciones.append(_empaquetar_back(items.copy(), paquetes_copia, tabs+1, len_min))\n",
    "            \n",
    "    # print(\"\\t\"*tabs, \"opciones:\", opciones)\n",
    "    min = opciones[0]\n",
    "\n",
    "    for opcion in opciones:\n",
    "        if len(opcion) < len(min):\n",
    "            min = opcion\n",
    "\n",
    "    # print(\"\\t\"*tabs, \"min:\", min)\n",
    "\n",
    "    return min\n",
    "            \n",
    "def empaquetar_back(items):\n",
    "    paquetes = []\n",
    "    return _empaquetar_back(items, paquetes)"
   ]
  },
  {
   "cell_type": "code",
   "execution_count": 56,
   "metadata": {},
   "outputs": [
    {
     "name": "stdout",
     "output_type": "stream",
     "text": [
      "[[0.5], [0.4], [0.3], [0.2], [0.1]]\n"
     ]
    }
   ],
   "source": [
    "items =  [0.5, 0.4, 0.3, 0.2, 0.1]\n",
    "print(empaquetar_back(items))"
   ]
  },
  {
   "cell_type": "code",
   "execution_count": 57,
   "metadata": {},
   "outputs": [
    {
     "name": "stdout",
     "output_type": "stream",
     "text": [
      "[[0.4], [0.8], [0.5], [0.1], [0.7], [0.6], [0.1], [0.4], [0.2], [0.2]]\n"
     ]
    }
   ],
   "source": [
    "# {0.4; 0.8; 0.5; 0.1; 0.7; 0.6; 0.1; 0.4; 0.2; 0.2}\n",
    "items = [0.4, 0.8, 0.5, 0.1, 0.7, 0.6, 0.1, 0.4, 0.2, 0.2]\n",
    "print(empaquetar_back(items))"
   ]
  },
  {
   "cell_type": "code",
   "execution_count": null,
   "metadata": {},
   "outputs": [],
   "source": []
  }
 ],
 "metadata": {
  "kernelspec": {
   "display_name": "Python 3",
   "language": "python",
   "name": "python3"
  },
  "language_info": {
   "codemirror_mode": {
    "name": "ipython",
    "version": 3
   },
   "file_extension": ".py",
   "mimetype": "text/x-python",
   "name": "python",
   "nbconvert_exporter": "python",
   "pygments_lexer": "ipython3",
   "version": "3.10.4"
  },
  "orig_nbformat": 4
 },
 "nbformat": 4,
 "nbformat_minor": 2
}
