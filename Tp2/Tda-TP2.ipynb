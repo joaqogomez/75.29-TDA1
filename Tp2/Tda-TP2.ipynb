{
 "cells": [
  {
   "attachments": {},
   "cell_type": "markdown",
   "metadata": {},
   "source": [
    "# Trabajo Práctico 2: Problema de Empaquetamiento\n",
    "El presente trabajo busca evaluar el desarrollo y análisis de un problema NP Completo, la implementación de una solución\n",
    "exacta así como una aproximada y su análisis. La primera fecha de entrega del TP será el 05/06/23, mientras que la segunda\n",
    "fecha de entrega (con reducción de nota) será el 12/06/23."
   ]
  },
  {
   "attachments": {},
   "cell_type": "markdown",
   "metadata": {},
   "source": [
    "## Definición del problema\n",
    "Dado un conjunto de n objetos cuyos tamaños son {T1, T2, · · · , Tn}, con Ti ∈ (0, 1], se debe empaquetarlos usando la mínima\n",
    "cantidad de envases de capacidad 1."
   ]
  },
  {
   "attachments": {},
   "cell_type": "markdown",
   "metadata": {},
   "source": [
    "### Enunciado\n",
    "1. Demostrar que el problema de empaquetamiento es NP-Completo.\n",
    "2. Programar un algoritmo por Backtracking/Fuerza Bruta que busque la solución exacta del problema. Indicar la\n",
    "complejidad del mismo. Realizar mediciones del tiempo de ejecución, y realizar gráficos en función de n.\n",
    "3. Considerar el siguiente algoritmo: Se abre el primer envase y se empaqueta el primer objeto, luego por cada uno de los\n",
    "objetos restantes se prueba si cabe en el envase actual que está abierto. Si es así, se lo agrega a dicho envase, y se sigue\n",
    "con el siguiente objeto. Si no entra, se cierra el envase actual, se abre uno nuevo que pasa a ser el envase actual, se\n",
    "empaqueta el objeto y se prosigue con el siguiente.\n",
    "Este algoritmo sirve como una aproximación para resolver el problema de empaquetamiento. Implementar dicho\n",
    "algoritmo, analizar su complejidad, y analizar cuán buena aproximación es. Para esto, considerar lo siguiente: Sea I una\n",
    "instancia cualquiera del problema de empaquetamiento, y z(I) una solución óptima para dicha instancia, y sea A(I) la\n",
    "solución aproximada, se define A(I)/z(I) ≤ r(A) para todas las instancias posibles. Calcular r(A) para el algoritmo dado,\n",
    "demostrando que la cota está bien calculada. Realizar mediciones utilizando el algoritmo exacto y la aproximación, con\n",
    "el objetivo de verificar dicha relación.\n",
    "4. Implementar alguna otra aproximación (u algoritmo greedy) que les parezca de interés. Comparar sus\n",
    "resultados con los dados por la aproximación del punto 3. Indicar y justificar su complejidad.\n",
    "Se recomienda realizar varias ejecuciones con distintos conjuntos de datos del mismo tamaño y promediar los tiempos medidos\n",
    "para obtener un punto a graficar. Repetir para valores de n crecientes hasta valores que sean manejables con el hardware\n",
    "donde se realiza la prueba."
   ]
  },
  {
   "attachments": {},
   "cell_type": "markdown",
   "metadata": {},
   "source": [
    "1. Demostrar que el problema de empaquetamiento es NP-Completo.\n"
   ]
  },
  {
   "attachments": {},
   "cell_type": "markdown",
   "metadata": {},
   "source": [
    "Para demostrar que el problema de empaquetamiento es NP-Completo, se debe demostrar que es NP y luego reducir un problema NP-Completo a este problema."
   ]
  },
  {
   "attachments": {},
   "cell_type": "markdown",
   "metadata": {},
   "source": [
    "Para demostrar que es NP, se debe demostrar que existe un algoritmo polinomial que verifica si una solución es correcta.  \n",
    "En este caso, dada una lista de elementos y una lista de elementos empaquetados, para verificar que la solución es correcta hay que:  \n",
    "1. Verificar que todos los elementos estén en algún paquete  \n",
    "2. Verificar que la suma de los elementos de cada paquete sea menor o igual a 1  \n",
    "3. Verificar que la cantidad de paquetes sea la mínima posible  \n",
    "\n",
    "Los puntos 1 y 2 se pueden verificar en forma polinomial, pero, si uno no conoce de antemano la cantidad mínima de paquetes, el punto 3 no se puede verificar en forma polinomial (ya que habría que resolver el problema de empaquetamiento el cual estamos en proceso de demostrar que es NP-Completo)."
   ]
  },
  {
   "attachments": {},
   "cell_type": "markdown",
   "metadata": {},
   "source": [
    "Para verificar que un resultado es correcto, vamos a verificar que todos los items estén en algún paquete, que no haya items de más en los paquetes y que la suma de los items de cada paquete sea menor o igual a 1.  \n",
    "Además, verificamos si no hay dos paquetes que puedan ser unidos en uno solo, ya que si se puede unir dos paquetes, entonces no es una solución óptima. Esto no verifica completamente que la cantidad de paquetes sea la mínima, ya que no hace una reorganización de items entre paquetes (ya que para esa verificación es necesario resolver el problema de empaquetamiento)."
   ]
  },
  {
   "cell_type": "code",
   "execution_count": 23,
   "metadata": {},
   "outputs": [
    {
     "name": "stdout",
     "output_type": "stream",
     "text": [
      "Ejemplo 1 ->  True\n",
      "Ejemplo 2 ->  False\n",
      "Ejemplo 3 ->  False\n",
      "Ejemplo 4 ->  False\n",
      "Ejemplo 5 ->  False\n"
     ]
    }
   ],
   "source": [
    "def verificacion_paquetes(items, paquetes): # n -> #items | p -> #paquetes\n",
    "    # Cond1: Verifico si todos los items estan en algun paquete\n",
    "    paquetes_flatten = [item for sublist in paquetes for item in sublist]\n",
    "\n",
    "    for item in items: # n veces\n",
    "        if item in paquetes_flatten:\n",
    "            paquetes_flatten.remove(item) # O(n) -> Busca el item y lo remueve\n",
    "        else:\n",
    "            return False\n",
    "    # n * O(n) = O(n^2)\n",
    "\n",
    "    if len(paquetes_flatten) > 0: # O(1)\n",
    "        return False # Hay items de más en los paquetes\n",
    "\n",
    "    # Cond2: Verifico que ningún paquete sume más de 1\n",
    "    if not all(sum(paquete) <= 1 for paquete in paquetes): # O(n) (Dado que ya se verificó que \n",
    "        return False            # los paquetes en conjunto tienen a todos los items, hacer todas\n",
    "                                # las sumas tiene en cuenta a todos los items una vez)\n",
    "    \n",
    "    # Cond3: Verifico que ningún paquete pueda agregarse a otro\n",
    "    for paquete in paquetes: # p veces\n",
    "        for otro_paquete in paquetes: # O(n) (Dado que este ciclo recorre todos los items una vez\n",
    "            if paquete != otro_paquete:     # y por cada item hace operaciones constantes)\n",
    "                if sum(paquete + otro_paquete) <= 1: \n",
    "                    return False                \n",
    "    # p * O(n) = O(p*n)\n",
    "\n",
    "    return True\n",
    "# Complejidad: O(n^2 + p*n)\n",
    "# Dado que n >= p, la complejidad es O(n^2)\n",
    "\n",
    "# Ejemplo 1 -> Correcto\n",
    "items = [0.4, 0.8, 0.5, 0.1, 0.7, 0.6, 0.1, 0.4, 0.2, 0.2]\n",
    "paquetes = [[0.5, 0.4, 0.1], [0.8, 0.2], [0.7, 0.2, 0.1], [0.6, 0.4]]\n",
    "print(\"Ejemplo 1 -> \", verificacion_paquetes(items, paquetes))\n",
    "\n",
    "# Ejemplo 2 -> Incorrecto (falta el 0.1)\n",
    "items = [0.4, 0.8, 0.5, 0.1, 0.7, 0.6, 0.1, 0.4, 0.2, 0.2]\n",
    "paquetes = [[0.5, 0.4], [0.8, 0.2], [0.7, 0.2, 0.1], [0.6, 0.4]]\n",
    "print(\"Ejemplo 2 -> \", verificacion_paquetes(items, paquetes))\n",
    "\n",
    "# Ejemplo 3 -> Incorrecto (sobra el 0.1)\n",
    "items = [0.4, 0.8, 0.5, 0.1, 0.7, 0.6, 0.1, 0.4, 0.2, 0.2]\n",
    "paquetes = [[0.5, 0.4, 0.1], [0.8, 0.2], [0.7, 0.2, 0.1], [0.6, 0.4], [0.1]]\n",
    "print(\"Ejemplo 3 -> \", verificacion_paquetes(items, paquetes))\n",
    "\n",
    "# Ejemplo 4 -> Incorrecto (Un paquete suma más de 1)\n",
    "items = [0.4, 0.8, 0.5, 0.1, 0.7, 0.6, 0.1, 0.4, 0.2, 0.2]\n",
    "paquetes = [[0.6, 0.4, 0.1], [0.8, 0.2], [0.7, 0.2, 0.1], [0.5, 0.4]]\n",
    "print(\"Ejemplo 4 -> \", verificacion_paquetes(items, paquetes))\n",
    "\n",
    "# Ejemplo 5 -> Incorrecto (Un paquete puede agregarse a otro)\n",
    "items = [0.4, 0.8, 0.5, 0.1, 0.7, 0.6, 0.1, 0.4, 0.2, 0.2]\n",
    "paquetes = [[0.5, 0.4, 0.1], [0.8, 0.2], [0.7, 0.2, 0.1], [0.6], [0.4]]\n",
    "print(\"Ejemplo 5 -> \", verificacion_paquetes(items, paquetes))\n"
   ]
  },
  {
   "attachments": {},
   "cell_type": "markdown",
   "metadata": {},
   "source": [
    "Dado que esta verificación es O(n²), siendo n la cantidad de items, entonces la verificación del problema de empaquetamiento es polinomial y por lo tanto el problema de empaquetamiento es NP."
   ]
  },
  {
   "attachments": {},
   "cell_type": "markdown",
   "metadata": {},
   "source": [
    "Ahora resta demostrar que el problema de empaquetamiento es NP-Completo. Para esto, se va a reducir un problema NP-Completo al problema de empaquetamiento.\n",
    "El problema que se va a reducir al problema de empaquetamiento es el problema de Subset Sum, el cual es NP-Completo.\n",
    "\n",
    "**Problema de Subset Sum**  \n",
    "Dada una lista de enteros L y un entero S, se debe determinar si existe un subconjunto de L cuya suma sea S.\n",
    "\n",
    "**Reducción de Subset Sum a Empaquetamiento**  \n",
    "Dada una instancia del problema de Subset Sum, se resuelve con el algoritmo de empaquetamiento de la siguiente forma:\n",
    "1. Se toma el positivo S y se divide a toda la lista L por S, obteniendo una lista L' de elementos entre 0 y 1.\n",
    "2. Se resuelve el problema de empaquetamiento con la lista L' y se obtiene una lista de paquetes P.\n",
    "3. Se toma el positivo S y se multiplica a toda la lista de paquetes P por S, obteniendo una lista de paquetes P' de capacidad S.\n",
    "4. Iteramos a lo largo de la lista de paquetes P' y si hay algún paquete que tenga una suma de elementos igual a S, entonces la solución es verdadera, sino es falsa.\n",
    "\n",
    "> Dado que el problema de empaquetamiento busca devolver la minima cantidad de paquetes, si es posible armar paquetes que sumen exactamente 1 lo va a hacer dado que contribuirá a tener menos paquetes. De esta forma, si el problema de empaquetamiento devuelve algún paquete que sume exactamente 1, al multiplicarlo por S, se obtendrá un paquete que sume exactamente S.\n"
   ]
  },
  {
   "attachments": {},
   "cell_type": "markdown",
   "metadata": {},
   "source": [
    "2. Programar un algoritmo por Backtracking/Fuerza Bruta que busque la solución exacta del problema. Indicar la complejidad del mismo. Realizar mediciones del tiempo de ejecución, y realizar gráficos en función de n."
   ]
  },
  {
   "cell_type": "code",
   "execution_count": 24,
   "metadata": {},
   "outputs": [],
   "source": [
    "# to use deepcopy\n",
    "from copy import deepcopy\n",
    "from math import inf\n",
    "\n",
    "def _empaquetar_back(items, paquetes, tabs=0, len_min=inf):\n",
    "    if len(items) == 0:\n",
    "        # print(\"\\t\"*tabs, \"items:\", items)\n",
    "        # print(\"\\t\"*tabs, \"paquetes:\", paquetes)\n",
    "        return paquetes\n",
    "    \n",
    "    # tomamos el primer item\n",
    "    item = items.pop(0)\n",
    "\n",
    "    # agrego un nuevo paquete\n",
    "    if paquetes == []:\n",
    "        paquetes.append([item])\n",
    "        return _empaquetar_back(items.copy(), deepcopy(paquetes), tabs+1)\n",
    "\n",
    "    # hay que empaquetar el item\n",
    "    # puede ser en un paquete existente\n",
    "    # o en un paquete nuevo\n",
    "    opciones = []\n",
    "    # print(\"\\t\"*tabs, \"item:\", item)\n",
    "    # print(\"\\t\"*tabs, \"paquetes:\", paquetes)\n",
    "    for i in range(len(paquetes)):\n",
    "        if sum(paquetes[i]) + item <= 1:\n",
    "            paquetes_copia = deepcopy(paquetes)\n",
    "            paquetes_copia[i].append(item)\n",
    "            opcion = _empaquetar_back(items.copy(), paquetes_copia, tabs+1, len_min)\n",
    "            if len(opcion) < len_min:\n",
    "               len_min = len(opcion)\n",
    "               opciones = [opcion]\n",
    "\n",
    "    \n",
    "    if len(opciones) + 1 <= len_min:\n",
    "        paquetes_copia = deepcopy(paquetes)\n",
    "        paquetes_copia.append([item])\n",
    "        opciones.append(_empaquetar_back(items.copy(), paquetes_copia, tabs+1, len_min))\n",
    "                \n",
    "    # print(\"\\t\"*tabs, \"opciones:\", opciones)\n",
    "    min = opciones[0]\n",
    "\n",
    "    for opcion in opciones:\n",
    "        if len(opcion) < len(min):\n",
    "            min = opcion\n",
    "\n",
    "    # print(\"\\t\"*tabs, \"min:\", min)\n",
    "\n",
    "    return min\n",
    "            \n",
    "def empaquetar_back(items):\n",
    "    paquetes = []\n",
    "    return _empaquetar_back(items.copy(), paquetes)"
   ]
  },
  {
   "cell_type": "code",
   "execution_count": 25,
   "metadata": {},
   "outputs": [
    {
     "name": "stdout",
     "output_type": "stream",
     "text": [
      "[[0.5, 0.4, 0.1], [0.3, 0.2]]\n",
      "[[0.4, 0.5, 0.1], [0.8, 0.2], [0.7, 0.1, 0.2], [0.6, 0.4]]\n"
     ]
    }
   ],
   "source": [
    "items = [0.5, 0.4, 0.3, 0.2, 0.1]\n",
    "print(empaquetar_back(items))\n",
    "\n",
    "# {0.4; 0.8; 0.5; 0.1; 0.7; 0.6; 0.1; 0.4; 0.2; 0.2}\n",
    "items = [0.4, 0.8, 0.5, 0.1, 0.7, 0.6, 0.1, 0.4, 0.2, 0.2]\n",
    "print(empaquetar_back(items))"
   ]
  },
  {
   "attachments": {},
   "cell_type": "markdown",
   "metadata": {},
   "source": [
    "Aprovechamos la resolución del problema de empaquetamiento para resolver el problema de subset sum."
   ]
  },
  {
   "cell_type": "code",
   "execution_count": 26,
   "metadata": {},
   "outputs": [],
   "source": [
    "def _subset_sum(lista, n):\n",
    "    items_n = [round(i/n, 3) for i in lista]\n",
    "    paquetes = empaquetar_back(items_n)\n",
    "    paquetes_n = []\n",
    "    for paquete in paquetes:\n",
    "        paquetes_n.append([round(i*n) for i in paquete])\n",
    "    for paquete in paquetes_n:\n",
    "        if sum(paquete) == n:\n",
    "            return paquete\n",
    "    return None\n",
    "\n",
    "def subset_sum(lista, n):\n",
    "    return _subset_sum(lista, n) != None"
   ]
  },
  {
   "cell_type": "code",
   "execution_count": 27,
   "metadata": {},
   "outputs": [
    {
     "name": "stdout",
     "output_type": "stream",
     "text": [
      "[4, 8, 5, 1, 7, 6, 1, 4, 2, 2], n = 9 ->  True\n",
      "[4, 8, 7, 6, 4], n = 9 ->  False\n",
      "[4, 7, 6, 4, 1], n = 9 ->  True\n",
      "[4, 7, 6, 4, 1], n = 13 ->  False\n"
     ]
    }
   ],
   "source": [
    "items_subset = [4, 8, 5, 1, 7, 6, 1, 4, 2, 2]\n",
    "print(\"[4, 8, 5, 1, 7, 6, 1, 4, 2, 2], n = 9 -> \", subset_sum(items_subset, 9))\n",
    "\n",
    "items_subset = [4, 8, 7, 6, 4]\n",
    "print(\"[4, 8, 7, 6, 4], n = 9 -> \", subset_sum(items_subset, 9))\n",
    " \n",
    "items_subset = [4, 7, 6, 4, 1]\n",
    "print(\"[4, 7, 6, 4, 1], n = 9 -> \", subset_sum(items_subset, 9))\n",
    "\n",
    "items_subset = [4, 7, 6, 4, 1]\n",
    "print(\"[4, 7, 6, 4, 1], n = 13 -> \", subset_sum(items_subset, 13))"
   ]
  },
  {
   "attachments": {},
   "cell_type": "markdown",
   "metadata": {},
   "source": [
    "Complejidad:\n",
    "Hay que hacer todas las combinaciones posibles de items, a pesar de hacer cortes en el arbol de decisiones, la complejidad es exponencial.\n",
    "Siendo "
   ]
  },
  {
   "attachments": {},
   "cell_type": "markdown",
   "metadata": {},
   "source": [
    "Creamos una función que genere sets para hacer las mediciones."
   ]
  },
  {
   "cell_type": "code",
   "execution_count": 28,
   "metadata": {},
   "outputs": [],
   "source": [
    "from random import uniform\n",
    "\n",
    "def generador_items(n):\n",
    "    return [round(uniform(0.01, 1.00), 2) for _ in range(n)]"
   ]
  },
  {
   "cell_type": "code",
   "execution_count": 29,
   "metadata": {},
   "outputs": [
    {
     "name": "stdout",
     "output_type": "stream",
     "text": [
      "termine para 0 elementos en 0.0 segundos\n",
      "termine para 1 elementos en 0.0 segundos\n",
      "termine para 2 elementos en 0.0 segundos\n",
      "termine para 3 elementos en 0.0 segundos\n",
      "termine para 4 elementos en 0.0 segundos\n",
      "termine para 5 elementos en 0.0 segundos\n",
      "termine para 6 elementos en 0.0009989738464355469 segundos\n",
      "termine para 7 elementos en 0.0009999275207519531 segundos\n",
      "termine para 8 elementos en 0.006000995635986328 segundos\n",
      "termine para 9 elementos en 0.0 segundos\n",
      "termine para 10 elementos en 0.0030012130737304688 segundos\n",
      "termine para 11 elementos en 0.007996320724487305 segundos\n",
      "termine para 12 elementos en 0.0020012855529785156 segundos\n",
      "termine para 13 elementos en 0.02699899673461914 segundos\n",
      "termine para 14 elementos en 0.03399944305419922 segundos\n",
      "termine para 15 elementos en 8.126558542251587 segundos\n",
      "termine para 16 elementos en 10.396099090576172 segundos\n",
      "termine para 17 elementos en 6.740028381347656 segundos\n",
      "termine para 18 elementos en 0.4330000877380371 segundos\n",
      "termine para 19 elementos en 121.67551684379578 segundos\n"
     ]
    }
   ],
   "source": [
    "import time\n",
    "\n",
    "tiempos = {}\n",
    "for i in range(0, 20, 1):\n",
    "    items = generador_items(i)\n",
    "    start = time.time()\n",
    "    paquetes = empaquetar_back(items)\n",
    "    end = time.time()\n",
    "    tiempos[i] = end - start\n",
    "    print(f\"termine para {i} elementos en {end-start} segundos\")"
   ]
  },
  {
   "cell_type": "code",
   "execution_count": 30,
   "metadata": {},
   "outputs": [
    {
     "data": {
      "image/png": "[encoded data removed]",
      "text/plain": [
       "<Figure size 432x288 with 1 Axes>"
      ]
     },
     "metadata": {
      "needs_background": "light"
     },
     "output_type": "display_data"
    }
   ],
   "source": [
    "from matplotlib import pyplot as plt\n",
    "\n",
    "plt.plot(tiempos.keys(), tiempos.values())\n",
    "plt.xlabel('n')\n",
    "plt.ylabel('Tiempo')\n",
    "plt.show()"
   ]
  },
  {
   "attachments": {},
   "cell_type": "markdown",
   "metadata": {},
   "source": [
    "3. Considerar el siguiente algoritmo: Se abre el primer envase y se empaqueta el primer objeto, luego por cada uno de los\n",
    "objetos restantes se prueba si cabe en el envase actual que está abierto. Si es así, se lo agrega a dicho envase, y se sigue\n",
    "con el siguiente objeto. Si no entra, se cierra el envase actual, se abre uno nuevo que pasa a ser el envase actual, se\n",
    "empaqueta el objeto y se prosigue con el siguiente.\n",
    "Este algoritmo sirve como una aproximación para resolver el problema de empaquetamiento. Implementar dicho\n",
    "algoritmo, analizar su complejidad, y analizar cuán buena aproximación es. Para esto, considerar lo siguiente: Sea I una\n",
    "instancia cualquiera del problema de empaquetamiento, y z(I) una solución óptima para dicha instancia, y sea A(I) la\n",
    "solución aproximada, se define A(I)/z(I) ≤ r(A) para todas las instancias posibles. Calcular r(A) para el algoritmo dado,\n",
    "demostrando que la cota está bien calculada. Realizar mediciones utilizando el algoritmo exacto y la aproximación, con\n",
    "el objetivo de verificar dicha relación."
   ]
  },
  {
   "attachments": {},
   "cell_type": "markdown",
   "metadata": {},
   "source": [
    "Algoritmo de aproximación:  \n",
    "1. Se abre el primer envase y se empaqueta el primer objeto.  \n",
    "2. Por cada uno de los objetos restantes se prueba si cabe en el envase actual que está abierto.  \n",
    "a. Si es así, se lo agrega a dicho envase, y se sigue con el siguiente objeto.  \n",
    "b. Si no entra, se cierra el envase actual, se abre uno nuevo que pasa a ser el envase actual, se empaqueta el objeto y se prosigue con el siguiente.  \n"
   ]
  },
  {
   "cell_type": "code",
   "execution_count": 31,
   "metadata": {},
   "outputs": [],
   "source": [
    "def empaquetar_aprox(items):\n",
    "    paquetes = []\n",
    "    paquete_actual = []\n",
    "    for item in items:\n",
    "        if round(sum(paquete_actual) + item, 4) <= 1:\n",
    "            paquete_actual.append(item)\n",
    "        else:\n",
    "            paquetes.append(paquete_actual)\n",
    "            paquete_actual = [item]\n",
    "    paquetes.append(paquete_actual)\n",
    "    return paquetes"
   ]
  },
  {
   "cell_type": "code",
   "execution_count": 47,
   "metadata": {},
   "outputs": [
    {
     "name": "stdout",
     "output_type": "stream",
     "text": [
      "[[0.5, 0.4], [0.3, 0.2, 0.1]]\n",
      "[[0.4], [0.8], [0.5, 0.1], [0.7], [0.6, 0.1], [0.4, 0.2, 0.2]]\n"
     ]
    }
   ],
   "source": [
    "items = [0.5, 0.4, 0.3, 0.2, 0.1]\n",
    "print(empaquetar_aprox(items))\n",
    "\n",
    "# {0.4; 0.8; 0.5; 0.1; 0.7; 0.6; 0.1; 0.4; 0.2; 0.2}\n",
    "items = [0.4, 0.8, 0.5, 0.1, 0.7, 0.6, 0.1, 0.4, 0.2, 0.2]\n",
    "print(empaquetar_aprox(items))"
   ]
  },
  {
   "attachments": {},
   "cell_type": "markdown",
   "metadata": {},
   "source": [
    "**Complejidad:**  \n",
    "La complejidad de este algoritmo es O(n), ya que recorre todos los items y asigna cada uno a un envase sin hacer (lo cual es O(1))."
   ]
  },
  {
   "attachments": {},
   "cell_type": "markdown",
   "metadata": {},
   "source": [
    "**Análisis de la aproximación:**  \n",
    "Analizando los paquetes, se puede ver que:  \n",
    "- Dos paquetes consecutivos no pueden sumar <= 1 ya que sino estarían en el mismo paquete  \n",
    "- Debido al punto anterior, no puede haber dos paquetes consecutivos en donde cada uno sume <= 0.5  \n",
    "\n",
    "De esta forma, en el peor caso, cada paquete puede sumar 0.5 + ε (siendo ε un número muy chico), y si la forma óptima para armar los paquetes es que cada paquete sume 1, entonces la aproximación va a repartir los items en el doble de paquetes que la solución óptima. Por lo tanto, la cota de la aproximación es 2."
   ]
  },
  {
   "cell_type": "code",
   "execution_count": 33,
   "metadata": {},
   "outputs": [],
   "source": [
    "def calcular_tiempo(items, funcion):\n",
    "    start = time.time()\n",
    "    funcion(items)\n",
    "    end = time.time()\n",
    "    return end - start"
   ]
  },
  {
   "cell_type": "code",
   "execution_count": 34,
   "metadata": {},
   "outputs": [],
   "source": [
    "import time\n",
    "\n",
    "tiempos = {}\n",
    "for i in range(1, 10000, 100):\n",
    "    todos = []\n",
    "    for _ in range(100):\n",
    "        items = generador_items(i)\n",
    "        todos.append(calcular_tiempo(items, empaquetar_aprox))\n",
    "    tiempos[i] = sum(todos) / len(todos)"
   ]
  },
  {
   "cell_type": "code",
   "execution_count": 35,
   "metadata": {},
   "outputs": [
    {
     "data": {
      "image/png": "[encoded data removed]",
      "text/plain": [
       "<Figure size 432x288 with 1 Axes>"
      ]
     },
     "metadata": {
      "needs_background": "light"
     },
     "output_type": "display_data"
    }
   ],
   "source": [
    "from matplotlib import pyplot as plt\n",
    "\n",
    "plt.plot(tiempos.keys(), tiempos.values())\n",
    "plt.xlabel('n')\n",
    "plt.ylabel('Tiempo')\n",
    "plt.show()"
   ]
  },
  {
   "attachments": {},
   "cell_type": "markdown",
   "metadata": {},
   "source": [
    "4. Implementar alguna otra aproximación (u algoritmo greedy) que les parezca de interés. Comparar sus\n",
    "resultados con los dados por la aproximación del punto 3. Indicar y justificar su complejidad.\n",
    "Se recomienda realizar varias ejecuciones con distintos conjuntos de datos del mismo tamaño y promediar los tiempos medidos\n",
    "para obtener un punto a graficar. Repetir para valores de n crecientes hasta valores que sean manejables con el hardware\n",
    "donde se realiza la prueba."
   ]
  },
  {
   "cell_type": "code",
   "execution_count": 36,
   "metadata": {},
   "outputs": [],
   "source": [
    "def empaquetar_greedy(items):\n",
    "    #ordenamos los items de mayor a menor\n",
    "    items.sort(reverse=True)\n",
    "    paquetes = []\n",
    "\n",
    "    for item in items:\n",
    "        \n",
    "        # si no hay paquetes creo el primero\n",
    "        if paquetes == []:\n",
    "            paquetes.append([item])\n",
    "            continue\n",
    "\n",
    "        # itero sobre los paquetes\n",
    "        agregado = False\n",
    "        for i in range(len(paquetes)):\n",
    "            # si el item entra en el paquete\n",
    "            if round(sum(paquetes[i]) + item, 4) <= 1:\n",
    "                paquetes[i].append(item)\n",
    "                agregado = True\n",
    "                break\n",
    "\n",
    "        # si no entra en ningun paquete\n",
    "        if not agregado:\n",
    "            paquetes.append([item])\n",
    "            \n",
    "    return paquetes"
   ]
  },
  {
   "attachments": {},
   "cell_type": "markdown",
   "metadata": {},
   "source": [
    "Complejidad:\n",
    "La complejidad de este algoritmo es O(n²) ya que recorre todos los items y por cada uno recorre todos los paquetes para ver si entra en alguno (lo cual es O(n)) y si no lo encuentra lo crea, cada operación que se hace es de tiempo constante."
   ]
  },
  {
   "cell_type": "code",
   "execution_count": 37,
   "metadata": {},
   "outputs": [
    {
     "name": "stdout",
     "output_type": "stream",
     "text": [
      "[[0.5, 0.4, 0.1], [0.3, 0.2]]\n",
      "[[0.8, 0.2], [0.7, 0.2, 0.1], [0.6, 0.4], [0.5, 0.4, 0.1]]\n"
     ]
    }
   ],
   "source": [
    "items = [0.5, 0.4, 0.3, 0.2, 0.1]\n",
    "print(empaquetar_greedy(items))\n",
    "\n",
    "# {0.4; 0.8; 0.5; 0.1; 0.7; 0.6; 0.1; 0.4; 0.2; 0.2}\n",
    "items = [0.4, 0.8, 0.5, 0.1, 0.7, 0.6, 0.1, 0.4, 0.2, 0.2]\n",
    "print(empaquetar_greedy(items))"
   ]
  },
  {
   "cell_type": "code",
   "execution_count": 38,
   "metadata": {},
   "outputs": [],
   "source": [
    "tiempos_aprox = {}\n",
    "tiempos_greedy = {}\n",
    "\n",
    "for i in range(10, 1000, 10):\n",
    "    todos_aprox = []\n",
    "    todos_greedy = []\n",
    "    for _ in range(50):\n",
    "        items = generador_items(i)\n",
    "        todos_aprox.append(calcular_tiempo(items, empaquetar_aprox))\n",
    "        todos_greedy.append(calcular_tiempo(items, empaquetar_greedy))\n",
    "    tiempos_aprox[i] = sum(todos_aprox) / len(todos_aprox)\n",
    "    tiempos_greedy[i] = sum(todos_greedy) / len(todos_greedy)"
   ]
  },
  {
   "cell_type": "code",
   "execution_count": 39,
   "metadata": {},
   "outputs": [
    {
     "data": {
      "image/png": "[encoded data removed]",
      "text/plain": [
       "<Figure size 432x288 with 1 Axes>"
      ]
     },
     "metadata": {
      "needs_background": "light"
     },
     "output_type": "display_data"
    }
   ],
   "source": [
    "plt.plot(tiempos_aprox.keys(), tiempos_aprox.values(), label=\"aprox\")\n",
    "plt.plot(tiempos_greedy.keys(), tiempos_greedy.values(), label=\"greedy\")\n",
    "plt.xlabel('n')\n",
    "plt.ylabel('Tiempo')\n",
    "plt.legend()\n",
    "plt.show()"
   ]
  },
  {
   "cell_type": "code",
   "execution_count": 40,
   "metadata": {},
   "outputs": [],
   "source": [
    "items1 = generador_items(5)\n",
    "items2 = generador_items(10)\n",
    "items3 = generador_items(15)\n",
    "\n",
    "back1 = empaquetar_back(items1)\n",
    "back2 = empaquetar_back(items2)\n",
    "back3 = empaquetar_back(items3)\n",
    "\n",
    "aprox1 = empaquetar_aprox(items1)\n",
    "aprox2 = empaquetar_aprox(items2)\n",
    "aprox3 = empaquetar_aprox(items3)\n",
    "\n",
    "greedy1 = empaquetar_greedy(items1)\n",
    "greedy2 = empaquetar_greedy(items2)\n",
    "greedy3 = empaquetar_greedy(items3)"
   ]
  },
  {
   "cell_type": "code",
   "execution_count": 41,
   "metadata": {},
   "outputs": [
    {
     "name": "stdout",
     "output_type": "stream",
     "text": [
      "Para 5 items:\n",
      "Backtracking -> 3 paquetes -> [[0.22, 0.05, 0.33], [0.95], [0.82]]\n",
      "Sumas paquetes back -> [0.6000000000000001, 0.95, 0.82]\n",
      "Algun paquete tiene un valor mayor que 1 -> [False, False, False]\n",
      "Cantidad de elementos totales -> 5\n",
      "Aproximacion -> 4 paquetes -> [[0.22], [0.95], [0.82, 0.05], [0.33]]\n",
      "Sumas paquetes aprox -> [0.22, 0.95, 0.87, 0.33]\n",
      "Algun paquete tiene un valor mayor que 1 -> [False, False, False, False]\n",
      "Cantidad de elementos totales -> 5\n",
      "Greedy -> 3 paquetes -> [[0.95, 0.05], [0.82], [0.33, 0.22]]\n",
      "Sumas paquetes greedy -> [1.0, 0.82, 0.55]\n",
      "Algun paquete tiene un valor mayor que 1 -> [False, False, False]\n",
      "Cantidad de elementos totales -> 5\n",
      "\n",
      "Para 10 items:\n",
      "Backtracking -> 5 paquetes -> [[0.98], [0.29, 0.06, 0.59, 0.06], [1.0], [0.4, 0.56], [0.09, 0.65]]\n",
      "sumas paquetes back -> [0.98, 1.0, 1.0, 0.9600000000000001, 0.74]\n",
      "Algun paquete tiene un valor mayor que 1 -> [False, False, False, False, False]\n",
      "Cantidad de elementos totales -> 10\n",
      "Aproximacion -> 7 paquetes -> [[0.98], [0.29], [1.0], [0.06, 0.4], [0.59, 0.06, 0.09], [0.65], [0.56]]\n",
      "sumas paquetes aprox -> [0.98, 0.29, 1.0, 0.46, 0.7399999999999999, 0.65, 0.56]\n",
      "Algun paquete tiene un valor mayor que 1 -> [False, False, False, False, False, False, False]\n",
      "Cantidad de elementos totales -> 10\n",
      "Greedy -> 5 paquetes -> [[1.0], [0.98], [0.65, 0.29, 0.06], [0.59, 0.4], [0.56, 0.09, 0.06]]\n",
      "sumas paquetes greedy -> [1.0, 0.98, 1.0, 0.99, 0.71]\n",
      "Algun paquete tiene un valor mayor que 1 -> [False, False, False, False, False]\n",
      "Cantidad de elementos totales -> 10\n",
      "\n",
      "Para 15 items:\n",
      "Backtracking -> 8 paquetes -> [[0.49, 0.41, 0.06], [0.65, 0.09], [0.76], [0.4, 0.39], [0.41, 0.27, 0.31], [0.64, 0.36], [0.98], [0.94]]\n",
      "sumas paquetes back -> [0.96, 0.74, 0.76, 0.79, 0.99, 1.0, 0.98, 0.94]\n",
      "Algun paquete tiene un valor mayor que 1 -> [False, False, False, False, False, False, False, False]\n",
      "Cantidad de elementos totales -> 15\n",
      "Aproximacion -> 10 paquetes -> [[0.49], [0.65], [0.41], [0.76, 0.06], [0.4, 0.09, 0.39], [0.41, 0.27], [0.64, 0.31], [0.36], [0.98], [0.94]]\n",
      "sumas paquetes aprox -> [0.49, 0.65, 0.41, 0.8200000000000001, 0.88, 0.6799999999999999, 0.95, 0.36, 0.98, 0.94]\n",
      "Algun paquete tiene un valor mayor que 1 -> [False, False, False, False, False, False, False, False, False, False]\n",
      "Cantidad de elementos totales -> 15\n",
      "Greedy -> 8 paquetes -> [[0.98], [0.94, 0.06], [0.76, 0.09], [0.65, 0.31], [0.64, 0.36], [0.49, 0.41], [0.41, 0.4], [0.39, 0.27]]\n",
      "sumas paquetes greedy -> [0.98, 1.0, 0.85, 0.96, 1.0, 0.8999999999999999, 0.81, 0.66]\n",
      "Algun paquete tiene un valor mayor que 1 -> [False, False, False, False, False, False, False, False]\n",
      "Cantidad de elementos totales -> 15\n",
      "\n"
     ]
    }
   ],
   "source": [
    "print(\"Para 5 items:\")\n",
    "print(f\"Backtracking -> {len(back1)} paquetes -> {back1}\")\n",
    "print(f\"Sumas paquetes back -> {[sum(p) for p in back1]}\")\n",
    "print(f\"Algun paquete tiene un valor mayor que 1 -> {[sum(p) > 1.0 for p in back1]}\")\n",
    "print(f\"Cantidad de elementos totales -> {sum([len(p) for p in back1])}\")\n",
    "print(f\"Aproximacion -> {len(aprox1)} paquetes -> {aprox1}\")\n",
    "print(f\"Sumas paquetes aprox -> {[sum(p) for p in aprox1]}\")\n",
    "print(f\"Algun paquete tiene un valor mayor que 1 -> {[sum(p) > 1.0 for p in aprox1]}\")\n",
    "print(f\"Cantidad de elementos totales -> {sum([len(p) for p in aprox1])}\")\n",
    "print(f\"Greedy -> {len(greedy1)} paquetes -> {greedy1}\")\n",
    "print(f\"Sumas paquetes greedy -> {[sum(p) for p in greedy1]}\")\n",
    "print(f\"Algun paquete tiene un valor mayor que 1 -> {[sum(p) > 1.0 for p in greedy1]}\")\n",
    "print(f\"Cantidad de elementos totales -> {sum([len(p) for p in greedy1])}\\n\")\n",
    "\n",
    "print(\"Para 10 items:\")\n",
    "print(f\"Backtracking -> {len(back2)} paquetes -> {back2}\")\n",
    "print(f\"sumas paquetes back -> {[sum(p) for p in back2]}\")\n",
    "print(f\"Algun paquete tiene un valor mayor que 1 -> {[sum(p) > 1.0 for p in back2]}\")\n",
    "print(f\"Cantidad de elementos totales -> {sum([len(p) for p in back2])}\")\n",
    "print(f\"Aproximacion -> {len(aprox2)} paquetes -> {aprox2}\")\n",
    "print(f\"sumas paquetes aprox -> {[sum(p) for p in aprox2]}\")\n",
    "print(f\"Algun paquete tiene un valor mayor que 1 -> {[sum(p) > 1.0 for p in aprox2]}\")\n",
    "print(f\"Cantidad de elementos totales -> {sum([len(p) for p in aprox2])}\")\n",
    "print(f\"Greedy -> {len(greedy2)} paquetes -> {greedy2}\")\n",
    "print(f\"sumas paquetes greedy -> {[sum(p) for p in greedy2]}\")\n",
    "print(f\"Algun paquete tiene un valor mayor que 1 -> {[sum(p) > 1.0 for p in greedy2]}\")\n",
    "print(f\"Cantidad de elementos totales -> {sum([len(p) for p in greedy2])}\\n\")\n",
    "\n",
    "print(\"Para 15 items:\")\n",
    "print(f\"Backtracking -> {len(back3)} paquetes -> {back3}\")\n",
    "print(f\"sumas paquetes back -> {[sum(p) for p in back3]}\")\n",
    "print(f\"Algun paquete tiene un valor mayor que 1 -> {[sum(p) > 1.0 for p in back3]}\")\n",
    "print(f\"Cantidad de elementos totales -> {sum([len(p) for p in back3])}\")\n",
    "print(f\"Aproximacion -> {len(aprox3)} paquetes -> {aprox3}\")\n",
    "print(f\"sumas paquetes aprox -> {[sum(p) for p in aprox3]}\")\n",
    "print(f\"Algun paquete tiene un valor mayor que 1 -> {[sum(p) > 1.0 for p in aprox3]}\")\n",
    "print(f\"Cantidad de elementos totales -> {sum([len(p) for p in aprox3])}\")\n",
    "print(f\"Greedy -> {len(greedy3)} paquetes -> {greedy3}\")\n",
    "print(f\"sumas paquetes greedy -> {[sum(p) for p in greedy3]}\")\n",
    "print(f\"Algun paquete tiene un valor mayor que 1 -> {[sum(p) > 1.0 for p in greedy3]}\")\n",
    "print(f\"Cantidad de elementos totales -> {sum([len(p) for p in greedy3])}\\n\")"
   ]
  },
  {
   "cell_type": "code",
   "execution_count": 42,
   "metadata": {},
   "outputs": [],
   "source": [
    "with open(\"comparativa.txt\", \"w\") as f:\n",
    "    for i in range(1, 50, 10):\n",
    "        items = generador_items(i)\n",
    "        aprox = empaquetar_aprox(items)\n",
    "        greedy = empaquetar_greedy(items)\n",
    "        f.write(f\"Para {i} items:\\n\")\n",
    "        f.write(f\"Aproximacion -> {len(aprox)} paquetes -> {aprox}\\n\")\n",
    "        f.write(f\"Greedy -> {len(greedy)} paquetes -> {greedy}\\n\\n\")"
   ]
  },
  {
   "cell_type": "code",
   "execution_count": 43,
   "metadata": {},
   "outputs": [],
   "source": [
    "with open(\"comparativa2.txt\", \"w\") as f:\n",
    "    for i in range(1, 2500, 50):\n",
    "        items = generador_items(i)\n",
    "        aprox = empaquetar_aprox(items)\n",
    "        greedy = empaquetar_greedy(items)\n",
    "        f.write(f\"Para {i} items:\\n\")\n",
    "        f.write(f\"Aproximacion -> {len(aprox)} paquetes\\n\")\n",
    "        f.write(f\"Greedy -> {len(greedy)} paquetes\\n\\n\")\n",
    "        f.write(f\"Diferecia -> {len(aprox) - len(greedy)}\\n\\n\")"
   ]
  },
  {
   "cell_type": "code",
   "execution_count": 44,
   "metadata": {},
   "outputs": [
    {
     "name": "stdout",
     "output_type": "stream",
     "text": [
      "Para 10 items:\n",
      "Backtracking -> 4 paquetes -> [[0.69, 0.22, 0.08], [0.62, 0.18, 0.18], [0.59, 0.4], [0.49, 0.49]]\n",
      "Sumas paquetes back -> [0.9899999999999999, 0.98, 0.99, 0.98]\n",
      "Algun paquete tiene un valor mayor que 1 -> [False, False, False, False]\n",
      "Cantidad de elementos totales -> 10\n",
      "\n",
      "Aproximacion -> 4 paquetes -> [[0.69, 0.22, 0.08], [0.62, 0.18, 0.18], [0.59, 0.4], [0.49, 0.49]]\n",
      "Sumas paquetes aprox -> [0.9899999999999999, 0.98, 0.99, 0.98]\n",
      "Algun paquete tiene un valor mayor que 1 -> [False, False, False, False]\n",
      "Cantidad de elementos totales -> 10\n",
      "\n",
      "Greedy -> 4 paquetes -> [[0.69, 0.22, 0.08], [0.62, 0.18, 0.18], [0.59, 0.4], [0.49, 0.49]]\n",
      "Sumas paquetes greedy -> [0.9899999999999999, 0.98, 0.99, 0.98]\n",
      "Algun paquete tiene un valor mayor que 1 -> [False, False, False, False]\n",
      "Cantidad de elementos totales -> 10\n",
      "\n"
     ]
    }
   ],
   "source": [
    "items = [0.69, 0.22, 0.08, 0.62, 0.18, 0.18, 0.59, 0.4, 0.49, 0.49]\n",
    "back = empaquetar_back(items)\n",
    "aprox = empaquetar_aprox(items)\n",
    "greedy = empaquetar_greedy(items)\n",
    "print(f\"Para {len(items)} items:\")\n",
    "print(f\"Backtracking -> {len(back)} paquetes -> {back}\")\n",
    "print(f\"Sumas paquetes back -> {[sum(p) for p in back]}\")\n",
    "print(f\"Algun paquete tiene un valor mayor que 1 -> {[sum(p) > 1.0 for p in back]}\")\n",
    "print(f\"Cantidad de elementos totales -> {sum([len(p) for p in back])}\\n\")\n",
    "print(f\"Aproximacion -> {len(aprox)} paquetes -> {aprox}\")\n",
    "print(f\"Sumas paquetes aprox -> {[sum(p) for p in aprox]}\")\n",
    "print(f\"Algun paquete tiene un valor mayor que 1 -> {[sum(p) > 1.0 for p in aprox]}\")\n",
    "print(f\"Cantidad de elementos totales -> {sum([len(p) for p in aprox])}\\n\")\n",
    "print(f\"Greedy -> {len(greedy)} paquetes -> {greedy}\")\n",
    "print(f\"Sumas paquetes greedy -> {[sum(p) for p in greedy]}\")\n",
    "print(f\"Algun paquete tiene un valor mayor que 1 -> {[sum(p) > 1.0 for p in greedy]}\")\n",
    "print(f\"Cantidad de elementos totales -> {sum([len(p) for p in greedy])}\\n\")\n"
   ]
  },
  {
   "cell_type": "code",
   "execution_count": 45,
   "metadata": {},
   "outputs": [
    {
     "name": "stdout",
     "output_type": "stream",
     "text": [
      "Para 10 items:\n",
      "Backtracking -> 4 paquetes -> [[0.08, 0.22, 0.69], [0.49, 0.49], [0.18, 0.18, 0.62], [0.4, 0.59]]\n",
      "Sumas paquetes back -> [0.99, 0.98, 0.98, 0.99]\n",
      "Algun paquete tiene un valor mayor que 1 -> [False, False, False, False]\n",
      "Cantidad de elementos totales -> 10\n",
      "\n",
      "Aproximacion -> 5 paquetes -> [[0.08, 0.22, 0.49, 0.18], [0.4, 0.59], [0.49], [0.69, 0.18], [0.62]]\n",
      "Sumas paquetes aprox -> [0.97, 0.99, 0.49, 0.8699999999999999, 0.62]\n",
      "Algun paquete tiene un valor mayor que 1 -> [False, False, False, False, False]\n",
      "Cantidad de elementos totales -> 10\n",
      "\n",
      "Greedy -> 4 paquetes -> [[0.69, 0.22, 0.08], [0.62, 0.18, 0.18], [0.59, 0.4], [0.49, 0.49]]\n",
      "Sumas paquetes greedy -> [0.9899999999999999, 0.98, 0.99, 0.98]\n",
      "Algun paquete tiene un valor mayor que 1 -> [False, False, False, False]\n",
      "Cantidad de elementos totales -> 10\n",
      "\n"
     ]
    }
   ],
   "source": [
    "items = [0.08, 0.22, 0.49, 0.18, 0.4, 0.59, 0.49, 0.69, 0.18, 0.62]\n",
    "back = empaquetar_back(items)\n",
    "aprox = empaquetar_aprox(items)\n",
    "greedy = empaquetar_greedy(items)\n",
    "print(f\"Para {len(items)} items:\")\n",
    "print(f\"Backtracking -> {len(back)} paquetes -> {back}\")\n",
    "print(f\"Sumas paquetes back -> {[sum(p) for p in back]}\")\n",
    "print(f\"Algun paquete tiene un valor mayor que 1 -> {[sum(p) > 1.0 for p in back]}\")\n",
    "print(f\"Cantidad de elementos totales -> {sum([len(p) for p in back])}\\n\")\n",
    "print(f\"Aproximacion -> {len(aprox)} paquetes -> {aprox}\")\n",
    "print(f\"Sumas paquetes aprox -> {[sum(p) for p in aprox]}\")\n",
    "print(f\"Algun paquete tiene un valor mayor que 1 -> {[sum(p) > 1.0 for p in aprox]}\")\n",
    "print(f\"Cantidad de elementos totales -> {sum([len(p) for p in aprox])}\\n\")\n",
    "print(f\"Greedy -> {len(greedy)} paquetes -> {greedy}\")\n",
    "print(f\"Sumas paquetes greedy -> {[sum(p) for p in greedy]}\")\n",
    "print(f\"Algun paquete tiene un valor mayor que 1 -> {[sum(p) > 1.0 for p in greedy]}\")\n",
    "print(f\"Cantidad de elementos totales -> {sum([len(p) for p in greedy])}\\n\")"
   ]
  }
 ],
 "metadata": {
  "kernelspec": {
   "display_name": "Python 3",
   "language": "python",
   "name": "python3"
  },
  "language_info": {
   "codemirror_mode": {
    "name": "ipython",
    "version": 3
   },
   "file_extension": ".py",
   "mimetype": "text/x-python",
   "name": "python",
   "nbconvert_exporter": "python",
   "pygments_lexer": "ipython3",
   "version": "3.10.4"
  },
  "orig_nbformat": 4
 },
 "nbformat": 4,
 "nbformat_minor": 2
}
