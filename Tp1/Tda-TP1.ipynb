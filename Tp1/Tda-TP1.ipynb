{
 "cells": [
  {
   "attachments": {},
   "cell_type": "markdown",
   "metadata": {},
   "source": [
    "# Trabajo Práctico 1: Técnicas de Diseño\n",
    "El presente trabajo busca evaluar el desarrollo y análisis de algoritmos de las primeras técnicas de diseño vistas en la materia.\n",
    "La primera fecha de entrega del TP será el 01/05/23, mientras que la segunda fecha de entrega (con reducción de nota) será\n",
    "el 12/05/23."
   ]
  },
  {
   "attachments": {},
   "cell_type": "markdown",
   "metadata": {},
   "source": [
    "## Primera Parte: Problema de K-merge por División y Conquista\n",
    "### Introducción\n",
    "El problema de K-merge es el siguiente: se tienen K arreglos ordenados, y se quiere quiere obtener un único arreglo, también\n",
    "ordenado, con todos los elementos de los arreglos originales (inclusive si hay repetidos). Por simplicidad para los diferentes\n",
    "análisis se puede suponer que todos los arreglos tienen exactamente h elementos (por ende, la cantidad total de elementos es\n",
    "n = K ∗ h).\n",
    "Para resolver este problema, es posible que hayan visto en Algoritmos y Programación II un algoritmo que resuelve este\n",
    "problema utilizando un Heap. Nos referiremos a este como el algoritmo que utiliza Heaps.\n",
    "La idea en este caso será plantear otra solución y analizarla. Se propone el siguiente algoritmo por división y conquista, con\n",
    "semejanzas a mergesort.\n",
    "1. Caso base: cuando quede un único arreglo, simplemente devolver dicho arreglo.\n",
    "2. En el caso general, dividir la cantidad de arreglos entre la primera mitad, y la segunda mitad, y luego invocar\n",
    "recursivamente para cada mitad de arreglos. Es decir, si tenemos cuatro arreglos, invocamos para los primeros 2, y\n",
    "luego para los segundos 2. Al terminar los llamados recursivos, tenemos dos arreglos ordenados. Estos deberán ser\n",
    "intercalados ordenadamente, tal cual se realiza en mergesort.\n"
   ]
  },
  {
   "attachments": {},
   "cell_type": "markdown",
   "metadata": {},
   "source": [
    "### Consigna\n",
    "1. Determinar, utilizando el Teorema Maestro, cuál sería la complejidad del algoritmo propuesto.\n",
    "2. Describir el algoritmo que utiliza heaps, y determinar su complejidad.\n",
    "3. Implementar ambos algoritmos, y hacer mediciones (y gráficos) que permitan entender si las complejidades obtenidas\n",
    "para cada uno se condicen con la realidad.\n",
    "4. En caso que la complejidad obtenida en el punto 1 no se condiga con la realidad, indicar por qué (qué condición falla).\n",
    "En dicho caso, se requiere llegar a la complejidad correcta (no solamente enunciarla, sino demostrar cuál es).\n",
    "5. Indicar cualquier conclusión adicional que les parezca relevante en base a lo analizado."
   ]
  },
  {
   "attachments": {},
   "cell_type": "markdown",
   "metadata": {},
   "source": [
    "1. Determinar, utilizando el Teorema Maestro, cuál sería la complejidad del algoritmo propuesto.\n",
    "\n",
    "El Teorema Maestro tiene la siguiente fórmula: \n",
    "\n",
    "T(n) = AT(n/B) + f(n)\n",
    "\n",
    "Donde:\n",
    "\n",
    "A -> cantidad de llamadas recursivas (con A natural)\n",
    "\n",
    "B -> proporción del tamaño original con el que llamamos recursivamente (con B real mayor a 1 y cte)\n",
    "\n",
    "f(n) -> costo del trabajo que hacemos en cada llamada recursiva\n",
    "\n",
    "En este caso tenemos:\n",
    "$$\n",
    "\\newline\n",
    "A = 2\n",
    "\\newline\n",
    "B = 2\n",
    "\\newline\n",
    "f(n) = O(n^C)\\; donde\\; C = 1\n",
    "\\newline\n",
    "log_B(A) = log_2(2) = 1 \\rightarrow como\\;  log_B(A) = C \\rightarrow  O(n^c * log(n)) = O(n log(n))\n",
    "$$\n",
    "Siendo n = K ∗ h, con K la cantidad de arreglos y h la cantidad de elementos de cada arreglo."
   ]
  },
  {
   "attachments": {},
   "cell_type": "markdown",
   "metadata": {},
   "source": [
    "2. Describir el algoritmo que utiliza heaps, y determinar su complejidad.\n",
    "\n",
    "El algoritmo que utiliza heaps es el siguiente:\n",
    "\n",
    "  1. Agregar a un heap el primer elemento de cada uno de los arrays junto con su índice y el índice del array al que pertenece.\n",
    "\n",
    "  2. Mientras que el heap no esté vacío:\n",
    "  \n",
    "      a. Tomar el primer elemento del heap y agregar el valor al resultado.\n",
    "\n",
    "      b. Si el índice del elemento tomado es menor al tamaño del array al que pertenece, agregar el siguiente elemento del array al heap junto con su índice y el índice del array al que pertenece.\n",
    "\n",
    "  3. Devolver el resultado.\n",
    "\n",
    "$$\n",
    "1 -> O(K)\n",
    "\\newline\n",
    "2 -> K * h\\;  veces\n",
    "\\newline\n",
    "  a -> O(log(K))\n",
    "\\newline\n",
    "  b -> O(log(K))\n",
    "\\newline\n",
    "O(K) + K * h * O(log(K)) -> O(K + K * h * log(K))\n",
    "\\newline\n",
    "K << K * h * log(K),\\; entonces\\; se\\; desprecia\\; K\\; y\\; queda\\; O(K * h * log(K))\n",
    "\n",
    "$$\n",
    "\n",
    "Siendo K la cantidad de arreglos y h la cantidad de elementos de cada arreglo."
   ]
  },
  {
   "attachments": {},
   "cell_type": "markdown",
   "metadata": {},
   "source": [
    "3. Implementar ambos algoritmos, y hacer mediciones (y gráficos) que permitan entender si las complejidades obtenidas\n",
    "para cada uno se condicen con la realidad."
   ]
  },
  {
   "cell_type": "code",
   "execution_count": 1,
   "metadata": {},
   "outputs": [
    {
     "name": "stdout",
     "output_type": "stream",
     "text": [
      "Requirement already satisfied: matplotlib in c:\\users\\pc\\appdata\\local\\programs\\python\\python310\\lib\\site-packages (3.7.1)\n",
      "Requirement already satisfied: contourpy>=1.0.1 in c:\\users\\pc\\appdata\\local\\programs\\python\\python310\\lib\\site-packages (from matplotlib) (1.0.7)\n",
      "Requirement already satisfied: numpy>=1.20 in c:\\users\\pc\\appdata\\local\\programs\\python\\python310\\lib\\site-packages (from matplotlib) (1.23.1)\n",
      "Requirement already satisfied: packaging>=20.0 in c:\\users\\pc\\appdata\\roaming\\python\\python310\\site-packages (from matplotlib) (20.9)\n",
      "Requirement already satisfied: pillow>=6.2.0 in c:\\users\\pc\\appdata\\local\\programs\\python\\python310\\lib\\site-packages (from matplotlib) (9.5.0)\n",
      "Requirement already satisfied: pyparsing>=2.3.1 in c:\\users\\pc\\appdata\\roaming\\python\\python310\\site-packages (from matplotlib) (3.0.9)\n",
      "Requirement already satisfied: python-dateutil>=2.7 in c:\\users\\pc\\appdata\\local\\programs\\python\\python310\\lib\\site-packages (from matplotlib) (2.8.2)\n",
      "Requirement already satisfied: cycler>=0.10 in c:\\users\\pc\\appdata\\local\\programs\\python\\python310\\lib\\site-packages (from matplotlib) (0.11.0)\n",
      "Requirement already satisfied: kiwisolver>=1.0.1 in c:\\users\\pc\\appdata\\local\\programs\\python\\python310\\lib\\site-packages (from matplotlib) (1.4.4)\n",
      "Requirement already satisfied: fonttools>=4.22.0 in c:\\users\\pc\\appdata\\local\\programs\\python\\python310\\lib\\site-packages (from matplotlib) (4.39.3)\n",
      "Requirement already satisfied: six>=1.5 in c:\\users\\pc\\appdata\\local\\programs\\python\\python310\\lib\\site-packages (from python-dateutil>=2.7->matplotlib) (1.16.0)\n"
     ]
    },
    {
     "name": "stderr",
     "output_type": "stream",
     "text": [
      "\n",
      "[notice] A new release of pip available: 22.2.2 -> 23.1.2\n",
      "[notice] To update, run: python.exe -m pip install --upgrade pip\n"
     ]
    }
   ],
   "source": [
    "!pip install matplotlib"
   ]
  },
  {
   "cell_type": "code",
   "execution_count": 2,
   "metadata": {},
   "outputs": [
    {
     "name": "stdout",
     "output_type": "stream",
     "text": [
      "Lista ordenada: [1, 1, 1, 1, 2, 2, 2, 2, 3, 3, 3, 3, 4, 4, 4, 4, 5, 5, 5, 5, 6, 6, 6, 6, 7, 7, 7, 7, 8, 8, 8, 8, 9, 9, 9, 9, 10, 10, 10, 10, 11, 11, 11, 11, 12, 12, 12, 12, 13, 13, 13, 13, 14, 14, 14, 14, 15, 15, 15, 15, 16, 16, 16, 16, 17, 17, 17, 17, 18, 18, 18, 18, 19, 19, 19, 19, 20, 20, 20, 20, 21, 21, 21, 21, 22, 22, 22, 22, 23, 23, 23, 23, 24, 24, 24, 24, 25, 25, 25, 25, 26, 26, 26, 26, 27, 27, 27, 27, 28, 28, 28, 28]\n",
      "¿Está ordenada?: True\n"
     ]
    }
   ],
   "source": [
    "from heapq import heappush, heappop\n",
    "\n",
    "def heap_mergeK_ordenados(arrays):\n",
    "    resultado = []\n",
    "    heap = []\n",
    "\n",
    "    for i in range(len(arrays)):\n",
    "        heappush(heap, (arrays[i][0], i, 0))\n",
    "    \n",
    "    while heap:\n",
    "        valor, array_indice, valor_indice = heappop(heap)\n",
    "        resultado.append(valor)\n",
    "        if valor_indice + 1 < len(arrays[array_indice]):\n",
    "            heappush(heap, (arrays[array_indice][valor_indice + 1], array_indice, valor_indice + 1))\n",
    "        \n",
    "    return resultado\n",
    "\n",
    "\n",
    "arrays = [\n",
    "    [5, 6,  8,  16, 17, 18, 19],\n",
    "    [3, 7,  12, 13, 20, 21, 22],\n",
    "    [1, 10, 11, 15, 23, 24, 25],\n",
    "    [2, 4,  9,  14, 26, 27, 28],\n",
    "    [5, 6,  8,  16, 17, 18, 19],\n",
    "    [3, 7,  12, 13, 20, 21, 22],\n",
    "    [1, 10, 11, 15, 23, 24, 25],\n",
    "    [2, 4,  9,  14, 26, 27, 28],\n",
    "    [5, 6,  8,  16, 17, 18, 19],\n",
    "    [3, 7,  12, 13, 20, 21, 22],\n",
    "    [1, 10, 11, 15, 23, 24, 25],\n",
    "    [2, 4,  9,  14, 26, 27, 28],\n",
    "    [5, 6,  8,  16, 17, 18, 19],\n",
    "    [3, 7,  12, 13, 20, 21, 22],\n",
    "    [1, 10, 11, 15, 23, 24, 25],\n",
    "    [2, 4,  9,  14, 26, 27, 28],\n",
    "]\n",
    "\n",
    "resultado = heap_mergeK_ordenados(arrays)\n",
    "print(f\"Lista ordenada: {resultado}\")\n",
    "print(f\"¿Está ordenada?: {resultado == sorted(resultado)}\")"
   ]
  },
  {
   "cell_type": "code",
   "execution_count": 3,
   "metadata": {},
   "outputs": [
    {
     "name": "stdout",
     "output_type": "stream",
     "text": [
      "Lista ordenada: [1, 1, 1, 1, 2, 2, 2, 2, 3, 3, 3, 3, 4, 4, 4, 4, 5, 5, 5, 5, 6, 6, 6, 6, 7, 7, 7, 7, 8, 8, 8, 8, 9, 9, 9, 9, 10, 10, 10, 10, 11, 11, 11, 11, 12, 12, 12, 12, 13, 13, 13, 13, 14, 14, 14, 14, 15, 15, 15, 15, 16, 16, 16, 16, 17, 17, 17, 17, 18, 18, 18, 18, 19, 19, 19, 19, 20, 20, 20, 20, 21, 21, 21, 21, 22, 22, 22, 22, 23, 23, 23, 23, 24, 24, 24, 24, 25, 25, 25, 25, 26, 26, 26, 26, 27, 27, 27, 27, 28, 28, 28, 28]\n",
      "¿Está ordenada?: True\n"
     ]
    }
   ],
   "source": [
    "def merge(array1, array2):\n",
    "    mergeado = []\n",
    "    \n",
    "    i = 0\n",
    "    j = 0\n",
    "    while i < len(array1) and j < len(array2):\n",
    "        if array1[i] < array2[j]:\n",
    "            mergeado.append(array1[i])\n",
    "            i += 1\n",
    "        else:\n",
    "            mergeado.append(array2[j])\n",
    "            j += 1\n",
    "    \n",
    "    if i < len(array1):\n",
    "        mergeado.extend(array1[i:])\n",
    "    if j < len(array2):\n",
    "        mergeado.extend(array2[j:])\n",
    "    return mergeado\n",
    "     \n",
    "def _dyc_mergeK_ordenados(arrays, inicio, fin):\n",
    "    if inicio == fin:\n",
    "        return arrays[inicio]\n",
    "        \n",
    "    medio = (inicio + fin) // 2\n",
    "    izquierda = _dyc_mergeK_ordenados(arrays, inicio, medio)\n",
    "    derecha = _dyc_mergeK_ordenados(arrays, medio + 1, fin)\n",
    "    return merge(izquierda, derecha)\n",
    "\n",
    "def dyc_mergeK_ordenados(arrays):\n",
    "    return _dyc_mergeK_ordenados(arrays, 0, len(arrays) - 1)\n",
    "\n",
    "arrays = [\n",
    "    [5, 6,  8,  16, 17, 18, 19],\n",
    "    [3, 7,  12, 13, 20, 21, 22],\n",
    "    [1, 10, 11, 15, 23, 24, 25],\n",
    "    [2, 4,  9,  14, 26, 27, 28],\n",
    "    [5, 6,  8,  16, 17, 18, 19],\n",
    "    [3, 7,  12, 13, 20, 21, 22],\n",
    "    [1, 10, 11, 15, 23, 24, 25],\n",
    "    [2, 4,  9,  14, 26, 27, 28],\n",
    "    [5, 6,  8,  16, 17, 18, 19],\n",
    "    [3, 7,  12, 13, 20, 21, 22],\n",
    "    [1, 10, 11, 15, 23, 24, 25],\n",
    "    [2, 4,  9,  14, 26, 27, 28],\n",
    "    [5, 6,  8,  16, 17, 18, 19],\n",
    "    [3, 7,  12, 13, 20, 21, 22],\n",
    "    [1, 10, 11, 15, 23, 24, 25],\n",
    "    [2, 4,  9,  14, 26, 27, 28],\n",
    "]\n",
    "\n",
    "resultado = dyc_mergeK_ordenados(arrays)\n",
    "print(f\"Lista ordenada: {resultado}\")\n",
    "print(f\"¿Está ordenada?: {resultado == sorted(resultado)}\")\n"
   ]
  },
  {
   "cell_type": "code",
   "execution_count": 4,
   "metadata": {},
   "outputs": [],
   "source": [
    "import random\n",
    "from time import time\n",
    "from matplotlib import pyplot as plt\n",
    "\n",
    "def generar_arrays(k, h):\n",
    "    arrays = [[random.randint(0, k*h) for _ in range(h)] for _ in range(k)]\n",
    "    for array in arrays:\n",
    "        array.sort()\n",
    "    return arrays\n",
    "\n",
    "def generar_array_arrays(k_inicial, h_inicial, variacion_k, variacion_h, cantidad):\n",
    "    k = k_inicial\n",
    "    h = h_inicial\n",
    "    arrays = []\n",
    "    for _ in range(cantidad):\n",
    "        arrays.append(generar_arrays(k, h))\n",
    "        k += variacion_k\n",
    "        h += variacion_h\n",
    "    return arrays"
   ]
  },
  {
   "cell_type": "code",
   "execution_count": 5,
   "metadata": {},
   "outputs": [],
   "source": [
    "def calcular_tiempo_kfijo(funcion, array_arrays):\n",
    "    tiempos = {}\n",
    "    for array in array_arrays:\n",
    "        h = len(array[0])  \n",
    "        comienzo = time()\n",
    "        _ = funcion(array)\n",
    "        final = time()\n",
    "        tiempos[h] = final - comienzo\n",
    "    return tiempos\n",
    "\n",
    "def calcular_tiempo_hfijo(funcion, array_arrays):\n",
    "    tiempos = {}\n",
    "    for array in array_arrays:\n",
    "        k = len(array)  \n",
    "        comienzo = time()\n",
    "        _ = funcion(array)\n",
    "        final = time()\n",
    "        tiempos[k] = final - comienzo\n",
    "    return tiempos"
   ]
  },
  {
   "attachments": {},
   "cell_type": "markdown",
   "metadata": {},
   "source": [
    "Hacemos un gráfico con k fijo y h variando, y otro con h fijo y k variando para ver bien la complejidad de cada algoritmo en la práctica."
   ]
  },
  {
   "cell_type": "code",
   "execution_count": 6,
   "metadata": {},
   "outputs": [],
   "source": [
    "array_arrays = generar_array_arrays(5, 10, 0, 5, 2500)\n",
    "tiempos_heap = calcular_tiempo_kfijo(heap_mergeK_ordenados, array_arrays)\n",
    "tiempos_dyc = calcular_tiempo_kfijo(dyc_mergeK_ordenados, array_arrays)"
   ]
  },
  {
   "cell_type": "code",
   "execution_count": 7,
   "metadata": {},
   "outputs": [
    {
     "data": {
      "image/png": "[encoded data removed]",
      "text/plain": [
       "<Figure size 432x288 with 1 Axes>"
      ]
     },
     "metadata": {
      "needs_background": "light"
     },
     "output_type": "display_data"
    }
   ],
   "source": [
    "plt.plot(tiempos_heap.keys(), tiempos_heap.values(), label='Heap')\n",
    "plt.plot(tiempos_dyc.keys(), tiempos_dyc.values(), label='DYC')\n",
    "plt.xlabel('h')\n",
    "plt.ylabel('Tiempo')\n",
    "plt.legend()\n",
    "plt.show()"
   ]
  },
  {
   "attachments": {},
   "cell_type": "markdown",
   "metadata": {},
   "source": [
    "Se puede observar que no hay variación, lo que tiene sentido con las complejidades calculadas.\n",
    "Posteriormente, hacemos un gráfico con h fijo y k variando:"
   ]
  },
  {
   "cell_type": "code",
   "execution_count": 8,
   "metadata": {},
   "outputs": [],
   "source": [
    "array_arrays = generar_array_arrays(5, 10, 5, 0, 500)\n",
    "tiempos_heap = calcular_tiempo_hfijo(heap_mergeK_ordenados, array_arrays) \n",
    "tiempos_dyc = calcular_tiempo_hfijo(dyc_mergeK_ordenados, array_arrays)"
   ]
  },
  {
   "cell_type": "code",
   "execution_count": 9,
   "metadata": {},
   "outputs": [
    {
     "data": {
      "image/png": "[encoded data removed]",
      "text/plain": [
       "<Figure size 432x288 with 1 Axes>"
      ]
     },
     "metadata": {
      "needs_background": "light"
     },
     "output_type": "display_data"
    }
   ],
   "source": [
    "plt.plot(tiempos_heap.keys(), tiempos_heap.values(), label='Heap')\n",
    "plt.plot(tiempos_dyc.keys(), tiempos_dyc.values(), label='DYC')\n",
    "plt.xlabel('k')\n",
    "plt.ylabel('Tiempo')\n",
    "plt.legend()\n",
    "plt.show()"
   ]
  },
  {
   "attachments": {},
   "cell_type": "markdown",
   "metadata": {},
   "source": [
    "Se puede ver que el algoritmo que utiliza heaps es mucho más rápido que el algoritmo por división y conquista. Y no por un poco, o una diferencia que no depende de una constante, sino que al variar K se puede ver que la diferencia es cada vez mayor. De esta forma, podemos ver que la complejidad del algoritmo por división y conquista calculada con el Teorema Maestro no se condice con la realidad.\n",
    "\n",
    "Verificando las condiciones para poder aplicar el Teorema Maestro:\n",
    "\n",
    "1. A debe ser un número natural -> Si (A = 2)\n",
    "2. B debe ser un número real mayor a 1 y constante -> Indicaría que sí\n",
    "3. El caso base debe ser constante -> Sí, devolver el primer array es constante\n",
    "\n",
    "\n"
   ]
  },
  {
   "attachments": {},
   "cell_type": "markdown",
   "metadata": {},
   "source": [
    "Entonces, para ver qué pasa con la segunda condición haremos un gráfico con un variación que no se hizo hasta el momento: que todos los arreglos no tengan el mismo largo."
   ]
  },
  {
   "cell_type": "code",
   "execution_count": 13,
   "metadata": {},
   "outputs": [],
   "source": [
    "def generar_arrays(k, h):\n",
    "    arrays = [random.randint(0, k*h) for _ in range(random.randint(h/2, h))]\n",
    "    for array in arrays:        \n",
    "        array.sort()\n",
    "    return arrays"
   ]
  },
  {
   "cell_type": "code",
   "execution_count": 14,
   "metadata": {},
   "outputs": [
    {
     "name": "stdout",
     "output_type": "stream",
     "text": [
      "10\n"
     ]
    },
    {
     "ename": "AttributeError",
     "evalue": "'int' object has no attribute 'sort'",
     "output_type": "error",
     "traceback": [
      "\u001b[1;31m---------------------------------------------------------------------------\u001b[0m",
      "\u001b[1;31mAttributeError\u001b[0m                            Traceback (most recent call last)",
      "\u001b[1;32md:\\Pc\\Documents\\GitHub\\75.29-TDA1\\Tp1\\Tda-TP1.ipynb Cell 21\u001b[0m in \u001b[0;36m<cell line: 1>\u001b[1;34m()\u001b[0m\n\u001b[1;32m----> <a href='vscode-notebook-cell:/d%3A/Pc/Documents/GitHub/75.29-TDA1/Tp1/Tda-TP1.ipynb#Y110sZmlsZQ%3D%3D?line=0'>1</a>\u001b[0m array_arrays \u001b[39m=\u001b[39m generar_array_arrays(\u001b[39m5\u001b[39;49m, \u001b[39m10\u001b[39;49m, \u001b[39m0\u001b[39;49m, \u001b[39m5\u001b[39;49m, \u001b[39m500\u001b[39;49m)\n\u001b[0;32m      <a href='vscode-notebook-cell:/d%3A/Pc/Documents/GitHub/75.29-TDA1/Tp1/Tda-TP1.ipynb#Y110sZmlsZQ%3D%3D?line=1'>2</a>\u001b[0m tiempos_heap \u001b[39m=\u001b[39m calcular_tiempo_kfijo(heap_mergeK_ordenados, array_arrays)\n\u001b[0;32m      <a href='vscode-notebook-cell:/d%3A/Pc/Documents/GitHub/75.29-TDA1/Tp1/Tda-TP1.ipynb#Y110sZmlsZQ%3D%3D?line=2'>3</a>\u001b[0m tiempos_dyc \u001b[39m=\u001b[39m calcular_tiempo_kfijo(dyc_mergeK_ordenados, array_arrays)\n",
      "\u001b[1;32md:\\Pc\\Documents\\GitHub\\75.29-TDA1\\Tp1\\Tda-TP1.ipynb Cell 21\u001b[0m in \u001b[0;36mgenerar_array_arrays\u001b[1;34m(k_inicial, h_inicial, variacion_k, variacion_h, cantidad)\u001b[0m\n\u001b[0;32m     <a href='vscode-notebook-cell:/d%3A/Pc/Documents/GitHub/75.29-TDA1/Tp1/Tda-TP1.ipynb#Y110sZmlsZQ%3D%3D?line=13'>14</a>\u001b[0m arrays \u001b[39m=\u001b[39m []\n\u001b[0;32m     <a href='vscode-notebook-cell:/d%3A/Pc/Documents/GitHub/75.29-TDA1/Tp1/Tda-TP1.ipynb#Y110sZmlsZQ%3D%3D?line=14'>15</a>\u001b[0m \u001b[39mfor\u001b[39;00m _ \u001b[39min\u001b[39;00m \u001b[39mrange\u001b[39m(cantidad):\n\u001b[1;32m---> <a href='vscode-notebook-cell:/d%3A/Pc/Documents/GitHub/75.29-TDA1/Tp1/Tda-TP1.ipynb#Y110sZmlsZQ%3D%3D?line=15'>16</a>\u001b[0m     arrays\u001b[39m.\u001b[39mappend(generar_arrays(k, h))\n\u001b[0;32m     <a href='vscode-notebook-cell:/d%3A/Pc/Documents/GitHub/75.29-TDA1/Tp1/Tda-TP1.ipynb#Y110sZmlsZQ%3D%3D?line=16'>17</a>\u001b[0m     k \u001b[39m+\u001b[39m\u001b[39m=\u001b[39m variacion_k\n\u001b[0;32m     <a href='vscode-notebook-cell:/d%3A/Pc/Documents/GitHub/75.29-TDA1/Tp1/Tda-TP1.ipynb#Y110sZmlsZQ%3D%3D?line=17'>18</a>\u001b[0m     h \u001b[39m+\u001b[39m\u001b[39m=\u001b[39m variacion_h\n",
      "\u001b[1;32md:\\Pc\\Documents\\GitHub\\75.29-TDA1\\Tp1\\Tda-TP1.ipynb Cell 21\u001b[0m in \u001b[0;36mgenerar_arrays\u001b[1;34m(k, h)\u001b[0m\n\u001b[0;32m      <a href='vscode-notebook-cell:/d%3A/Pc/Documents/GitHub/75.29-TDA1/Tp1/Tda-TP1.ipynb#Y110sZmlsZQ%3D%3D?line=2'>3</a>\u001b[0m \u001b[39mfor\u001b[39;00m array \u001b[39min\u001b[39;00m arrays:\n\u001b[0;32m      <a href='vscode-notebook-cell:/d%3A/Pc/Documents/GitHub/75.29-TDA1/Tp1/Tda-TP1.ipynb#Y110sZmlsZQ%3D%3D?line=3'>4</a>\u001b[0m     \u001b[39mprint\u001b[39m(array)\n\u001b[1;32m----> <a href='vscode-notebook-cell:/d%3A/Pc/Documents/GitHub/75.29-TDA1/Tp1/Tda-TP1.ipynb#Y110sZmlsZQ%3D%3D?line=4'>5</a>\u001b[0m     array\u001b[39m.\u001b[39;49msort()\n\u001b[0;32m      <a href='vscode-notebook-cell:/d%3A/Pc/Documents/GitHub/75.29-TDA1/Tp1/Tda-TP1.ipynb#Y110sZmlsZQ%3D%3D?line=5'>6</a>\u001b[0m \u001b[39mreturn\u001b[39;00m arrays\n",
      "\u001b[1;31mAttributeError\u001b[0m: 'int' object has no attribute 'sort'"
     ]
    }
   ],
   "source": [
    "array_arrays = generar_array_arrays(5, 10, 0, 5, 500)\n",
    "tiempos_heap = calcular_tiempo_kfijo(heap_mergeK_ordenados, array_arrays)\n",
    "tiempos_dyc = calcular_tiempo_kfijo(dyc_mergeK_ordenados, array_arrays)"
   ]
  },
  {
   "cell_type": "code",
   "execution_count": null,
   "metadata": {},
   "outputs": [],
   "source": [
    "plt.plot(tiempos_heap.keys(), tiempos_heap.values(), label='Heap')\n",
    "plt.plot(tiempos_dyc.keys(), tiempos_dyc.values(), label='DYC')\n",
    "plt.xlabel('h')\n",
    "plt.ylabel('Tiempo')\n",
    "plt.legend()\n",
    "plt.show()"
   ]
  },
  {
   "attachments": {},
   "cell_type": "markdown",
   "metadata": {},
   "source": [
    "Ahora, para calcular la complejidad del algoritmo por división y conquista volvemos a analizarlo y vemos que lo que se repite es el mergeo de los arreglos, lo cual es lineal de forma asegurada. Lo que debemos saber es cuántas veces se hace un merge. Para esto, vamos a mostrar el siguiente ejemplo de árbol de recursión:\n",
    "\n",
    "<p align=\"center\">\n",
    "  <img width=\"660\" height=\"300\" src=\"merge-ab.jpg\">\n",
    "</p>\n",
    "\n",
    "Se puede ver que cada nodo representa un mergeo de dos arreglos y, además, en un árbol binario la cantidad máxima de nodos es 2n - 1. Por lo tanto, la cantidad máxima de mergeos es 2(k/2) - 1 = k - 1. Y como cada mergeo tiene una complejidad O(kh), siendo k la cantidad de arreglos y h la cantidad de elementos por arreglo, la complejidad total es:\n",
    "$$\n",
    "k - 1 \\; veces\\; O(k*h)\n",
    "\\newline\n",
    "O(k*h*(k - 1)) = O(k^2*h) - O(k*h)\n",
    "\\newline\n",
    "k*h << k^2*h,\\; entonces\\; se\\; desprecia\\; k*h\\; y\\; queda\\; O(k^2*h)\n",
    "$$\n",
    "Por lo tanto la complejidad del algoritmo por división y conquista es O(k^2*h), siendo k la cantidad de arreglos y h la cantidad de elementos de cada arreglo."
   ]
  },
  {
   "attachments": {},
   "cell_type": "markdown",
   "metadata": {},
   "source": [
    "## Segunda Parte: ¡Problema de contrabando!\n",
    "#### Historia y Estado de la situación\n",
    "Genovia y Krakozhia son países limítrofes muy disímiles. Entre sus muchas diferencias, se encuentran los productos que se\n",
    "pueden producir o ingresar a uno y otro país. En particular, Krakozhia pertenece a la Unión Europea, haciendo que sea muy\n",
    "restrictiva con algunas clases de productos1\n",
    ".\n",
    "\n",
    "Por el contrario, el Reino de Genovia casi no tiene restricciones ni en el acceso ni en la producción de productos. Este es uno\n",
    "de los problemas que tienen con sus vecinos de la Unión Europea (el otro, es ser considerando un paraíso fiscal).\n",
    "Es muy común que ciudadanos de Krakozhia viajen a Genovia, y aprovechen su estadía para comprar productos que no\n",
    "podrían comprar en su país. Incluso hay quienes aprovechan para comprar bastantes productos, para luego revenderlos\n",
    "en Krakozhia, a un alto precio. ¿El problema? es ilegal entrar con esos productos a la Unión Europea, y en particular a\n",
    "Krakozhia, por lo que sus agentes aduaneros deberían confiscarles los productos (y potencialmente labrarles un acta o algún\n",
    "otro tipo de sansión). ¿Lo bueno? Los agentes aduaneros de Krakozhia no destacan por su honestidad. El menos corrupto no\n",
    "puede armar una declaración jurada de ingresos medianamente creíble. Esto quiere decir que al pasar por la aduana, un\n",
    "agente aduanero puede pedir, en concepto de soborno, una cierta cantidad de algunos productos que se lleve consigo (luego de\n",
    "revisarlos), el cual debe pagarse sí o sí, si no se quiere caer en serios problemas.\n",
    "Planteo del problema\n",
    "Queremos pasar mercadería de contrabando de Genovia a Krakozhia. La mercadería viene en paquetes que no podemos abrir.\n",
    "Cada paquete i trae Xi unidades de un determinado tipo de producto j. Podríamos llegar a tener varios paquetes del mismo\n",
    "tipo de producto j, incluso con diferente cantidad de unidades. También podemos tener diferentes paquetes de diferentes\n",
    "productos. Es decir, cada paquete (in-abrible) es de una cantidad específica de un tipo específico, y en total para un tipo\n",
    "específico j tenemos la suma de Xi unidades, para todos los i que sean de ese tipo.\n",
    "Para nuestro ejemplo, supongamos que tenemos un paquete que trae 8 cajetillas de cigarrillos sabor arándano. Otro paquete\n",
    "trae 5 cajetillas de lo mismos cigarrillos. Otro paquete puede traer 5 botellitas de 100ml de vodka radioactivo, etc. . .\n",
    "Al pasar por la aduana, el corrupto funcionario puede indicarnos que “por acá no pasan sin dejarme al menos 6 cajetillas de\n",
    "cigarrillos de arándano”.\n",
    "Ante la imposibilidad de abrir y/o separar los paquetes, es claro que en dicho caso nos conviene dejar el paquete de 8 (no\n",
    "podemos abrirlo para sacar 6 de allí. . . sino la movida sería muy evidente). Si el oficial hubiera dicho que hay que dejar\n",
    "al menos 10 cajetillas, habría sido necesario dejar ambos paquetes para un total de 13 unidades de dicho producto. Si este\n",
    "hubiera dicho que le dejemos una cajetilla de cigarrillos y una botellita de vodka, tendríamos que dejar el paquete de 5\n",
    "botellitas de vodka y el paquete de 5 cajetillas de cigarrillos.\n",
    "\n",
    "#### Consigna\n",
    "1. Describir e implementar un algoritmo greedy que, dado un input con los productos que se tienen, y lo pedido como\n",
    "soborno, nos permita salir airosos de la situación, con la mayor cantidad de productos posibles. Justificar por qué el\n",
    "algoritmo es, efectivamente, greedy. Considerar que siempre se nos pedirá una cantidad de productos en existencias (en\n",
    "nuestro ejemplo anterior, no nos habrían pedido que dejemos 7 botellas de vodka radioactivo, ni tampoco mandarinas\n",
    "del Sahara).\n",
    "2. Con las mismas consideraciones que en el punto anterior, describir e implementar un algoritmo (que sea óptimo) que\n",
    "resuelva el problema utilizando programación dinámica.\n",
    "3. Indicar y justificar la complejidad de ambos algoritmos propuestos. Indicar casos (características y ejemplos) de\n",
    "deficiencias en el algoritmo greedy propuesto, para los cuales este no obtenga una solución óptima.\n",
    "4. Implementar un programa que utilice ambos algoritmos, realizar mediciones y presentar resultados comparativos de\n",
    "ambas soluciones, en lo que refiere a su optimalidad de la solución (no de su complejidad). Incluir en la entrega del tp\n",
    "los sets de datos utilizados para estas simulaciones (que deben estar explicados en el informe). Estos deben incluir al\n",
    "menos una prueba de volumen, indicando cómo es que fueron generadas.\n"
   ]
  },
  {
   "attachments": {},
   "cell_type": "markdown",
   "metadata": {},
   "source": [
    "1. Describir e implementar un algoritmo greedy que, dado un input con los productos que se tienen, y lo pedido como\n",
    "soborno, nos permita salir airosos de la situación, con la mayor cantidad de productos posibles. Justificar por qué el\n",
    "algoritmo es, efectivamente, greedy. Considerar que siempre se nos pedirá una cantidad de productos en existencias (en\n",
    "nuestro ejemplo anterior, no nos habrían pedido que dejemos 7 botellas de vodka radioactivo, ni tampoco mandarinas\n",
    "del Sahara)."
   ]
  },
  {
   "attachments": {},
   "cell_type": "markdown",
   "metadata": {},
   "source": [
    "El algoritmo greedy que planteamos es el siguiente:\n",
    "1. Ordenamos la lista de menor a mayor segun la cantidad de elementos que tiene cada paquete\n",
    "2. Recorremos la lista comparando la cantidad de elementos con la cantidad de elementos pedidos\n",
    "    - Si la cantidad de elementos es mayor o igual que el pedido, devuelvo ese valor\n",
    "    - Sino continuo recorriendo la lista hasta el ultimo paquete y vuelvo a iterar con (elementos pedidos - cantidad del último paquete)\n",
    "3. Finalmente, devuelvo el acumulado de los elementos que se necesitan"
   ]
  },
  {
   "attachments": {},
   "cell_type": "markdown",
   "metadata": {},
   "source": [
    "¿Pero por qué es Greedy?  \n",
    "En los algoritmos Greedy se aplica una regla sencilla que permita obtener el máximo local, en este caso el máximo local es el primer paquete que iguale o supere a la cantidad pedida. En el caso de no encontrar un paquete que cumpla esto, se toma el paquete con mayor cantidad de elementos y se busca un óptimo local para la cantidad restante."
   ]
  },
  {
   "cell_type": "code",
   "execution_count": null,
   "metadata": {},
   "outputs": [],
   "source": [
    "# Modelamos los datos del problema de la siguiente forma:\n",
    "# Existencias -> {mandarinas_rgb: [1, 6, 10, 4, 7], creditos_fiuba: [200, 300, 500, 100, 400]}\n",
    "# Soborno -> {mandarinas_rgb: 11, creditos_fiuba: 250}\n",
    "\n",
    "def _soborno_greedy(existencias, minimo, acumulado):\n",
    "    indice = 0\n",
    "    soborno = existencias[indice]\n",
    "    while soborno < minimo and indice < len(existencias) - 1:\n",
    "        indice += 1\n",
    "        soborno = existencias[indice]\n",
    "    acumulado.append(existencias.pop(indice))\n",
    "    if soborno >= minimo:\n",
    "        return acumulado\n",
    "    restante = minimo - soborno\n",
    "    return _soborno_greedy(existencias, restante, acumulado)\n",
    "\n",
    "def soborno_greedy(existencias, pedido): \n",
    "    soborno = {}\n",
    "    for tipo in pedido.keys():\n",
    "        existencias_ordenadas = sorted(existencias[tipo].copy())\n",
    "        soborno[tipo] = _soborno_greedy(existencias_ordenadas, pedido[tipo], [])\n",
    "    return soborno"
   ]
  },
  {
   "cell_type": "code",
   "execution_count": null,
   "metadata": {},
   "outputs": [
    {
     "name": "stdout",
     "output_type": "stream",
     "text": [
      "{'creditos_fiuba': [7]}\n",
      "{'creditos_fiuba': [7, 2]}\n",
      "{'creditos_fiuba': [9, 5]}\n"
     ]
    }
   ],
   "source": [
    "pedido = {\"creditos_fiuba\": 6}\n",
    "existencias = {\"creditos_fiuba\": [1, 2, 3, 5, 7]}\n",
    "print(soborno_greedy(existencias, pedido))\n",
    "\n",
    "pedido = {\"creditos_fiuba\": 9}\n",
    "existencias = {\"creditos_fiuba\": [1, 2, 3, 5, 7]}\n",
    "print(soborno_greedy(existencias, pedido))\n",
    "\n",
    "pedido = {\"creditos_fiuba\": 11}\n",
    "existencias = {\"creditos_fiuba\": [1, 1, 5, 6, 9]}\n",
    "print(soborno_greedy(existencias, pedido))"
   ]
  },
  {
   "attachments": {},
   "cell_type": "markdown",
   "metadata": {},
   "source": [
    "2. Con las mismas consideraciones que en el punto anterior, describir e implementar un algoritmo (que sea óptimo) que\n",
    "resuelva el problema utilizando programación dinámica."
   ]
  },
  {
   "attachments": {},
   "cell_type": "markdown",
   "metadata": {},
   "source": [
    "La primera opción que se nos ocurrió fue la siguiente:  \n",
    "1. Tomamos el primer paquete de la lista  \n",
    "2. Vemos la cantidad de paquetes restantes en la lista  \n",
    "  a. Si no quedan, devolvemos el paquete que acabamos de tomar  \n",
    "  b. Si quedan, pero en conjunto no alcanzan a cubrir la cantidad pedida, devolvemos una lista vacía (no hay solución con estos paquetes)  \n",
    "  c. Si quedan y en conjunto alcanzan a cubrir la cantidad pedida, vamos a tener que ver dos casos distintos (tomando el paquete actual y no tomándolo)  \n",
    "3. Calculamos el soborno restante teniendo en cuenta a ese elemento  \n",
    "  a. Si el total de la sumatoria de los paquetes restantes (punto 2) no alcanza a cubrir el soborno, es porque hay que tener en cuenta al primer paquete (punto 1), entonces, devolvemos al primer paquete y el resultado del cálculo del punto 3  \n",
    "  b. En caso contrario, hay que hacer el cálculo sin tener en cuenta al primer paquete  \n",
    "4. Calculamos el soborno restante sin tener en cuenta a ese elemento  \n",
    "5. Comparamos los resultados de los puntos 3 y 4 y devolvemos el que sume menor cantidad de productos"
   ]
  },
  {
   "cell_type": "code",
   "execution_count": null,
   "metadata": {},
   "outputs": [],
   "source": [
    "def _soborno_dinamico_beta(existencias, pedido):\n",
    "    if len(existencias) == 0:\n",
    "        return []\n",
    "    elemento = existencias[0]\n",
    "    elementos_restantes = existencias[1:]    \n",
    "    total_restante = sum(elementos_restantes)\n",
    "\n",
    "    # considerando el elemento\n",
    "    restante = pedido - elemento\n",
    "    if restante == 0:\n",
    "        return [elemento]\n",
    "    if total_restante < restante:\n",
    "        return []\n",
    "    soborno_restante = _soborno_dinamico_beta(elementos_restantes, restante)\n",
    "\n",
    "    # sin considerar el elemento\n",
    "    if total_restante < pedido:\n",
    "        return [elemento] + soborno_restante\n",
    "    soborno_sin_elemento = _soborno_dinamico_beta(elementos_restantes, pedido)\n",
    "    \n",
    "    total_con_elemento = sum([elemento] + soborno_restante)\n",
    "    total_sin_elemento = sum(soborno_sin_elemento)\n",
    "    if total_con_elemento < total_sin_elemento:\n",
    "        return [elemento] + soborno_restante\n",
    "    return soborno_sin_elemento\n",
    "  \n",
    "\n",
    "def soborno_dinamico_beta(existencias, pedido):\n",
    "    soborno = {}\n",
    "    for tipo in pedido.keys():\n",
    "        soborno[tipo] = _soborno_dinamico_beta(existencias[tipo], pedido[tipo])\n",
    "    return soborno"
   ]
  },
  {
   "cell_type": "code",
   "execution_count": null,
   "metadata": {},
   "outputs": [
    {
     "name": "stdout",
     "output_type": "stream",
     "text": [
      "{'creditos_fiuba': [1, 5]}\n",
      "{'creditos_fiuba': [2, 7]}\n",
      "{'creditos_fiuba': [5, 6]}\n"
     ]
    }
   ],
   "source": [
    "pedido = {\"creditos_fiuba\": 6}\n",
    "existencias = {\"creditos_fiuba\": [1, 2, 3, 5, 7]}\n",
    "print(soborno_dinamico_beta(existencias, pedido))\n",
    "\n",
    "pedido = {\"creditos_fiuba\": 9}\n",
    "existencias = {\"creditos_fiuba\": [1, 2, 3, 5, 7]}\n",
    "print(soborno_dinamico_beta(existencias, pedido))\n",
    "\n",
    "pedido = {\"creditos_fiuba\": 11}\n",
    "existencias = {\"creditos_fiuba\": [1, 1, 5, 6, 9]}\n",
    "print(soborno_dinamico_beta(existencias, pedido))"
   ]
  },
  {
   "attachments": {},
   "cell_type": "markdown",
   "metadata": {},
   "source": [
    "El problema de éste método es que no memoriza los resultados de los cálculos que va haciendo, lo cual es algo importante para que el algoritmo sea de programación dinámica. Por lo tanto, decidimos cambiarlo a fin de encontrar una solución óptima."
   ]
  },
  {
   "attachments": {},
   "cell_type": "markdown",
   "metadata": {},
   "source": [
    "El segundo approach que tomamos, fue pensar al problema de forma inversa. En lugar de pensar qué era lo que se quedaba el funcionario, pensamos qué nos quedamos nosotros como comerciantes. De esta forma, quedaria un problema igual al problema de la mochila con valores iguales al peso. De esta forma, intentamos maximizar la cantidad de items que nos quedamos. Como este algoritmo es óptimo para encontrar el máximo al problema de la mochila, también es óptimo para el problema inverso de minimizar la cantidad de elementos demas que le dejamos al funcionario."
   ]
  },
  {
   "cell_type": "code",
   "execution_count": null,
   "metadata": {},
   "outputs": [],
   "source": [
    "def mochila_simple(capacidad, pesos, cantidad_elementos):\n",
    "    matriz = [[0 for _ in range(capacidad + 1)] for _ in range(cantidad_elementos + 1)]\n",
    "\n",
    "    # Calculamos la solución óptima usando programación dinámica\n",
    "    for i in range(1, cantidad_elementos + 1):\n",
    "        for w in range(1, capacidad + 1):\n",
    "            if pesos[i-1] <= w:\n",
    "                matriz[i][w] = max(pesos[i-1] + matriz[i-1][w-pesos[i-1]], matriz[i-1][w])\n",
    "            else:\n",
    "                matriz[i][w] = matriz[i-1][w]\n",
    "    return matriz\n",
    "\n",
    "def mochila_simple_items(capacidad, pesos, cantidad_elementos):\n",
    "    matriz = mochila_simple(capacidad, pesos, cantidad_elementos)\n",
    "    # Reconstruimos la solución\n",
    "    elementos = []\n",
    "    w = capacidad\n",
    "    for i in range(cantidad_elementos, 0, -1):\n",
    "        if matriz[i][w] != matriz[i-1][w]:\n",
    "            elementos.append(i-1)\n",
    "            w -= pesos[i-1]\n",
    "    return elementos\n",
    "\n",
    "def _soborno_dinamico(existencias, pedido):\n",
    "    cantidad_elementos = len(existencias)\n",
    "    capacidad = sum(existencias) - pedido\n",
    "    if capacidad == 0:\n",
    "        return existencias\n",
    "    elementos_propios = mochila_simple_items(capacidad, existencias, cantidad_elementos)\n",
    "    soborno = existencias.copy()\n",
    "    for i in elementos_propios:\n",
    "        elemento = existencias[i]\n",
    "        soborno.remove(elemento)\n",
    "    return soborno\n",
    "\n",
    "def soborno_dinamico(existencias, pedido):\n",
    "    soborno = {}\n",
    "    existencias_copia = existencias.copy()\n",
    "    for tipo in pedido.keys():\n",
    "        soborno[tipo] = _soborno_dinamico(existencias_copia[tipo], pedido[tipo])\n",
    "    return soborno\n"
   ]
  },
  {
   "cell_type": "code",
   "execution_count": null,
   "metadata": {},
   "outputs": [
    {
     "name": "stdout",
     "output_type": "stream",
     "text": [
      "{'creditos_fiuba': [1, 5]}\n",
      "{'creditos_fiuba': [2, 7]}\n",
      "{'creditos_fiuba': [1, 1, 9]}\n"
     ]
    }
   ],
   "source": [
    "pedido = {\"creditos_fiuba\": 6}\n",
    "existencias = {\"creditos_fiuba\": [1, 2, 3, 5, 7]}\n",
    "print(soborno_dinamico(existencias, pedido))\n",
    "\n",
    "pedido = {\"creditos_fiuba\": 9}\n",
    "existencias = {\"creditos_fiuba\": [1, 2, 3, 5, 7]}\n",
    "print(soborno_dinamico(existencias, pedido))\n",
    "\n",
    "pedido = {\"creditos_fiuba\": 11}\n",
    "existencias = {\"creditos_fiuba\": [1, 1, 5, 6, 9]}\n",
    "print(soborno_dinamico(existencias, pedido))"
   ]
  },
  {
   "attachments": {},
   "cell_type": "markdown",
   "metadata": {},
   "source": [
    "3. Indicar y justificar la complejidad de ambos algoritmos propuestos. Indicar casos (características y ejemplos) de\n",
    "deficiencias en el algoritmo greedy propuesto, para los cuales este no obtenga una solución óptima."
   ]
  },
  {
   "attachments": {},
   "cell_type": "markdown",
   "metadata": {},
   "source": [
    "Siendo:  \n",
    "T -> Cantidad de distintos tipos extraños de productos solicitados  \n",
    "N -> Cantidad máxima de paquetes en existencias de un tipo de producto  \n",
    "\n",
    "**Algoritmo Greedy**  \n",
    "Para un tipo puntual producto, con el algoritmo greedy el peor caso es tener que dar todos los paquetes de ese tipo, resultando en N llamadas recursivas al algoritmo greedy. Una llamada (sin recursividad) al algoritmo greedy tiene una complejidad de O(N) ya que recorre la lista de paquetes una vez. Por lo tanto, la complejidad del algoritmo greedy para un sólo tipo es O(N^2).\n",
    "De esta forma, sindo T una cantidad variable, la complejidad del algoritmo greedy es O(T * N^2).\n",
    "\n",
    "**Algoritmo de programación dinámica**  \n",
    "Para el algoritmo del problema de la mochila, siento N' la cantidad de elementos y W la capacidad de la mochila, se sabe que la resolución con programación dinámica tiene una complejidad de O(N' * W).\n",
    "Como nuestro algoritmo es una modificación del problema de la mochila, para definir la complejidad de nuestro algoritmo:\n",
    "N' = N ya que la cantidad de elementos es igual a la cantidad de paquetes en existencias de un tipo de producto\n",
    "\n",
    "Para ver quién es W vamos a definir una nueva variable:\n",
    "D -> Diferencia máxima entre la cantidad de un tipo de elemento en existencias y la cantidad pedida de ese tipo de elemento\n",
    "\n",
    "W = D ya que en nuestro problema, nuestro input para W es la cantidad _a quedarnos_ de un producto, por lo que W sería D. En el problema de la mochila, en el peor caso tiene un W muy grande, y en nuestro problema el peor caso se da cuando nos piden un porcentaje muy chico de un producto que tenemos.\n",
    "\n",
    "De esta forma la complejidad para el algoritmo de programación dinámica, teniendo en cuenta que nos pueden pedir distintos tipos de productos, es O(T * N * D)."
   ]
  },
  {
   "attachments": {},
   "cell_type": "markdown",
   "metadata": {},
   "source": [
    "El algoritmo greedy cuenta con una deficiencia, y es que si la solución óptima no se puede representar con una forma puntual (explicada a continuación), el algoritmo no dará una solución óptima sino una aproximación.\n",
    "Formas en las que la solución óptima debe poder expresarse para poder obtenerla mediante el algoritmo greedy:  \n",
    "a. La solución óptima son los x paquetes más grandes  \n",
    "b. La solución óptima son los x paquetes más grandes + 1 paquete más chico (caso particular de a)  \n",
    "c. La solución óptima es un único paquete (caso particular de b con x = 0) "
   ]
  },
  {
   "cell_type": "code",
   "execution_count": null,
   "metadata": {},
   "outputs": [
    {
     "name": "stdout",
     "output_type": "stream",
     "text": [
      "Caso A Optimo\n",
      "Solucion con greedy: [7, 5], cantidad de elementos que se llevan 12\n",
      "Solucion optima: [5, 7], cantidad de elementos que se llevan 12\n",
      "\n",
      "Caso B Optimo\n",
      "Solucion con greedy: [7, 5, 2], cantidad de elementos que se llevan 14\n",
      "Solucion optima: [2, 5, 7], cantidad de elementos que se llevan 14\n",
      "\n",
      "Caso C Optimo\n",
      "Solucion con greedy: [6], cantidad de elementos que se llevan 6\n",
      "Solucion optima: [6], cantidad de elementos que se llevan 6\n",
      "\n",
      "Caso que falla\n",
      "Solucion con greedy: [7, 5], cantidad de elementos que se llevan 12\n",
      "Solucion optima: [1, 3, 7], cantidad de elementos que se llevan 11\n",
      "\n",
      "Caso que falla\n",
      "Solucion con greedy: [7, 2], cantidad de elementos que se llevan 9\n",
      "Solucion optima: [3, 5], cantidad de elementos que se llevan 8\n"
     ]
    }
   ],
   "source": [
    "# Caso A -> Optimo\n",
    "print(\"Caso A Optimo\")\n",
    "\n",
    "pedido = {\"creditos_fiuba\": 5+7}\n",
    "existencias = {\"creditos_fiuba\": [1, 2, 3, 5, 7]}\n",
    "greedy = soborno_greedy(existencias, pedido)[\"creditos_fiuba\"]\n",
    "optimo = soborno_dinamico(existencias, pedido)[\"creditos_fiuba\"]\n",
    "print(f\"Solucion con greedy: {greedy}, cantidad de elementos que se llevan {sum(greedy)}\")\n",
    "print(f\"Solucion optima: {optimo}, cantidad de elementos que se llevan {sum(optimo)}\")\n",
    "\n",
    "# Caso B -> Optimo\n",
    "print(\"\\nCaso B Optimo\")\n",
    "\n",
    "pedido = {\"creditos_fiuba\": 2+5+7}\n",
    "existencias = {\"creditos_fiuba\": [1, 2, 3, 5, 7]}\n",
    "greedy = soborno_greedy(existencias, pedido)[\"creditos_fiuba\"]\n",
    "optimo = soborno_dinamico(existencias, pedido)[\"creditos_fiuba\"]\n",
    "print(f\"Solucion con greedy: {greedy}, cantidad de elementos que se llevan {sum(greedy)}\")\n",
    "print(f\"Solucion optima: {optimo}, cantidad de elementos que se llevan {sum(optimo)}\")\n",
    "\n",
    "# Caso C -> Optimo\n",
    "print(\"\\nCaso C Optimo\")\n",
    "\n",
    "pedido = {\"creditos_fiuba\": 6}\n",
    "existencias = {\"creditos_fiuba\": [1, 1, 5, 6, 9]}\n",
    "greedy = soborno_greedy(existencias, pedido)[\"creditos_fiuba\"]\n",
    "optimo = soborno_dinamico(existencias, pedido)[\"creditos_fiuba\"]\n",
    "print(f\"Solucion con greedy: {greedy}, cantidad de elementos que se llevan {sum(greedy)}\")\n",
    "print(f\"Solucion optima: {optimo}, cantidad de elementos que se llevan {sum(optimo)}\")\n",
    "\n",
    "# Casos que no cumplen ninguna de las tres reglas\n",
    "\n",
    "print(\"\\nCaso que falla\")\n",
    "\n",
    "pedido = {\"creditos_fiuba\": 4+7 }\n",
    "existencias = {\"creditos_fiuba\": [1, 2, 3, 5, 7]}\n",
    "greedy = soborno_greedy(existencias, pedido)[\"creditos_fiuba\"]\n",
    "optimo = soborno_dinamico(existencias, pedido)[\"creditos_fiuba\"]\n",
    "print(f\"Solucion con greedy: {greedy}, cantidad de elementos que se llevan {sum(greedy)}\")\n",
    "print(f\"Solucion optima: {optimo}, cantidad de elementos que se llevan {sum(optimo)}\")\n",
    "\n",
    "print(\"\\nCaso que falla\")\n",
    "pedido = {\"creditos_fiuba\": 3+5}\n",
    "existencias = {\"creditos_fiuba\": [2, 3, 5, 7]}\n",
    "\n",
    "greedy = soborno_greedy(existencias, pedido)[\"creditos_fiuba\"]\n",
    "optimo = soborno_dinamico(existencias, pedido)[\"creditos_fiuba\"]\n",
    "print(f\"Solucion con greedy: {greedy}, cantidad de elementos que se llevan {sum(greedy)}\")\n",
    "print(f\"Solucion optima: {optimo}, cantidad de elementos que se llevan {sum(optimo)}\")"
   ]
  },
  {
   "attachments": {},
   "cell_type": "markdown",
   "metadata": {},
   "source": [
    "4. Implementar un programa que utilice ambos algoritmos, realizar mediciones y presentar resultados comparativos de\n",
    "ambas soluciones, en lo que refiere a su optimalidad de la solución (no de su complejidad). Incluir en la entrega del tp\n",
    "los sets de datos utilizados para estas simulaciones (que deben estar explicados en el informe). Estos deben incluir al\n",
    "menos una prueba de volumen, indicando cómo es que fueron generadas."
   ]
  },
  {
   "attachments": {},
   "cell_type": "markdown",
   "metadata": {},
   "source": [
    "Los sets de datos para las pruebas comparativas fueron creados con funciones que generan una cantidad random de productos por paquetes dada una cantidad de productos por tipo máxima y un salto entre cantidades. De esta forma, se pueden generar distintos sets a convenieniencia."
   ]
  },
  {
   "cell_type": "code",
   "execution_count": null,
   "metadata": {},
   "outputs": [],
   "source": [
    "import random\n",
    "\n",
    "def generar_random_arrays(n):\n",
    "    return [random.randint(1, 10 * n) for _ in range(n)]\n",
    "\n",
    "def generar_diccionarios(n, jump):\n",
    "    diccionarios = []\n",
    "    for i in range(10, n + 10, jump):\n",
    "        dicc_i = {}\n",
    "        elementos = i // 10\n",
    "        for j in range(elementos):\n",
    "            nombre = \"elemento_raro\" + str(j)\n",
    "            arreglo = generar_random_arrays(i)\n",
    "            dicc_i[nombre] = arreglo\n",
    "        diccionarios.append(dicc_i)\n",
    "    return diccionarios"
   ]
  },
  {
   "cell_type": "code",
   "execution_count": null,
   "metadata": {},
   "outputs": [],
   "source": [
    "def generar_coima(diccionario):\n",
    "    coima = {}\n",
    "    for key, value in diccionario.items():\n",
    "        max = sum(value)\n",
    "        cantidad = random.randint(0, max)\n",
    "        if cantidad > 0:\n",
    "            coima[key] = cantidad\n",
    "    return coima\n",
    "\n",
    "def generar_coimas(diccionario):\n",
    "    coimas = []\n",
    "    for d in diccionario:\n",
    "        coimas.append(generar_coima(d))\n",
    "    return coimas"
   ]
  },
  {
   "cell_type": "code",
   "execution_count": null,
   "metadata": {},
   "outputs": [],
   "source": [
    "def obtener_resultados(diccionarios, coimas, algoritmo):\n",
    "    resultados = []\n",
    "    for i in range(len(diccionarios)):\n",
    "        existencias = diccionarios[i]\n",
    "        pedido = coimas[i]\n",
    "        obtenido = algoritmo(existencias, pedido)\n",
    "        resultados.append(obtenido)\n",
    "    return resultados"
   ]
  },
  {
   "cell_type": "code",
   "execution_count": null,
   "metadata": {},
   "outputs": [],
   "source": [
    "def print_tabla(pedido, res):\n",
    "    for elem in pedido.keys():\n",
    "        print(f\"- {elem} -> se pidio: {pedido[elem]}, se obtuvo {sum(res[elem])} ({res[elem]})\")"
   ]
  },
  {
   "cell_type": "code",
   "execution_count": null,
   "metadata": {},
   "outputs": [],
   "source": [
    "def calcular_diferencia(coima, respuesta):\n",
    "    total_coima = sum(coima.values())\n",
    "    total_respuesta = sum([sum(x) for x in respuesta.values()])\n",
    "    return total_respuesta - total_coima"
   ]
  },
  {
   "attachments": {},
   "cell_type": "markdown",
   "metadata": {},
   "source": [
    "Comenzaremos con un test pequeño en donde imprimiremos una comparativa detallada de los resultados de ambos algoritmos."
   ]
  },
  {
   "cell_type": "code",
   "execution_count": null,
   "metadata": {},
   "outputs": [],
   "source": [
    "diccionarios = generar_diccionarios(50, 10)\n",
    "coimas = generar_coimas(diccionarios)"
   ]
  },
  {
   "cell_type": "code",
   "execution_count": null,
   "metadata": {},
   "outputs": [],
   "source": [
    "resultados_greedy = obtener_resultados(diccionarios, coimas, soborno_greedy)\n",
    "resultados_dinamico = obtener_resultados(diccionarios, coimas, soborno_dinamico)"
   ]
  },
  {
   "cell_type": "code",
   "execution_count": null,
   "metadata": {},
   "outputs": [
    {
     "name": "stdout",
     "output_type": "stream",
     "text": [
      "::Pedido 0::\n",
      "Greedy\n",
      "- elemento_raro0 -> se pidio: 132, se obtuvo 133 ([99, 34])\n",
      "Dinamico\n",
      "- elemento_raro0 -> se pidio: 132, se obtuvo 132 ([1, 97, 34])\n",
      "\n",
      "Diferencia total (suma de las diferencias de cada elemento):\n",
      "Greedy: 1 | Dinamico: 0\n",
      "\n",
      "::Pedido 1::\n",
      "Greedy\n",
      "- elemento_raro0 -> se pidio: 1566, se obtuvo 1566 ([186, 178, 175, 175, 170, 167, 162, 155, 129, 69])\n",
      "- elemento_raro1 -> se pidio: 134, se obtuvo 134 ([134])\n",
      "Dinamico\n",
      "- elemento_raro0 -> se pidio: 1566, se obtuvo 1566 ([186, 91, 155, 9, 167, 178, 170, 129, 65, 35, 12, 69, 42, 175, 47, 36])\n",
      "- elemento_raro1 -> se pidio: 134, se obtuvo 134 ([53, 38, 43])\n",
      "\n",
      "Diferencia total (suma de las diferencias de cada elemento):\n",
      "Greedy: 0 | Dinamico: 0\n",
      "\n",
      "::Pedido 2::\n",
      "Greedy\n",
      "- elemento_raro0 -> se pidio: 3039, se obtuvo 3041 ([270, 266, 263, 228, 227, 211, 205, 205, 205, 200, 187, 170, 160, 157, 87])\n",
      "- elemento_raro1 -> se pidio: 194, se obtuvo 194 ([194])\n",
      "- elemento_raro2 -> se pidio: 4572, se obtuvo 4580 ([298, 291, 286, 283, 274, 268, 260, 254, 247, 223, 187, 180, 171, 165, 158, 150, 143, 138, 130, 114, 80, 73, 59, 58, 58, 32])\n",
      "Dinamico\n",
      "- elemento_raro0 -> se pidio: 3039, se obtuvo 3039 ([228, 211, 26, 266, 20, 170, 200, 71, 87, 54, 93, 146, 156, 146, 205, 13, 68, 157, 205, 187, 125, 59, 146])\n",
      "- elemento_raro1 -> se pidio: 194, se obtuvo 194 ([14, 81, 54, 45])\n",
      "- elemento_raro2 -> se pidio: 4572, se obtuvo 4572 ([165, 158, 73, 4, 260, 223, 268, 180, 291, 57, 298, 32, 58, 247, 286, 187, 143, 283, 114, 41, 80, 130, 138, 7, 274, 150, 254, 171])\n",
      "\n",
      "Diferencia total (suma de las diferencias de cada elemento):\n",
      "Greedy: 10 | Dinamico: 0\n",
      "\n",
      "::Pedido 3::\n",
      "Greedy\n",
      "- elemento_raro0 -> se pidio: 6601, se obtuvo 6602 ([396, 391, 347, 345, 344, 341, 319, 310, 299, 285, 268, 257, 250, 232, 230, 227, 213, 212, 211, 161, 155, 132, 109, 108, 107, 99, 89, 77, 77, 11])\n",
      "- elemento_raro1 -> se pidio: 1515, se obtuvo 1516 ([392, 387, 360, 345, 32])\n",
      "- elemento_raro2 -> se pidio: 4782, se obtuvo 4785 ([395, 387, 380, 371, 344, 335, 333, 330, 321, 319, 311, 305, 291, 269, 94])\n",
      "- elemento_raro3 -> se pidio: 1895, se obtuvo 1898 ([388, 380, 376, 372, 369, 13])\n",
      "Dinamico\n",
      "- elemento_raro0 -> se pidio: 6601, se obtuvo 6601 ([109, 310, 299, 99, 77, 345, 396, 108, 212, 41, 257, 341, 250, 56, 41, 132, 211, 11, 13, 155, 73, 22, 319, 344, 227, 232, 391, 61, 347, 230, 268, 50, 285, 77, 161, 51])\n",
      "- elemento_raro1 -> se pidio: 1515, se obtuvo 1515 ([15, 51, 12, 63, 205, 14, 44, 126, 21, 227, 273, 196, 137, 131])\n",
      "- elemento_raro2 -> se pidio: 4782, se obtuvo 4782 ([380, 335, 333, 344, 100, 238, 234, 195, 269, 63, 94, 232, 70, 330, 68, 115, 29, 47, 25, 68, 144, 148, 239, 161, 109, 305, 107])\n",
      "- elemento_raro3 -> se pidio: 1895, se obtuvo 1895 ([48, 14, 68, 132, 280, 333, 146, 172, 376, 268, 58])\n",
      "\n",
      "Diferencia total (suma de las diferencias de cada elemento):\n",
      "Greedy: 8 | Dinamico: 0\n",
      "\n",
      "::Pedido 4::\n",
      "Greedy\n",
      "- elemento_raro0 -> se pidio: 10240, se obtuvo 10256 ([493, 485, 482, 466, 435, 435, 420, 411, 406, 404, 380, 372, 360, 337, 327, 303, 297, 287, 255, 245, 242, 242, 234, 233, 219, 215, 212, 210, 207, 207, 195, 185, 55])\n",
      "- elemento_raro1 -> se pidio: 5835, se obtuvo 5837 ([474, 467, 464, 462, 437, 423, 403, 402, 382, 374, 368, 355, 354, 345, 127])\n",
      "- elemento_raro2 -> se pidio: 11056, se obtuvo 11058 ([500, 495, 482, 481, 471, 455, 453, 426, 421, 415, 415, 403, 399, 381, 376, 331, 313, 305, 304, 293, 243, 223, 217, 208, 206, 206, 203, 195, 181, 161, 158, 147, 145, 128, 124, 120, 74])\n",
      "- elemento_raro3 -> se pidio: 8883, se obtuvo 8891 ([496, 496, 495, 495, 487, 483, 481, 480, 464, 428, 426, 423, 414, 414, 405, 365, 361, 352, 351, 346, 229])\n",
      "- elemento_raro4 -> se pidio: 7625, se obtuvo 7670 ([500, 495, 482, 478, 453, 435, 425, 411, 405, 403, 394, 392, 381, 376, 372, 371, 352, 347, 198])\n",
      "Dinamico\n",
      "- elemento_raro0 -> se pidio: 10240, se obtuvo 10240 ([128, 215, 87, 13, 92, 73, 31, 3, 185, 360, 242, 26, 435, 75, 404, 372, 219, 245, 297, 327, 303, 207, 233, 86, 287, 61, 180, 435, 493, 210, 337, 466, 55, 34, 234, 212, 55, 482, 420, 411, 5, 72, 406, 485, 242])\n",
      "- elemento_raro1 -> se pidio: 5835, se obtuvo 5835 ([355, 49, 345, 52, 88, 109, 374, 312, 339, 157, 92, 467, 330, 50, 218, 62, 313, 464, 97, 265, 215, 368, 102, 382, 230])\n",
      "- elemento_raro2 -> se pidio: 11056, se obtuvo 11056 ([111, 128, 74, 112, 115, 481, 500, 147, 74, 455, 9, 145, 243, 112, 195, 120, 124, 381, 223, 482, 208, 415, 471, 206, 158, 403, 117, 376, 67, 217, 415, 17, 453, 161, 495, 421, 68, 181, 313, 203, 331, 304, 399, 426])\n",
      "- elemento_raro3 -> se pidio: 8883, se obtuvo 8883 ([137, 346, 21, 328, 495, 365, 174, 428, 480, 229, 314, 217, 328, 278, 332, 190, 148, 361, 352, 332, 31, 253, 88, 300, 134, 127, 302, 97, 106, 426, 251, 94, 10, 313, 496])\n",
      "- elemento_raro4 -> se pidio: 7625, se obtuvo 7625 ([203, 45, 211, 203, 262, 36, 290, 125, 482, 352, 263, 347, 245, 198, 435, 228, 425, 394, 264, 109, 405, 45, 59, 7, 381, 29, 43, 272, 296, 250, 5, 133, 54, 18, 119, 392])\n",
      "\n",
      "Diferencia total (suma de las diferencias de cada elemento):\n",
      "Greedy: 73 | Dinamico: 0\n",
      "\n"
     ]
    }
   ],
   "source": [
    "for i in range(len(diccionarios)):\n",
    "    pedido = coimas[i]\n",
    "    res_greedy = resultados_greedy[i]\n",
    "    res_dinamico = resultados_dinamico[i]\n",
    "    print(f\"::Pedido {i}::\")\n",
    "    print(\"Greedy\")\n",
    "    print_tabla(pedido, res_greedy)\n",
    "    print(\"Dinamico\")\n",
    "    print_tabla(pedido, res_dinamico)\n",
    "    print(\"\\nDiferencia total (suma de las diferencias de cada elemento):\")\n",
    "    print(f\"Greedy: {calcular_diferencia(pedido, res_greedy)}\", end=\" | \")\n",
    "    print(f\"Dinamico: {calcular_diferencia(pedido, res_dinamico)}\\n\")"
   ]
  },
  {
   "attachments": {},
   "cell_type": "markdown",
   "metadata": {},
   "source": [
    "Ahora haremos pruebas más grandes, por lo tanto mostraremos sólo las diferencias totales a modo de comparativa."
   ]
  },
  {
   "cell_type": "code",
   "execution_count": null,
   "metadata": {},
   "outputs": [],
   "source": [
    "diccionarios = generar_diccionarios(150, 5)\n",
    "coimas = generar_coimas(diccionarios)"
   ]
  },
  {
   "cell_type": "code",
   "execution_count": null,
   "metadata": {},
   "outputs": [],
   "source": [
    "resultados_greedy = obtener_resultados(diccionarios, coimas, soborno_greedy)"
   ]
  },
  {
   "cell_type": "code",
   "execution_count": null,
   "metadata": {},
   "outputs": [],
   "source": [
    "resultados_dinamico = obtener_resultados(diccionarios, coimas, soborno_dinamico)"
   ]
  },
  {
   "attachments": {},
   "cell_type": "markdown",
   "metadata": {},
   "source": [
    "Debido a tener un output muy grande, los resultados de las siguientes pruebas se encuentran en el archivo \"PruebasDeVolumen.txt\"."
   ]
  },
  {
   "cell_type": "code",
   "execution_count": null,
   "metadata": {},
   "outputs": [],
   "source": [
    "with open(\"PruebasDeVolumen.txt\", 'w', encoding=\"utf-8\") as archivo:\n",
    "    for i in range(len(diccionarios)):\n",
    "        pedido = coimas[i]\n",
    "        res_greedy = resultados_greedy[i]\n",
    "        res_dinamico = resultados_dinamico[i]\n",
    "        cant_tipos_solicitados = len(list(pedido.keys()))\n",
    "        cant_elementos = len(diccionarios[i][list(pedido.keys())[0]]) # Cantidad de paquetes por tipo\n",
    "        archivo.write(f\"::Pedido {i}:: -> {cant_tipos_solicitados} tipos de productos, {cant_elementos} paquetes por tipo\\n\")\n",
    "        archivo.write(\"\\tDiferencia total (suma de las diferencias de cada elemento):\\n\")\n",
    "        diferencia_greedy = calcular_diferencia(pedido, res_greedy)\n",
    "        diferencia_dinamico = calcular_diferencia(pedido, res_dinamico)\n",
    "        archivo.write(f\"\\t\\tGreedy: {diferencia_greedy} | Dinámico: {diferencia_dinamico}\\n\")\n",
    "        diferencia_algoritmos = diferencia_greedy - diferencia_dinamico\n",
    "        if diferencia_algoritmos == 0:\n",
    "            archivo.write(\"\\t\\tAmbos algoritmos dieron el mismo resultado -> Greedy fue óptimo\\n\\n\")\n",
    "        else:\n",
    "            archivo.write(f\"\\t\\tDinámico dio un total de {diferencia_algoritmos} productos menos que Greedy\\n\\n\")"
   ]
  }
 ],
 "metadata": {
  "kernelspec": {
   "display_name": "Python 3",
   "language": "python",
   "name": "python3"
  },
  "language_info": {
   "codemirror_mode": {
    "name": "ipython",
    "version": 3
   },
   "file_extension": ".py",
   "mimetype": "text/x-python",
   "name": "python",
   "nbconvert_exporter": "python",
   "pygments_lexer": "ipython3",
   "version": "3.10.4"
  },
  "orig_nbformat": 4
 },
 "nbformat": 4,
 "nbformat_minor": 2
}
