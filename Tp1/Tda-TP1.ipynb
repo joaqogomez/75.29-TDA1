{
 "cells": [
  {
   "attachments": {},
   "cell_type": "markdown",
   "metadata": {},
   "source": [
    "# Trabajo Práctico 1: Técnicas de Diseño\n",
    "El presente trabajo busca evaluar el desarrollo y análisis de algoritmos de las primeras técnicas de diseño vistas en la materia.\n",
    "La primera fecha de entrega del TP será el 01/05/23, mientras que la segunda fecha de entrega (con reducción de nota) será\n",
    "el 12/05/23."
   ]
  },
  {
   "attachments": {},
   "cell_type": "markdown",
   "metadata": {},
   "source": [
    "## Primera Parte: Problema de K-merge por División y Conquista\n",
    "### Introducción\n",
    "El problema de K-merge es el siguiente: se tienen K arreglos ordenados, y se quiere quiere obtener un único arreglo, también\n",
    "ordenado, con todos los elementos de los arreglos originales (inclusive si hay repetidos). Por simplicidad para los diferentes\n",
    "análisis se puede suponer que todos los arreglos tienen exactamente h elementos (por ende, la cantidad total de elementos es\n",
    "n = K ∗ h).\n",
    "Para resolver este problema, es posible que hayan visto en Algoritmos y Programación II un algoritmo que resuelve este\n",
    "problema utilizando un Heap. Nos referiremos a este como el algoritmo que utiliza Heaps.\n",
    "La idea en este caso será plantear otra solución y analizarla. Se propone el siguiente algoritmo por división y conquista, con\n",
    "semejanzas a mergesort.\n",
    "1. Caso base: cuando quede un único arreglo, simplemente devolver dicho arreglo.\n",
    "2. En el caso general, dividir la cantidad de arreglos entre la primera mitad, y la segunda mitad, y luego invocar\n",
    "recursivamente para cada mitad de arreglos. Es decir, si tenemos cuatro arreglos, invocamos para los primeros 2, y\n",
    "luego para los segundos 2. Al terminar los llamados recursivos, tenemos dos arreglos ordenados. Estos deberán ser\n",
    "intercalados ordenadamente, tal cual se realiza en mergesort.\n"
   ]
  },
  {
   "attachments": {},
   "cell_type": "markdown",
   "metadata": {},
   "source": [
    "### Consigna\n",
    "1. Determinar, utilizando el Teorema Maestro, cuál sería la complejidad del algoritmo propuesto.\n",
    "2. Describir el algoritmo que utiliza heaps, y determinar su complejidad.\n",
    "3. Implementar ambos algoritmos, y hacer mediciones (y gráficos) que permitan entender si las complejidades obtenidas\n",
    "para cada uno se condicen con la realidad.\n",
    "4. En caso que la complejidad obtenida en el punto 1 no se condiga con la realidad, indicar por qué (qué condición falla).\n",
    "En dicho caso, se requiere llegar a la complejidad correcta (no solamente enunciarla, sino demostrar cuál es).\n",
    "5. Indicar cualquier conclusión adicional que les parezca relevante en base a lo analizado."
   ]
  },
  {
   "attachments": {},
   "cell_type": "markdown",
   "metadata": {},
   "source": [
    "1. Determinar, utilizando el Teorema Maestro, cuál sería la complejidad del algoritmo propuesto.\n",
    "\n",
    "El Teorema Maestro tiene la siguiente fórmula: \n",
    "\n",
    "T(n) = AT(n/B) + f(n)\n",
    "\n",
    "Donde:\n",
    "\n",
    "A -> cantidad de llamadas recursivas (con A natural)\n",
    "\n",
    "B -> proporción del tamaño original con el que llamamos recursivamente (con B real mayor a 1 y cte)\n",
    "\n",
    "f(n) -> costo del trabajo que hacemos en cada llamada recursiva\n",
    "\n",
    "En este caso tenemos:\n",
    "$$\n",
    "\\newline\n",
    "A = 2\n",
    "\\newline\n",
    "B = 2\n",
    "\\newline\n",
    "f(n) = O(n^C)\\; donde\\; C = 1\n",
    "\\newline\n",
    "log_B(A) = log_2(2) = 1 \\rightarrow como\\;  log_B(A) = C \\rightarrow  O(n^c * log(n)) = O(n log(n))\n",
    "$$\n",
    "Siendo n = K ∗ h, con K la cantidad de arreglos y h la cantidad de elementos de cada arreglo."
   ]
  },
  {
   "attachments": {},
   "cell_type": "markdown",
   "metadata": {},
   "source": [
    "2. Describir el algoritmo que utiliza heaps, y determinar su complejidad.\n",
    "\n",
    "El algoritmo que utiliza heaps es el siguiente:\n",
    "\n",
    "    1. Agregar a un heap el primer elemento de cada uno de los arrays junto con su índice y el índice del array al que pertenece.\n",
    "\n",
    "    2. Mientras que el heap no esté vacío:\n",
    "    \n",
    "       a. Tomar el primer elemento del heap y agregar el valor al resultado.\n",
    "\n",
    "       b. Si el índice del elemento tomado es menor al tamaño del array al que pertenece, agregar el siguiente elemento del array al heap junto con su índice y el índice del array al que pertenece.\n",
    "\n",
    "    3. Devolver el resultado.\n",
    "\n",
    "1 -> O(K)\n",
    "2 -> K * h veces\n",
    "  a -> O(log(K))\n",
    "  b -> O(log(K))\n",
    "\n",
    "O(K) + K * h * O(log(K)) -> O(K + K * h * log(K))\n",
    "K << K * h * log(K), entonces se desprecia K y queda O(K * h * log(K))\n",
    "\n",
    "\n",
    "Siendo K la cantidad de arreglos y h la cantidad de elementos de cada arreglo."
   ]
  },
  {
   "attachments": {},
   "cell_type": "markdown",
   "metadata": {},
   "source": [
    "3. Implementar ambos algoritmos, y hacer mediciones (y gráficos) que permitan entender si las complejidades obtenidas\n",
    "para cada uno se condicen con la realidad."
   ]
  },
  {
   "cell_type": "code",
   "execution_count": 39,
   "metadata": {},
   "outputs": [],
   "source": [
    "PRINT = False"
   ]
  },
  {
   "cell_type": "code",
   "execution_count": 40,
   "metadata": {},
   "outputs": [
    {
     "name": "stdout",
     "output_type": "stream",
     "text": [
      "Lista ordenada: [1, 1, 1, 1, 2, 2, 2, 2, 3, 3, 3, 3, 4, 4, 4, 4, 5, 5, 5, 5, 6, 6, 6, 6, 7, 7, 7, 7, 8, 8, 8, 8, 9, 9, 9, 9, 10, 10, 10, 10, 11, 11, 11, 11, 12, 12, 12, 12, 13, 13, 13, 13, 14, 14, 14, 14, 15, 15, 15, 15, 16, 16, 16, 16, 17, 17, 17, 17, 18, 18, 18, 18, 19, 19, 19, 19, 20, 20, 20, 20, 21, 21, 21, 21, 22, 22, 22, 22, 23, 23, 23, 23, 24, 24, 24, 24, 25, 25, 25, 25, 26, 26, 26, 26, 27, 27, 27, 27, 28, 28, 28, 28]\n",
      "¿Está ordenada?: True\n"
     ]
    }
   ],
   "source": [
    "from heapq import heappush, heappop\n",
    "\n",
    "def heap_mergeK_sorted(arrays):\n",
    "    result = []\n",
    "    heap = []\n",
    "\n",
    "    for i in range(len(arrays)):\n",
    "        heappush(heap, (arrays[i][0], i, 0))\n",
    "    \n",
    "    while heap:\n",
    "        if PRINT:\n",
    "            print(f\"El resultado parcial es: {result}\")\n",
    "            print(f\"Los elementos en el heap son: {heap}\")\n",
    "        value, array_indice, value_indice = heappop(heap)\n",
    "        result.append(value)\n",
    "        if value_indice + 1 < len(arrays[array_indice]):\n",
    "            heappush(heap, (arrays[array_indice][value_indice + 1], array_indice, value_indice + 1))\n",
    "        \n",
    "    return result\n",
    "\n",
    "\n",
    "arrays = [\n",
    "    [5, 6,  8,  16, 17, 18, 19],\n",
    "    [3, 7,  12, 13, 20, 21, 22],\n",
    "    [1, 10, 11, 15, 23, 24, 25],\n",
    "    [2, 4,  9,  14, 26, 27, 28],\n",
    "    [5, 6,  8,  16, 17, 18, 19],\n",
    "    [3, 7,  12, 13, 20, 21, 22],\n",
    "    [1, 10, 11, 15, 23, 24, 25],\n",
    "    [2, 4,  9,  14, 26, 27, 28],\n",
    "    [5, 6,  8,  16, 17, 18, 19],\n",
    "    [3, 7,  12, 13, 20, 21, 22],\n",
    "    [1, 10, 11, 15, 23, 24, 25],\n",
    "    [2, 4,  9,  14, 26, 27, 28],\n",
    "    [5, 6,  8,  16, 17, 18, 19],\n",
    "    [3, 7,  12, 13, 20, 21, 22],\n",
    "    [1, 10, 11, 15, 23, 24, 25],\n",
    "    [2, 4,  9,  14, 26, 27, 28],\n",
    "]\n",
    "\n",
    "result = heap_mergeK_sorted(arrays)\n",
    "print(f\"Lista ordenada: {result}\")\n",
    "print(f\"¿Está ordenada?: {result == sorted(result)}\")"
   ]
  },
  {
   "cell_type": "code",
   "execution_count": 41,
   "metadata": {},
   "outputs": [
    {
     "name": "stdout",
     "output_type": "stream",
     "text": [
      "Lista ordenada: [1, 1, 1, 1, 2, 2, 2, 2, 3, 3, 3, 3, 4, 4, 4, 4, 5, 5, 5, 5, 6, 6, 6, 6, 7, 7, 7, 7, 8, 8, 8, 8, 9, 9, 9, 9, 10, 10, 10, 10, 11, 11, 11, 11, 12, 12, 12, 12, 13, 13, 13, 13, 14, 14, 14, 14, 15, 15, 15, 15, 16, 16, 16, 16, 17, 17, 17, 17, 18, 18, 18, 18, 19, 19, 19, 19, 20, 20, 20, 20, 21, 21, 21, 21, 22, 22, 22, 22, 23, 23, 23, 23, 24, 24, 24, 24, 25, 25, 25, 25, 26, 26, 26, 26, 27, 27, 27, 27, 28, 28, 28, 28]\n",
      "¿Está ordenada?: True\n"
     ]
    }
   ],
   "source": [
    "def merge(left_array, right_array): # O(n) -> n = len(left_array) + len(right_array)\n",
    "    result = []\n",
    "    \n",
    "    i = 0\n",
    "    j = 0\n",
    "    while i < len(left_array) and j < len(right_array):\n",
    "        if left_array[i] < right_array[j]:\n",
    "            result.append(left_array[i])\n",
    "            i += 1\n",
    "        else:\n",
    "            result.append(right_array[j])\n",
    "            j += 1\n",
    "    \n",
    "    if i < len(left_array):\n",
    "        result.extend(left_array[i:])\n",
    "    if j < len(right_array):\n",
    "        result.extend(right_array[j:])\n",
    "    return result\n",
    "     \n",
    "def _dyc_mergeK_sorted(arrays, start, end):\n",
    "    if start == end:\n",
    "        return arrays[start]\n",
    "        \n",
    "    mid = (start + end) // 2\n",
    "    left = _dyc_mergeK_sorted(arrays, start, mid)\n",
    "    right = _dyc_mergeK_sorted(arrays, mid + 1, end)\n",
    "    if PRINT:\n",
    "        print(f\"Voy a mergear:\")\n",
    "        print(f\"-> izquierda: {left}\")\n",
    "        print(f\"-> derecha: {right}\")\n",
    "    return merge(left, right)\n",
    "\n",
    "def dyc_mergeK_sorted(arrays):\n",
    "    return _dyc_mergeK_sorted(arrays, 0, len(arrays) - 1)\n",
    "\n",
    "arrs = [\n",
    "    [5, 6,  8,  16, 17, 18, 19],\n",
    "    [3, 7,  12, 13, 20, 21, 22],\n",
    "    [1, 10, 11, 15, 23, 24, 25],\n",
    "    [2, 4,  9,  14, 26, 27, 28],\n",
    "    [5, 6,  8,  16, 17, 18, 19],\n",
    "    [3, 7,  12, 13, 20, 21, 22],\n",
    "    [1, 10, 11, 15, 23, 24, 25],\n",
    "    [2, 4,  9,  14, 26, 27, 28],\n",
    "    [5, 6,  8,  16, 17, 18, 19],\n",
    "    [3, 7,  12, 13, 20, 21, 22],\n",
    "    [1, 10, 11, 15, 23, 24, 25],\n",
    "    [2, 4,  9,  14, 26, 27, 28],\n",
    "    [5, 6,  8,  16, 17, 18, 19],\n",
    "    [3, 7,  12, 13, 20, 21, 22],\n",
    "    [1, 10, 11, 15, 23, 24, 25],\n",
    "    [2, 4,  9,  14, 26, 27, 28],\n",
    "]\n",
    "\n",
    "result = dyc_mergeK_sorted(arrs)\n",
    "print(f\"Lista ordenada: {result}\")\n",
    "print(f\"¿Está ordenada?: {result == sorted(result)}\")\n"
   ]
  },
  {
   "cell_type": "code",
   "execution_count": 42,
   "metadata": {},
   "outputs": [
    {
     "name": "stdout",
     "output_type": "stream",
     "text": [
      "Requirement already satisfied: matplotlib in c:\\users\\pc\\appdata\\local\\programs\\python\\python310\\lib\\site-packages (3.7.1)\n",
      "Requirement already satisfied: cycler>=0.10 in c:\\users\\pc\\appdata\\local\\programs\\python\\python310\\lib\\site-packages (from matplotlib) (0.11.0)\n",
      "Requirement already satisfied: kiwisolver>=1.0.1 in c:\\users\\pc\\appdata\\local\\programs\\python\\python310\\lib\\site-packages (from matplotlib) (1.4.4)\n",
      "Requirement already satisfied: contourpy>=1.0.1 in c:\\users\\pc\\appdata\\local\\programs\\python\\python310\\lib\\site-packages (from matplotlib) (1.0.7)\n",
      "Requirement already satisfied: python-dateutil>=2.7 in c:\\users\\pc\\appdata\\local\\programs\\python\\python310\\lib\\site-packages (from matplotlib) (2.8.2)\n",
      "Requirement already satisfied: fonttools>=4.22.0 in c:\\users\\pc\\appdata\\local\\programs\\python\\python310\\lib\\site-packages (from matplotlib) (4.39.3)\n",
      "Requirement already satisfied: pillow>=6.2.0 in c:\\users\\pc\\appdata\\local\\programs\\python\\python310\\lib\\site-packages (from matplotlib) (9.5.0)\n",
      "Requirement already satisfied: packaging>=20.0 in c:\\users\\pc\\appdata\\roaming\\python\\python310\\site-packages (from matplotlib) (20.9)\n",
      "Requirement already satisfied: pyparsing>=2.3.1 in c:\\users\\pc\\appdata\\roaming\\python\\python310\\site-packages (from matplotlib) (3.0.9)\n",
      "Requirement already satisfied: numpy>=1.20 in c:\\users\\pc\\appdata\\local\\programs\\python\\python310\\lib\\site-packages (from matplotlib) (1.23.1)\n",
      "Requirement already satisfied: six>=1.5 in c:\\users\\pc\\appdata\\local\\programs\\python\\python310\\lib\\site-packages (from python-dateutil>=2.7->matplotlib) (1.16.0)\n"
     ]
    },
    {
     "name": "stderr",
     "output_type": "stream",
     "text": [
      "\n",
      "[notice] A new release of pip available: 22.2.2 -> 23.1.1\n",
      "[notice] To update, run: python.exe -m pip install --upgrade pip\n"
     ]
    }
   ],
   "source": [
    "!pip install matplotlib"
   ]
  },
  {
   "cell_type": "code",
   "execution_count": 43,
   "metadata": {},
   "outputs": [],
   "source": [
    "import random\n",
    "from time import time\n",
    "from matplotlib import pyplot as plt\n",
    "\n",
    "def generate_arrays(k, h):\n",
    "    arrays = []\n",
    "    for _ in range(k):\n",
    "        array = []\n",
    "        for _ in range(h):\n",
    "            array.append(random.randint(0, k*h))\n",
    "        array.sort()\n",
    "        arrays.append(array)\n",
    "    return arrays"
   ]
  },
  {
   "cell_type": "code",
   "execution_count": 44,
   "metadata": {},
   "outputs": [],
   "source": [
    "array_arrays = []\n",
    "for k in range(1, 500):\n",
    "    arrays = generate_arrays(k, k)\n",
    "    array_arrays.append(arrays)"
   ]
  },
  {
   "cell_type": "code",
   "execution_count": 45,
   "metadata": {},
   "outputs": [],
   "source": [
    "heap_merge_times = {}\n",
    "for arrays in array_arrays:\n",
    "    k = len(arrays)\n",
    "    start = time()\n",
    "    heap_mergeK_sorted(arrays)\n",
    "    end = time()\n",
    "    heap_merge_times[k*k] = end - start    "
   ]
  },
  {
   "cell_type": "code",
   "execution_count": 46,
   "metadata": {},
   "outputs": [
    {
     "data": {
      "image/png": "[encoded data removed]",
      "text/plain": [
       "<Figure size 432x288 with 1 Axes>"
      ]
     },
     "metadata": {
      "needs_background": "light"
     },
     "output_type": "display_data"
    }
   ],
   "source": [
    "plt.plot(heap_merge_times.keys(), heap_merge_times.values())\n",
    "plt.xlabel('Cantidad de elementos')\n",
    "plt.ylabel('Tiempo')\n",
    "plt.show()"
   ]
  },
  {
   "cell_type": "code",
   "execution_count": 47,
   "metadata": {},
   "outputs": [],
   "source": [
    "dyc_merge_times = {}\n",
    "\n",
    "for array in array_arrays:\n",
    "    k = len(array)   \n",
    "    start = time()\n",
    "    resultado = dyc_mergeK_sorted(array)\n",
    "    end = time()\n",
    "    dyc_merge_times[k*k] = end - start"
   ]
  },
  {
   "cell_type": "code",
   "execution_count": 48,
   "metadata": {},
   "outputs": [
    {
     "data": {
      "text/plain": [
       "23.968761205673218"
      ]
     },
     "execution_count": 48,
     "metadata": {},
     "output_type": "execute_result"
    }
   ],
   "source": [
    "# heap_merge_times.values()\n",
    "suma = 0\n",
    "for value in heap_merge_times.values():\n",
    "    suma += value\n",
    "suma"
   ]
  },
  {
   "cell_type": "code",
   "execution_count": 49,
   "metadata": {},
   "outputs": [
    {
     "data": {
      "text/plain": [
       "62.33039045333862"
      ]
     },
     "execution_count": 49,
     "metadata": {},
     "output_type": "execute_result"
    }
   ],
   "source": [
    "suma = 0\n",
    "for value in dyc_merge_times.values():\n",
    "    suma += value\n",
    "suma"
   ]
  },
  {
   "cell_type": "code",
   "execution_count": 50,
   "metadata": {},
   "outputs": [
    {
     "data": {
      "image/png": "[encoded data removed]",
      "text/plain": [
       "<Figure size 432x288 with 1 Axes>"
      ]
     },
     "metadata": {
      "needs_background": "light"
     },
     "output_type": "display_data"
    }
   ],
   "source": [
    "plt.plot(dyc_merge_times.keys(), dyc_merge_times.values())\n",
    "plt.show()"
   ]
  },
  {
   "cell_type": "code",
   "execution_count": 61,
   "metadata": {},
   "outputs": [
    {
     "data": {
      "image/png": "[encoded data removed]",
      "text/plain": [
       "<Figure size 432x288 with 1 Axes>"
      ]
     },
     "metadata": {
      "needs_background": "light"
     },
     "output_type": "display_data"
    }
   ],
   "source": [
    "plt.plot(heap_merge_times.keys(), heap_merge_times.values())\n",
    "plt.plot(dyc_merge_times.keys(), dyc_merge_times.values())\n",
    "plt.xlabel('Cantidad de elementos')\n",
    "plt.ylabel('Tiempo')\n",
    "plt.show()"
   ]
  },
  {
   "attachments": {},
   "cell_type": "markdown",
   "metadata": {},
   "source": [
    "En el punto 1 se obtuvo que la complejidad del algoritmo propuesto es O(n log(n)), siendo n = K ∗ h, con K la cantidad de arreglos y h la cantidad de elementos de cada arreglo. Sin embargo, con las mediciones del punto 3 se puede ver que la complejidad en realidad es diferente.  \n",
    "\n",
    "Entonces verificamos las condiciones del Teorema Maestro para ver si se cumplen:\n",
    "- A debe ser un número natural: Sí, A = 2\n",
    "- B debe ser un número real mayor a 1: Sí, B = 2\n",
    "- B debe ser constante: Sí, B = 2 a lo largo de todas las llamadas recursivas\n",
    "- El caso base es constante: Sí, el caso base es cuando queda un único arreglo, y en ese caso la complejidad es O(1)\n",
    "\n",
    "\n",
    "\n"
   ]
  },
  {
   "cell_type": "code",
   "execution_count": null,
   "metadata": {},
   "outputs": [],
   "source": []
  },
  {
   "attachments": {},
   "cell_type": "markdown",
   "metadata": {},
   "source": [
    "## Segunda Parte: ¡Problema de contrabando!\n",
    "#### Historia y Estado de la situación\n",
    "Genovia y Krakozhia son países limítrofes muy disímiles. Entre sus muchas diferencias, se encuentran los productos que se\n",
    "pueden producir o ingresar a uno y otro país. En particular, Krakozhia pertenece a la Unión Europea, haciendo que sea muy\n",
    "restrictiva con algunas clases de productos1\n",
    ".\n",
    "\n",
    "Por el contrario, el Reino de Genovia casi no tiene restricciones ni en el acceso ni en la producción de productos. Este es uno\n",
    "de los problemas que tienen con sus vecinos de la Unión Europea (el otro, es ser considerando un paraíso fiscal).\n",
    "Es muy común que ciudadanos de Krakozhia viajen a Genovia, y aprovechen su estadía para comprar productos que no\n",
    "podrían comprar en su país. Incluso hay quienes aprovechan para comprar bastantes productos, para luego revenderlos\n",
    "en Krakozhia, a un alto precio. ¿El problema? es ilegal entrar con esos productos a la Unión Europea, y en particular a\n",
    "Krakozhia, por lo que sus agentes aduaneros deberían confiscarles los productos (y potencialmente labrarles un acta o algún\n",
    "otro tipo de sansión). ¿Lo bueno? Los agentes aduaneros de Krakozhia no destacan por su honestidad. El menos corrupto no\n",
    "puede armar una declaración jurada de ingresos medianamente creíble. Esto quiere decir que al pasar por la aduana, un\n",
    "agente aduanero puede pedir, en concepto de soborno, una cierta cantidad de algunos productos que se lleve consigo (luego de\n",
    "revisarlos), el cual debe pagarse sí o sí, si no se quiere caer en serios problemas.\n",
    "Planteo del problema\n",
    "Queremos pasar mercadería de contrabando de Genovia a Krakozhia. La mercadería viene en paquetes que no podemos abrir.\n",
    "Cada paquete i trae Xi unidades de un determinado tipo de producto j. Podríamos llegar a tener varios paquetes del mismo\n",
    "tipo de producto j, incluso con diferente cantidad de unidades. También podemos tener diferentes paquetes de diferentes\n",
    "productos. Es decir, cada paquete (in-abrible) es de una cantidad específica de un tipo específico, y en total para un tipo\n",
    "específico j tenemos la suma de Xi unidades, para todos los i que sean de ese tipo.\n",
    "Para nuestro ejemplo, supongamos que tenemos un paquete que trae 8 cajetillas de cigarrillos sabor arándano. Otro paquete\n",
    "trae 5 cajetillas de lo mismos cigarrillos. Otro paquete puede traer 5 botellitas de 100ml de vodka radioactivo, etc. . .\n",
    "Al pasar por la aduana, el corrupto funcionario puede indicarnos que “por acá no pasan sin dejarme al menos 6 cajetillas de\n",
    "cigarrillos de arándano”.\n",
    "Ante la imposibilidad de abrir y/o separar los paquetes, es claro que en dicho caso nos conviene dejar el paquete de 8 (no\n",
    "podemos abrirlo para sacar 6 de allí. . . sino la movida sería muy evidente). Si el oficial hubiera dicho que hay que dejar\n",
    "al menos 10 cajetillas, habría sido necesario dejar ambos paquetes para un total de 13 unidades de dicho producto. Si este\n",
    "hubiera dicho que le dejemos una cajetilla de cigarrillos y una botellita de vodka, tendríamos que dejar el paquete de 5\n",
    "botellitas de vodka y el paquete de 5 cajetillas de cigarrillos.\n",
    "\n",
    "#### Consigna\n",
    "1. Describir e implementar un algoritmo greedy que, dado un input con los productos que se tienen, y lo pedido como\n",
    "soborno, nos permita salir airosos de la situación, con la mayor cantidad de productos posibles. Justificar por qué el\n",
    "algoritmo es, efectivamente, greedy. Considerar que siempre se nos pedirá una cantidad de productos en existencias (en\n",
    "nuestro ejemplo anterior, no nos habrían pedido que dejemos 7 botellas de vodka radioactivo, ni tampoco mandarinas\n",
    "del Sahara).\n",
    "2. Con las mismas consideraciones que en el punto anterior, describir e implementar un algoritmo (que sea óptimo) que\n",
    "resuelva el problema utilizando programación dinámica.\n",
    "3. Indicar y justificar la complejidad de ambos algoritmos propuestos. Indicar casos (características y ejemplos) de\n",
    "deficiencias en el algoritmo greedy propuesto, para los cuales este no obtenga una solución óptima.\n",
    "4. Implementar un programa que utilice ambos algoritmos, realizar mediciones y presentar resultados comparativos de\n",
    "ambas soluciones, en lo que refiere a su optimalidad de la solución (no de su complejidad). Incluir en la entrega del tp\n",
    "los sets de datos utilizados para estas simulaciones (que deben estar explicados en el informe). Estos deben incluir al\n",
    "menos una prueba de volumen, indicando cómo es que fueron generadas.\n"
   ]
  },
  {
   "attachments": {},
   "cell_type": "markdown",
   "metadata": {},
   "source": [
    "1. Describir e implementar un algoritmo greedy que, dado un input con los productos que se tienen, y lo pedido como\n",
    "soborno, nos permita salir airosos de la situación, con la mayor cantidad de productos posibles. Justificar por qué el\n",
    "algoritmo es, efectivamente, greedy. Considerar que siempre se nos pedirá una cantidad de productos en existencias (en\n",
    "nuestro ejemplo anterior, no nos habrían pedido que dejemos 7 botellas de vodka radioactivo, ni tampoco mandarinas\n",
    "del Sahara)."
   ]
  },
  {
   "attachments": {},
   "cell_type": "markdown",
   "metadata": {},
   "source": [
    "El algoritmo greedy que planteamos es el siguiente:\n",
    "1. Ordenamos la lista de menor a mayor segun la cantidad de elementos que tiene cada paquete\n",
    "2. Recorremos la lista comparando la cantidad de elementos con la cantidad de elementos pedidos\n",
    "    - Si la cantidad de elementos es mayor que el pedido, devuelvo ese valor\n",
    "    - Sino continuo recorriendo la lista hasta el ultimo elemento y vuelvo a iterar con (elementos pedidos - cantidad de elementos)\n",
    "3. Finalmente, devuelvo el acumulado de los elementos que se necesitan"
   ]
  },
  {
   "attachments": {},
   "cell_type": "markdown",
   "metadata": {},
   "source": [
    "¿Pero por qué es Greedy?  \n",
    "En los algoritmos Greedy se aplica una regla sencilla que permita obtener el máximo local, en este caso el máximo local es el primer paquete que iguale o supere a la cantidad pedida. En el caso de no encontrar un paquete que cumpla esto, se toma el paquete con mayor cantidad de elementos y se busca un óptimo local para la cantidad restante."
   ]
  },
  {
   "cell_type": "code",
   "execution_count": 51,
   "metadata": {},
   "outputs": [
    {
     "name": "stdout",
     "output_type": "stream",
     "text": [
      "{'creditos_fiuba': [7]}\n",
      "{'creditos_fiuba': [7, 2]}\n",
      "{'creditos_fiuba': [9, 5]}\n"
     ]
    }
   ],
   "source": [
    "# Modelamos los datos del problema de la siguiente forma:\n",
    "# Existencias -> {mandarinas_rgb: [1, 6, 10, 4, 7], creditos_fiuba: [200, 300, 500, 100, 400]}\n",
    "# Soborno -> {mandarinas_rgb: 11, creditos_fiuba: 250}\n",
    "\n",
    "def _soborno_greedy(existencias, minimo, acumulado):\n",
    "    indice = 0\n",
    "    soborno = existencias[indice]\n",
    "    while soborno < minimo and indice < len(existencias) - 1:\n",
    "        indice += 1\n",
    "        soborno = existencias[indice]\n",
    "    acumulado.append(existencias.pop(indice))\n",
    "    if soborno >= minimo:\n",
    "        return acumulado\n",
    "    restante = minimo - soborno\n",
    "    return _soborno_greedy(existencias, restante, acumulado)\n",
    "\n",
    "def soborno_greedy(existencias, pedido):\n",
    "    soborno = {}\n",
    "    for tipo in pedido.keys():\n",
    "        existencias_ordenadas = sorted(existencias.copy())\n",
    "        soborno[tipo] = _soborno_greedy(existencias_ordenadas[tipo], pedido[tipo], [])\n",
    "    return soborno"
   ]
  },
  {
   "cell_type": "code",
   "execution_count": null,
   "metadata": {},
   "outputs": [],
   "source": [
    "pedido = {\"creditos_fiuba\": 6}\n",
    "existencias = {\"creditos_fiuba\": [1, 2, 3, 5, 7]}\n",
    "print(soborno_greedy(existencias, pedido))\n",
    "\n",
    "pedido = {\"creditos_fiuba\": 9}\n",
    "existencias = {\"creditos_fiuba\": [1, 2, 3, 5, 7]}\n",
    "print(soborno_greedy(existencias, pedido))\n",
    "\n",
    "pedido = {\"creditos_fiuba\": 11}\n",
    "existencias = {\"creditos_fiuba\": [1, 1, 5, 6, 9]}\n",
    "print(soborno_greedy(existencias, pedido))"
   ]
  },
  {
   "attachments": {},
   "cell_type": "markdown",
   "metadata": {},
   "source": [
    "2. Con las mismas consideraciones que en el punto anterior, describir e implementar un algoritmo (que sea óptimo) que\n",
    "resuelva el problema utilizando programación dinámica."
   ]
  },
  {
   "attachments": {},
   "cell_type": "markdown",
   "metadata": {},
   "source": [
    "La primera opción que se nos ocurrió fue la siguiente:  \n",
    "1. Tomamos el primer paquete de la lista  \n",
    "2. Vemos la cantidad de paquetes restantes en la lista  \n",
    "  a. Si no quedan devolvemos el paquete que acabamos de tomar  \n",
    "  b. Si quedan, pero en conjunto no alcanzan a cubrir la cantidad pedida, devolvemos una lista vacía (no hay solución con estos paquetes)  \n",
    "  c. Si quedan y en conjunto alcanzan a cubrir la cantidad pedida, vamos a tener que ver dos casos distintos (tomando el paquete actual y no tomándolo)  \n",
    "3. Calculamos el soborno restante teniendo en cuenta a ese elemento  \n",
    "  a. Si el total de la sumatoria de los paquetes restantes (punto 2) no alcanza a cubrir el soborno es porque hay que tener en cuenta al primer paquete (punto 1), entonces devolvemos al primer paquete y el resultado del cálculo del punto 3  \n",
    "  b. En caso contrario hay que hacer el cálculo sin tener en cuenta al primer paquete  \n",
    "4. Calculamos el soborno restante sin tener en cuenta a ese elemento  \n",
    "5. Comparamos los resultados de los puntos 3 y 4 y devolvemos el que tenga sume menor cantidad de elementos"
   ]
  },
  {
   "cell_type": "code",
   "execution_count": 7,
   "metadata": {},
   "outputs": [],
   "source": [
    "def _soborno_dinamico_beta(existencias, pedido):\n",
    "    if len(existencias) == 0:\n",
    "        return []\n",
    "    elemento = existencias[0]\n",
    "    elementos_restantes = existencias[1:]    \n",
    "    total_restante = sum(elementos_restantes)\n",
    "\n",
    "    # considerando el elemento\n",
    "    restante = pedido - elemento\n",
    "    if restante == 0:\n",
    "        return [elemento]\n",
    "    if total_restante < restante:\n",
    "        return []\n",
    "    soborno_restante = _soborno_dinamico_beta(elementos_restantes, restante)\n",
    "\n",
    "    # sin considerar el elemento\n",
    "    if total_restante < pedido:\n",
    "        return [elemento] + soborno_restante\n",
    "    soborno_sin_elemento = _soborno_dinamico_beta(elementos_restantes, pedido)\n",
    "    \n",
    "    total_con_elemento = sum([elemento] + soborno_restante)\n",
    "    total_sin_elemento = sum(soborno_sin_elemento)\n",
    "    if total_con_elemento < total_sin_elemento:\n",
    "        return [elemento] + soborno_restante\n",
    "    return soborno_sin_elemento\n",
    "  \n",
    "\n",
    "def soborno_dinamico_beta(existencias, pedido):\n",
    "    soborno = {}\n",
    "    for tipo in pedido.keys():\n",
    "        soborno[tipo] = _soborno_dinamico_beta(existencias[tipo], pedido[tipo])\n",
    "    return soborno"
   ]
  },
  {
   "cell_type": "code",
   "execution_count": 8,
   "metadata": {},
   "outputs": [
    {
     "name": "stdout",
     "output_type": "stream",
     "text": [
      "{'creditos_fiuba': [1, 5]}\n",
      "{'creditos_fiuba': [2, 7]}\n",
      "{'creditos_fiuba': [5, 6]}\n"
     ]
    }
   ],
   "source": [
    "pedido = {\"creditos_fiuba\": 6}\n",
    "existencias = {\"creditos_fiuba\": [1, 2, 3, 5, 7]}\n",
    "print(soborno_dinamico_beta(existencias, pedido))\n",
    "\n",
    "pedido = {\"creditos_fiuba\": 9}\n",
    "existencias = {\"creditos_fiuba\": [1, 2, 3, 5, 7]}\n",
    "print(soborno_dinamico_beta(existencias, pedido))\n",
    "\n",
    "pedido = {\"creditos_fiuba\": 11}\n",
    "existencias = {\"creditos_fiuba\": [1, 1, 5, 6, 9]}\n",
    "print(soborno_dinamico_beta(existencias, pedido))"
   ]
  },
  {
   "attachments": {},
   "cell_type": "markdown",
   "metadata": {},
   "source": [
    "El problema de éste método es que no memoriza los resultados de los cálculos que va haciendo, lo cual es algo importante para que el algo sea de programación dinámica. Por lo tanto decidimos cambiarlo a fin de encontrar una solución óptima."
   ]
  },
  {
   "attachments": {},
   "cell_type": "markdown",
   "metadata": {},
   "source": [
    "El segundo approach que tomamos fue pensar al problema de forma inversa. En lugar de pensar qué era lo que se quedaba el funcionario, pensamos qué nos quedamos nosotros como comerciantes. De esta forma, quedaria un problema igual al problema de la mochila con valores iguales al peso. De esta forma, intentamos maximizar la cantidad de items que nos quedamos. Como este algoritmo es óptimo para encontrar el máximo en nuestro problema, también es óptimo para el problema inverso de minimizar la cantidad de elementos demas que le dejamos al funcionario."
   ]
  },
  {
   "cell_type": "code",
   "execution_count": null,
   "metadata": {},
   "outputs": [],
   "source": [
    "def mochila(capacity, weights, values, n):\n",
    "    # Inicializamos la matriz de soluciones óptimas\n",
    "    dp = [[0 for _ in range(capacity + 1)] for _ in range(n + 1)]\n",
    "\n",
    "    # Calculamos la solución óptima usando programación dinámica\n",
    "    for i in range(n + 1):\n",
    "        for w in range(capacity + 1):\n",
    "            if i == 0 or w == 0:\n",
    "                dp[i][w] = 0\n",
    "            elif weights[i-1] <= w:\n",
    "                dp[i][w] = max(values[i-1] + dp[i-1][w-weights[i-1]], dp[i-1][w])\n",
    "            else:\n",
    "                dp[i][w] = dp[i-1][w]\n",
    "\n",
    "    # Retornamos el valor máximo que se puede llevar en la mochila\n",
    "    return dp[n][capacity]\n"
   ]
  },
  {
   "cell_type": "code",
   "execution_count": 18,
   "metadata": {},
   "outputs": [],
   "source": [
    "def simple_mochila(capacity, weights, n):\n",
    "    # Inicializamos la matriz de soluciones óptimas\n",
    "    dp = [[0 for _ in range(capacity + 1)] for _ in range(n + 1)]\n",
    "\n",
    "    # Calculamos la solución óptima usando programación dinámica\n",
    "    for i in range(1, n + 1):\n",
    "        for w in range(1, capacity + 1):\n",
    "            if weights[i-1] <= w:\n",
    "                dp[i][w] = max(weights[i-1] + dp[i-1][w-weights[i-1]], dp[i-1][w])\n",
    "            else:\n",
    "                dp[i][w] = dp[i-1][w]\n",
    "\n",
    "    # Reconstruimos la solución\n",
    "    included_items = []\n",
    "    w = capacity\n",
    "    for i in range(n, 0, -1):\n",
    "        if dp[i][w] != dp[i-1][w]:\n",
    "            included_items.append(i-1)\n",
    "            w -= weights[i-1]\n",
    "\n",
    "    # Retornamos el valor máximo que se puede llevar en la mochila y los objetos incluidos\n",
    "    # return dp[n][capacity], included_items[::-1]\n",
    "    return included_items[::-1]\n",
    "\n",
    "def _soborno_dinamico_b(existencias, pedido):\n",
    "    # weights = existencias\n",
    "    n = len(existencias)\n",
    "    W = sum(existencias) - pedido\n",
    "    if W == 0:\n",
    "        return existencias\n",
    "    # print(f\"pedido: {pedido}, sum: {sum(existencias)}, n: {n}, W: {W}\")\n",
    "    me_quedo = simple_mochila(W, existencias, n)\n",
    "    soborno = existencias.copy()\n",
    "    # for i in existencias:\n",
    "    #     if i not in me_quedo:\n",
    "    #         soborno.append(i)\n",
    "    # print(f\"me quedo: {me_quedo}\")\n",
    "    for i in me_quedo:\n",
    "        elem = existencias[i]\n",
    "        soborno.remove(elem)\n",
    "    return soborno\n",
    "\n",
    "def soborno_dinamico_b(existencias, pedido):\n",
    "    soborno = {}\n",
    "    existencias_copia = existencias.copy()\n",
    "    for tipo in pedido.keys():\n",
    "        soborno[tipo] = _soborno_dinamico_b(existencias_copia[tipo], pedido[tipo])\n",
    "    return soborno\n"
   ]
  },
  {
   "cell_type": "code",
   "execution_count": 19,
   "metadata": {},
   "outputs": [
    {
     "name": "stdout",
     "output_type": "stream",
     "text": [
      "{'creditos_fiuba': [1, 5]}\n",
      "{'creditos_fiuba': [2, 7]}\n",
      "{'creditos_fiuba': [1, 1, 9]}\n"
     ]
    }
   ],
   "source": [
    "pedido = {\"creditos_fiuba\": 6}\n",
    "existencias = {\"creditos_fiuba\": [1, 2, 3, 5, 7]}\n",
    "print(soborno_dinamico_b(existencias, pedido))\n",
    "\n",
    "pedido = {\"creditos_fiuba\": 9}\n",
    "existencias = {\"creditos_fiuba\": [1, 2, 3, 5, 7]}\n",
    "print(soborno_dinamico_b(existencias, pedido))\n",
    "\n",
    "pedido = {\"creditos_fiuba\": 11}\n",
    "existencias = {\"creditos_fiuba\": [1, 1, 5, 6, 9]}\n",
    "print(soborno_dinamico_b(existencias, pedido))"
   ]
  },
  {
   "cell_type": "code",
   "execution_count": 53,
   "metadata": {},
   "outputs": [
    {
     "name": "stdout",
     "output_type": "stream",
     "text": [
      "{'creditos_fiuba': [1, 5]}\n",
      "{'creditos_fiuba': [2, 7]}\n",
      "{'creditos_fiuba': [1, 1, 9]}\n"
     ]
    }
   ],
   "source": [
    "def mochila_problem_items(values, weights, n, W):\n",
    "    m = [[0 for _ in range(W + 1)] for _ in range(n + 1)]\n",
    "    for i in range(1, n + 1):\n",
    "        for j in range(W + 1):\n",
    "            if weights[i-1] > j:\n",
    "                m[i][j] = m[i-1][j]\n",
    "            else:\n",
    "                m[i][j] = max(m[i-1][j], m[i-1][j-weights[i-1]] + values[i-1])\n",
    "\n",
    "    # now we backtrack to find the items\n",
    "    items = []\n",
    "    i = n\n",
    "    j = W\n",
    "    while i > 0 and j > 0:\n",
    "        if m[i][j] != m[i-1][j]:\n",
    "            items.append(values[i-1])\n",
    "            j -= weights[i-1]\n",
    "        i -= 1\n",
    "    return items\n",
    "\n",
    "\n",
    "def _soborno_dinamico(existencias, pedido):\n",
    "    values = existencias\n",
    "    weights = existencias\n",
    "    n = len(existencias)\n",
    "    W = sum(existencias) - pedido\n",
    "    if W == 0:\n",
    "        return existencias\n",
    "    # print(f\"pedido: {pedido}, sum: {sum(existencias)}, n: {n}, W: {W}\")\n",
    "    me_quedo = mochila_problem_items(values, weights, n, W)\n",
    "    soborno = existencias.copy()\n",
    "    for i in me_quedo:\n",
    "        soborno.pop(i)\n",
    "    return soborno\n",
    "\n",
    "def soborno_dinamico(existencias, pedido):\n",
    "    soborno = {}\n",
    "    existencias_copia = existencias.copy()\n",
    "    for tipo in pedido.keys():\n",
    "        soborno[tipo] = _soborno_dinamico(existencias_copia[tipo], pedido[tipo])\n",
    "    return soborno"
   ]
  },
  {
   "cell_type": "code",
   "execution_count": null,
   "metadata": {},
   "outputs": [],
   "source": [
    "pedido = {\"creditos_fiuba\": 6}\n",
    "existencias = {\"creditos_fiuba\": [1, 2, 3, 5, 7]}\n",
    "print(soborno_dinamico(existencias, pedido))\n",
    "\n",
    "pedido = {\"creditos_fiuba\": 9}\n",
    "existencias = {\"creditos_fiuba\": [1, 2, 3, 5, 7]}\n",
    "print(soborno_dinamico(existencias, pedido))\n",
    "\n",
    "pedido = {\"creditos_fiuba\": 11}\n",
    "existencias = {\"creditos_fiuba\": [1, 1, 5, 6, 9]}\n",
    "print(soborno_dinamico(existencias, pedido))"
   ]
  },
  {
   "cell_type": "code",
   "execution_count": 54,
   "metadata": {},
   "outputs": [],
   "source": [
    "import random\n",
    "\n",
    "\n",
    "def generate_random_array(n):\n",
    "    return [random.randint(1, 10 * n) for _ in range(n)]\n",
    "\n",
    "def generate_dicts(n, jump): # max (2500, 15)\n",
    "    dicts = []\n",
    "    for i in range(10, n + 10, jump):\n",
    "        dict_i = {}\n",
    "        elements = i // 10\n",
    "        for j in range(elements):\n",
    "            name = \"elemento_raro\" + str(j)\n",
    "            arr = generate_random_array(i)\n",
    "            dict_i[name] = arr\n",
    "        dicts.append(dict_i)\n",
    "    return dicts"
   ]
  },
  {
   "cell_type": "code",
   "execution_count": 55,
   "metadata": {},
   "outputs": [],
   "source": [
    "def generate_order(dict):\n",
    "    order = {}\n",
    "    for key, value in dict.items():\n",
    "        max = sum(value)\n",
    "        ammount = random.randint(0, max)\n",
    "        if ammount > 0:\n",
    "            order[key] = ammount\n",
    "    return order\n",
    "\n",
    "def generate_orders(dicts):\n",
    "    orders = []\n",
    "    for d in dicts:\n",
    "        orders.append(generate_order(d))\n",
    "    return orders"
   ]
  },
  {
   "cell_type": "code",
   "execution_count": 56,
   "metadata": {},
   "outputs": [],
   "source": [
    "def calcular_diferencia(pedido, res):\n",
    "    total_diff = 0\n",
    "    for elem in pedido.keys():\n",
    "        x = pedido[elem]\n",
    "        y = sum(res[elem])\n",
    "        diff = y - x\n",
    "        if diff < 0:\n",
    "            print(f\"{elem} -> se pidio: {pedido[elem]}, se obtuvo {sum(res[elem])} ({res[elem]})\")\n",
    "            return -1\n",
    "        total_diff += diff\n",
    "\n",
    "    return total_diff"
   ]
  },
  {
   "cell_type": "code",
   "execution_count": 57,
   "metadata": {},
   "outputs": [],
   "source": [
    "dicts = generate_dicts(150, 15)\n",
    "orders = generate_orders(dicts)"
   ]
  },
  {
   "cell_type": "code",
   "execution_count": 58,
   "metadata": {},
   "outputs": [
    {
     "name": "stdout",
     "output_type": "stream",
     "text": [
      "Diferencia0 = 1\n",
      "Diferencia1 = 10\n",
      "Diferencia2 = 56\n",
      "Diferencia3 = 31\n",
      "Diferencia4 = 41\n",
      "Diferencia5 = 39\n",
      "Diferencia6 = 83\n",
      "Diferencia7 = 158\n",
      "Diferencia8 = 148\n",
      "Diferencia9 = 202\n",
      "Error: False\n"
     ]
    }
   ],
   "source": [
    "error = -1\n",
    "\n",
    "for i in range(len(dicts)):\n",
    "    existencias = dicts[i]\n",
    "    pedido = orders[i]\n",
    "    len_d = len(existencias[\"elemento_raro0\"])\n",
    "    res = soborno_greedy(existencias, pedido)\n",
    "    diff = calcular_diferencia(pedido, res)\n",
    "    if diff < 0:\n",
    "        error = i\n",
    "        break\n",
    "    print(f\"Diferencia{i} = {diff}\")\n",
    "\n",
    "print(f\"Error: {error != -1}\")"
   ]
  },
  {
   "cell_type": "code",
   "execution_count": 59,
   "metadata": {},
   "outputs": [
    {
     "name": "stdout",
     "output_type": "stream",
     "text": [
      "Diferencia0 = 0\n",
      "Diferencia1 = 0\n",
      "Diferencia2 = 0\n",
      "Diferencia3 = 0\n",
      "Diferencia4 = 0\n",
      "Diferencia5 = 0\n",
      "Diferencia6 = 0\n",
      "Diferencia7 = 0\n",
      "Diferencia8 = 0\n",
      "Diferencia9 = 0\n",
      "Error: False\n"
     ]
    }
   ],
   "source": [
    "error = -1\n",
    "\n",
    "for i in range(len(dicts)):\n",
    "    existencias = dicts[i]\n",
    "    pedido = orders[i]\n",
    "    len_d = len(existencias[\"elemento_raro0\"])\n",
    "    res = soborno_dinamico_b(existencias, pedido)\n",
    "    diff = calcular_diferencia(pedido, res)\n",
    "    if diff < 0:\n",
    "        error = i\n",
    "        break\n",
    "    print(f\"Diferencia{i} = {diff}\")\n",
    "\n",
    "print(f\"Error: {error != -1}\")"
   ]
  },
  {
   "cell_type": "code",
   "execution_count": null,
   "metadata": {},
   "outputs": [],
   "source": [
    "error = -1\n",
    "\n",
    "for i in range(len(dicts)):\n",
    "    existencias = dicts[i]\n",
    "    pedido = orders[i]\n",
    "    len_d = len(existencias[\"elemento_raro0\"])\n",
    "    res = soborno_dinamico(existencias, pedido)\n",
    "    diff = calcular_diferencia(pedido, res)\n",
    "    if diff < 0:\n",
    "        error = i\n",
    "        break\n",
    "    print(f\"Diferencia{i} = {diff}\")\n",
    "\n",
    "print(f\"Error: {error != -1}\")"
   ]
  }
 ],
 "metadata": {
  "kernelspec": {
   "display_name": "Python 3",
   "language": "python",
   "name": "python3"
  },
  "language_info": {
   "codemirror_mode": {
    "name": "ipython",
    "version": 3
   },
   "file_extension": ".py",
   "mimetype": "text/x-python",
   "name": "python",
   "nbconvert_exporter": "python",
   "pygments_lexer": "ipython3",
   "version": "3.10.4"
  },
  "orig_nbformat": 4
 },
 "nbformat": 4,
 "nbformat_minor": 2
}
