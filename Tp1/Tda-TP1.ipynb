{
 "cells": [
  {
   "attachments": {},
   "cell_type": "markdown",
   "metadata": {},
   "source": [
    "# Trabajo Práctico 1: Técnicas de Diseño\n",
    "El presente trabajo busca evaluar el desarrollo y análisis de algoritmos de las primeras técnicas de diseño vistas en la materia.\n",
    "La primera fecha de entrega del TP será el 01/05/23, mientras que la segunda fecha de entrega (con reducción de nota) será\n",
    "el 12/05/23."
   ]
  },
  {
   "attachments": {},
   "cell_type": "markdown",
   "metadata": {},
   "source": [
    "## Primera Parte: Problema de K-merge por División y Conquista\n",
    "### Introducción\n",
    "El problema de K-merge es el siguiente: se tienen K arreglos ordenados, y se quiere quiere obtener un único arreglo, también\n",
    "ordenado, con todos los elementos de los arreglos originales (inclusive si hay repetidos). Por simplicidad para los diferentes\n",
    "análisis se puede suponer que todos los arreglos tienen exactamente h elementos (por ende, la cantidad total de elementos es\n",
    "n = K ∗ h).\n",
    "Para resolver este problema, es posible que hayan visto en Algoritmos y Programación II un algoritmo que resuelve este\n",
    "problema utilizando un Heap. Nos referiremos a este como el algoritmo que utiliza Heaps.\n",
    "La idea en este caso será plantear otra solución y analizarla. Se propone el siguiente algoritmo por división y conquista, con\n",
    "semejanzas a mergesort.\n",
    "1. Caso base: cuando quede un único arreglo, simplemente devolver dicho arreglo.\n",
    "2. En el caso general, dividir la cantidad de arreglos entre la primera mitad, y la segunda mitad, y luego invocar\n",
    "recursivamente para cada mitad de arreglos. Es decir, si tenemos cuatro arreglos, invocamos para los primeros 2, y\n",
    "luego para los segundos 2. Al terminar los llamados recursivos, tenemos dos arreglos ordenados. Estos deberán ser\n",
    "intercalados ordenadamente, tal cual se realiza en mergesort.\n"
   ]
  },
  {
   "attachments": {},
   "cell_type": "markdown",
   "metadata": {},
   "source": [
    "### Consigna\n",
    "1. Determinar, utilizando el Teorema Maestro, cuál sería la complejidad del algoritmo propuesto.\n",
    "2. Describir el algoritmo que utiliza heaps, y determinar su complejidad.\n",
    "3. Implementar ambos algoritmos, y hacer mediciones (y gráficos) que permitan entender si las complejidades obtenidas\n",
    "para cada uno se condicen con la realidad.\n",
    "4. En caso que la complejidad obtenida en el punto 1 no se condiga con la realidad, indicar por qué (qué condición falla).\n",
    "En dicho caso, se requiere llegar a la complejidad correcta (no solamente enunciarla, sino demostrar cuál es).\n",
    "5. Indicar cualquier conclusión adicional que les parezca relevante en base a lo analizado."
   ]
  },
  {
   "attachments": {},
   "cell_type": "markdown",
   "metadata": {},
   "source": [
    "1. Determinar, utilizando el Teorema Maestro, cuál sería la complejidad del algoritmo propuesto.\n",
    "\n",
    "El Teorema Maestro tiene la siguiente fórmula: \n",
    "\n",
    "T(n) = AT(n/B) + f(n)\n",
    "\n",
    "Donde:\n",
    "\n",
    "A -> cantidad de llamadas recursivas (con A natural)\n",
    "\n",
    "B -> proporción del tamaño original con el que llamamos recursivamente (con B real mayor a 1 y cte)\n",
    "\n",
    "f(n) -> costo del trabajo que hacemos en cada llamada recursiva\n",
    "\n",
    "En este caso tenemos:\n",
    "$$\n",
    "\\newline\n",
    "A = 2\n",
    "\\newline\n",
    "B = 2\n",
    "\\newline\n",
    "f(n) = O(n^C)\\; donde\\; C = 1\n",
    "\\newline\n",
    "log_B(A) = log_2(2) = 1 \\rightarrow como\\;  log_B(A) = C \\rightarrow  O(n^c * log(n)) = O(n log(n))\n",
    "$$\n",
    "Siendo n = K ∗ h, con K la cantidad de arreglos y h la cantidad de elementos de cada arreglo."
   ]
  },
  {
   "attachments": {},
   "cell_type": "markdown",
   "metadata": {},
   "source": [
    "2. Describir el algoritmo que utiliza heaps, y determinar su complejidad.\n",
    "\n",
    "El algoritmo que utiliza heaps es el siguiente:\n",
    "\n",
    "  1. Agregar a un heap el primer elemento de cada uno de los arrays junto con su índice y el índice del array al que pertenece.\n",
    "\n",
    "  2. Mientras que el heap no esté vacío:\n",
    "  \n",
    "      a. Tomar el primer elemento del heap y agregar el valor al resultado.\n",
    "\n",
    "      b. Si el índice del elemento tomado es menor al tamaño del array al que pertenece, agregar el siguiente elemento del array al heap junto con su índice y el índice del array al que pertenece.\n",
    "\n",
    "  3. Devolver el resultado.\n",
    "\n",
    "$$\n",
    "1\\; -> O(K)\n",
    "\\newline\n",
    "2\\; -> K * h\\;  veces\n",
    "\\newline\n",
    "  a\\; -> O(log(K))\n",
    "\\newline\n",
    "  b\\; -> O(log(K))\n",
    "\\newline\n",
    "O(K) + K * h * O(log(K))\\; -> O(K + K * h * log(K))\n",
    "\\newline\n",
    "K << K * h * log(K),\\; entonces\\; se\\; desprecia\\; K\\; y\\; queda\\; O(K * h * log(K))\n",
    "\n",
    "$$\n",
    "\n",
    "Siendo K la cantidad de arreglos y h la cantidad de elementos de cada arreglo."
   ]
  },
  {
   "attachments": {},
   "cell_type": "markdown",
   "metadata": {},
   "source": [
    "Se puede ver que la complejidad para el algoritmo que utiliza heaps es O(K * h * log(K)), mientras que para el algoritmo de división y conquista es O(K * h * log(K*h)). Por lo tanto, el algoritmo que utiliza heaps es más eficiente y se puede notar al variar h."
   ]
  },
  {
   "attachments": {},
   "cell_type": "markdown",
   "metadata": {},
   "source": [
    "3. Implementar ambos algoritmos, y hacer mediciones (y gráficos) que permitan entender si las complejidades obtenidas\n",
    "para cada uno se condicen con la realidad."
   ]
  },
  {
   "cell_type": "code",
   "execution_count": 1,
   "metadata": {},
   "outputs": [
    {
     "name": "stdout",
     "output_type": "stream",
     "text": [
      "Requirement already satisfied: matplotlib in c:\\users\\pc\\appdata\\local\\programs\\python\\python310\\lib\\site-packages (3.7.1)\n",
      "Requirement already satisfied: kiwisolver>=1.0.1 in c:\\users\\pc\\appdata\\local\\programs\\python\\python310\\lib\\site-packages (from matplotlib) (1.4.4)\n",
      "Requirement already satisfied: python-dateutil>=2.7 in c:\\users\\pc\\appdata\\local\\programs\\python\\python310\\lib\\site-packages (from matplotlib) (2.8.2)\n",
      "Requirement already satisfied: packaging>=20.0 in c:\\users\\pc\\appdata\\roaming\\python\\python310\\site-packages (from matplotlib) (20.9)\n",
      "Requirement already satisfied: contourpy>=1.0.1 in c:\\users\\pc\\appdata\\local\\programs\\python\\python310\\lib\\site-packages (from matplotlib) (1.0.7)\n",
      "Requirement already satisfied: pillow>=6.2.0 in c:\\users\\pc\\appdata\\local\\programs\\python\\python310\\lib\\site-packages (from matplotlib) (9.5.0)\n",
      "Requirement already satisfied: cycler>=0.10 in c:\\users\\pc\\appdata\\local\\programs\\python\\python310\\lib\\site-packages (from matplotlib) (0.11.0)\n",
      "Requirement already satisfied: fonttools>=4.22.0 in c:\\users\\pc\\appdata\\local\\programs\\python\\python310\\lib\\site-packages (from matplotlib) (4.39.3)\n",
      "Requirement already satisfied: numpy>=1.20 in c:\\users\\pc\\appdata\\local\\programs\\python\\python310\\lib\\site-packages (from matplotlib) (1.23.1)\n",
      "Requirement already satisfied: pyparsing>=2.3.1 in c:\\users\\pc\\appdata\\roaming\\python\\python310\\site-packages (from matplotlib) (3.0.9)\n",
      "Requirement already satisfied: six>=1.5 in c:\\users\\pc\\appdata\\local\\programs\\python\\python310\\lib\\site-packages (from python-dateutil>=2.7->matplotlib) (1.16.0)\n"
     ]
    },
    {
     "name": "stderr",
     "output_type": "stream",
     "text": [
      "\n",
      "[notice] A new release of pip available: 22.2.2 -> 23.1.2\n",
      "[notice] To update, run: python.exe -m pip install --upgrade pip\n"
     ]
    }
   ],
   "source": [
    "!pip install matplotlib"
   ]
  },
  {
   "cell_type": "code",
   "execution_count": 2,
   "metadata": {},
   "outputs": [
    {
     "name": "stdout",
     "output_type": "stream",
     "text": [
      "Lista ordenada: [1, 1, 1, 1, 2, 2, 2, 2, 3, 3, 3, 3, 4, 4, 4, 4, 5, 5, 5, 5, 6, 6, 6, 6, 7, 7, 7, 7, 8, 8, 8, 8, 9, 9, 9, 9, 10, 10, 10, 10, 11, 11, 11, 11, 12, 12, 12, 12, 13, 13, 13, 13, 14, 14, 14, 14, 15, 15, 15, 15, 16, 16, 16, 16, 17, 17, 17, 17, 18, 18, 18, 18, 19, 19, 19, 19, 20, 20, 20, 20, 21, 21, 21, 21, 22, 22, 22, 22, 23, 23, 23, 23, 24, 24, 24, 24, 25, 25, 25, 25, 26, 26, 26, 26, 27, 27, 27, 27, 28, 28, 28, 28]\n",
      "¿Está ordenada?: True\n"
     ]
    }
   ],
   "source": [
    "from heapq import heappush, heappop\n",
    "\n",
    "def heap_mergeK_ordenados(arrays):\n",
    "    resultado = []\n",
    "    heap = []\n",
    "\n",
    "    for i in range(len(arrays)):\n",
    "        heappush(heap, (arrays[i][0], i, 0))\n",
    "    \n",
    "    while heap:\n",
    "        valor, array_indice, valor_indice = heappop(heap)\n",
    "        resultado.append(valor)\n",
    "        if valor_indice + 1 < len(arrays[array_indice]):\n",
    "            heappush(heap, (arrays[array_indice][valor_indice + 1], array_indice, valor_indice + 1))\n",
    "        \n",
    "    return resultado\n",
    "\n",
    "\n",
    "arrays = [\n",
    "    [5, 6,  8,  16, 17, 18, 19],\n",
    "    [3, 7,  12, 13, 20, 21, 22],\n",
    "    [1, 10, 11, 15, 23, 24, 25],\n",
    "    [2, 4,  9,  14, 26, 27, 28],\n",
    "    [5, 6,  8,  16, 17, 18, 19],\n",
    "    [3, 7,  12, 13, 20, 21, 22],\n",
    "    [1, 10, 11, 15, 23, 24, 25],\n",
    "    [2, 4,  9,  14, 26, 27, 28],\n",
    "    [5, 6,  8,  16, 17, 18, 19],\n",
    "    [3, 7,  12, 13, 20, 21, 22],\n",
    "    [1, 10, 11, 15, 23, 24, 25],\n",
    "    [2, 4,  9,  14, 26, 27, 28],\n",
    "    [5, 6,  8,  16, 17, 18, 19],\n",
    "    [3, 7,  12, 13, 20, 21, 22],\n",
    "    [1, 10, 11, 15, 23, 24, 25],\n",
    "    [2, 4,  9,  14, 26, 27, 28],\n",
    "]\n",
    "\n",
    "resultado = heap_mergeK_ordenados(arrays)\n",
    "print(f\"Lista ordenada: {resultado}\")\n",
    "print(f\"¿Está ordenada?: {resultado == sorted(resultado)}\")"
   ]
  },
  {
   "cell_type": "code",
   "execution_count": 3,
   "metadata": {},
   "outputs": [
    {
     "name": "stdout",
     "output_type": "stream",
     "text": [
      "Lista ordenada: [1, 1, 1, 1, 2, 2, 2, 2, 3, 3, 3, 3, 4, 4, 4, 4, 5, 5, 5, 5, 6, 6, 6, 6, 7, 7, 7, 7, 8, 8, 8, 8, 9, 9, 9, 9, 10, 10, 10, 10, 11, 11, 11, 11, 12, 12, 12, 12, 13, 13, 13, 13, 14, 14, 14, 14, 15, 15, 15, 15, 16, 16, 16, 16, 17, 17, 17, 17, 18, 18, 18, 18, 19, 19, 19, 19, 20, 20, 20, 20, 21, 21, 21, 21, 22, 22, 22, 22, 23, 23, 23, 23, 24, 24, 24, 24, 25, 25, 25, 25, 26, 26, 26, 26, 27, 27, 27, 27, 28, 28, 28, 28]\n",
      "¿Está ordenada?: True\n"
     ]
    }
   ],
   "source": [
    "def merge(array1, array2):\n",
    "    mergeado = []\n",
    "    \n",
    "    i = 0\n",
    "    j = 0\n",
    "    while i < len(array1) and j < len(array2):\n",
    "        if array1[i] < array2[j]:\n",
    "            mergeado.append(array1[i])\n",
    "            i += 1\n",
    "        else:\n",
    "            mergeado.append(array2[j])\n",
    "            j += 1\n",
    "        \n",
    "    mergeado.extend(array1[i:])    \n",
    "    mergeado.extend(array2[j:])\n",
    "\n",
    "    return mergeado\n",
    "     \n",
    "def _dyc_mergeK_ordenados(arrays, inicio, fin):\n",
    "    if inicio == fin:\n",
    "        return arrays[inicio]\n",
    "        \n",
    "    medio = (inicio + fin) // 2\n",
    "    izquierda = _dyc_mergeK_ordenados(arrays, inicio, medio)\n",
    "    derecha = _dyc_mergeK_ordenados(arrays, medio + 1, fin)\n",
    "    return merge(izquierda, derecha)\n",
    "\n",
    "def dyc_mergeK_ordenados(arrays):\n",
    "    return _dyc_mergeK_ordenados(arrays, 0, len(arrays) - 1)\n",
    "\n",
    "arrays = [\n",
    "    [5, 6,  8,  16, 17, 18, 19],\n",
    "    [3, 7,  12, 13, 20, 21, 22],\n",
    "    [1, 10, 11, 15, 23, 24, 25],\n",
    "    [2, 4,  9,  14, 26, 27, 28],\n",
    "    [5, 6,  8,  16, 17, 18, 19],\n",
    "    [3, 7,  12, 13, 20, 21, 22],\n",
    "    [1, 10, 11, 15, 23, 24, 25],\n",
    "    [2, 4,  9,  14, 26, 27, 28],\n",
    "    [5, 6,  8,  16, 17, 18, 19],\n",
    "    [3, 7,  12, 13, 20, 21, 22],\n",
    "    [1, 10, 11, 15, 23, 24, 25],\n",
    "    [2, 4,  9,  14, 26, 27, 28],\n",
    "    [5, 6,  8,  16, 17, 18, 19],\n",
    "    [3, 7,  12, 13, 20, 21, 22],\n",
    "    [1, 10, 11, 15, 23, 24, 25],\n",
    "    [2, 4,  9,  14, 26, 27, 28],\n",
    "]\n",
    "\n",
    "resultado = dyc_mergeK_ordenados(arrays)\n",
    "print(f\"Lista ordenada: {resultado}\")\n",
    "print(f\"¿Está ordenada?: {resultado == sorted(resultado)}\")\n"
   ]
  },
  {
   "cell_type": "code",
   "execution_count": 4,
   "metadata": {},
   "outputs": [],
   "source": [
    "import random\n",
    "from time import time\n",
    "from matplotlib import pyplot as plt\n",
    "\n",
    "def generar_arrays(k, h):\n",
    "    arrays = [[random.randint(0, k*h) for _ in range(h)] for _ in range(k)]\n",
    "    for array in arrays:\n",
    "        array.sort()\n",
    "    return arrays\n",
    "\n",
    "def generar_array_arrays(k_inicial, h_inicial, variacion_k, variacion_h, cantidad):\n",
    "    k = k_inicial\n",
    "    h = h_inicial\n",
    "    arrays = []\n",
    "    for _ in range(cantidad):\n",
    "        arrays.append(generar_arrays(k, h))\n",
    "        k += variacion_k\n",
    "        h += variacion_h\n",
    "    return arrays"
   ]
  },
  {
   "cell_type": "code",
   "execution_count": 5,
   "metadata": {},
   "outputs": [],
   "source": [
    "def calcular_tiempo_kfijo(funcion, array_arrays):\n",
    "    tiempos = {}\n",
    "    for array in array_arrays:\n",
    "        h = len(array[0])  \n",
    "        comienzo = time()\n",
    "        _ = funcion(array)\n",
    "        final = time()\n",
    "        tiempos[h] = final - comienzo\n",
    "    return tiempos\n",
    "\n",
    "def calcular_tiempo_hfijo(funcion, array_arrays):\n",
    "    tiempos = {}\n",
    "    for array in array_arrays:\n",
    "        k = len(array)  \n",
    "        comienzo = time()\n",
    "        _ = funcion(array)\n",
    "        final = time()\n",
    "        tiempos[k] = final - comienzo\n",
    "    return tiempos"
   ]
  },
  {
   "attachments": {},
   "cell_type": "markdown",
   "metadata": {},
   "source": [
    "Hacemos un gráfico con k fijo y h variando, y otro con h fijo y k variando para ver bien la complejidad de cada algoritmo en la práctica."
   ]
  },
  {
   "cell_type": "code",
   "execution_count": 6,
   "metadata": {},
   "outputs": [],
   "source": [
    "array_arrays = generar_array_arrays(5, 10, 0, 5, 2500)\n",
    "tiempos_heap = calcular_tiempo_kfijo(heap_mergeK_ordenados, array_arrays)\n",
    "tiempos_dyc = calcular_tiempo_kfijo(dyc_mergeK_ordenados, array_arrays)"
   ]
  },
  {
   "cell_type": "code",
   "execution_count": 7,
   "metadata": {},
   "outputs": [
    {
     "data": {
      "image/png": "[encoded data removed]",
      "text/plain": [
       "<Figure size 432x288 with 1 Axes>"
      ]
     },
     "metadata": {
      "needs_background": "light"
     },
     "output_type": "display_data"
    }
   ],
   "source": [
    "plt.plot(tiempos_heap.keys(), tiempos_heap.values(), label='Heap')\n",
    "plt.plot(tiempos_dyc.keys(), tiempos_dyc.values(), label='DYC')\n",
    "plt.xlabel('h')\n",
    "plt.ylabel('Tiempo')\n",
    "plt.legend()\n",
    "plt.show()"
   ]
  },
  {
   "attachments": {},
   "cell_type": "markdown",
   "metadata": {},
   "source": [
    "Se puede observar que no hay variación, lo que no tiene mucho sentido con las complejidades calculadas ya que debía notarse una diferencia más grande al variar h.  \n",
    "Analizando la complejidad del algoritmo de división y conquista, O(K * h * log(Kh)), se puede ver que O(Kh) se debe a la complejidad de cada llamado recursivo, y O(log(Kh)) se debe a la altura del árbol de recursión. Pero en realidad el árbol de recursión no tiene una altura relacionada con h, sino que sólo con K (ya que es la cantidad de arreglos que se dividen en cada llamado recursivo). Por lo tanto, la complejidad real sería O(K * h * log(K))."
   ]
  },
  {
   "attachments": {},
   "cell_type": "markdown",
   "metadata": {},
   "source": [
    "Posteriormente, hacemos un gráfico con h fijo y k variando:"
   ]
  },
  {
   "cell_type": "code",
   "execution_count": 8,
   "metadata": {},
   "outputs": [],
   "source": [
    "array_arrays = generar_array_arrays(5, 10, 5, 0, 500)\n",
    "tiempos_heap = calcular_tiempo_hfijo(heap_mergeK_ordenados, array_arrays) \n",
    "tiempos_dyc = calcular_tiempo_hfijo(dyc_mergeK_ordenados, array_arrays)"
   ]
  },
  {
   "cell_type": "code",
   "execution_count": 9,
   "metadata": {},
   "outputs": [
    {
     "data": {
      "image/png": "[encoded data removed]",
      "text/plain": [
       "<Figure size 432x288 with 1 Axes>"
      ]
     },
     "metadata": {
      "needs_background": "light"
     },
     "output_type": "display_data"
    }
   ],
   "source": [
    "plt.plot(tiempos_heap.keys(), tiempos_heap.values(), label='Heap')\n",
    "plt.plot(tiempos_dyc.keys(), tiempos_dyc.values(), label='DYC')\n",
    "plt.xlabel('k')\n",
    "plt.ylabel('Tiempo')\n",
    "plt.legend()\n",
    "plt.show()"
   ]
  },
  {
   "attachments": {},
   "cell_type": "markdown",
   "metadata": {},
   "source": [
    "Se puede ver que el algoritmo que utiliza heaps es mucho más rápido que el algoritmo por división y conquista. Y no por un poco, o una diferencia que no depende de una constante, sino que al variar K se puede ver que la diferencia es cada vez mayor. De esta forma, podemos ver que la complejidad del algoritmo por división y conquista calculada con el Teorema Maestro no se condice con la realidad.\n",
    "\n",
    "Verificando las condiciones para poder aplicar el Teorema Maestro:\n",
    "\n",
    "1. A debe ser un número natural\n",
    "2. B debe ser un número real mayor a 1 y constante\n",
    "3. El caso base debe ser constante\n",
    "\n",
    "- Respecto a la condición 1, A = 2 siempre, por lo que se cumple.\n",
    "- Respecto a la condición 2, k siempre se divide por 2, por lo que se va a cumplir siempre que h sea igual para todos los arreglos. En caso de que h sea distinto para cada arreglo, B no sería constante y no se cumpliría la condición. (Debido a que en la consigna se aclara que h es igual para todos los arreglos, se puede asumir que se cumple la condición)\n",
    "- Respecto a la condición 3, el caso base es cuando queda un único arreglo devolverlo, por lo que al variar h va a variar dicho caso base. Por lo tanto, el caso base no es constante y no se cumple la condición."
   ]
  },
  {
   "attachments": {},
   "cell_type": "markdown",
   "metadata": {},
   "source": [
    "Ahora, para calcular la complejidad del algoritmo por división y conquista volvemos a analizarlo y vemos que lo que se repite es el mergeo de los arreglos, lo cual es lineal de forma asegurada. Lo que debemos saber es cuántas veces se hace un merge. Para esto, vamos a mostrar el siguiente ejemplo de árbol de recursión:\n",
    "\n",
    "\n",
    "<p align=\"center\">\n",
    "  <img width=\"700\" height=\"400\" src=\"images/merge-ab.png\">\n",
    "</p>\n",
    "\n",
    "Se puede ver que cada nodo representa un mergeo de dos arreglos y, además, en un árbol binario la cantidad máxima de nodos es 2n - 1. Por lo tanto, la cantidad máxima de mergeos es 2(k/2) - 1 = k - 1. Y como cada mergeo tiene una complejidad O(N) (siendo N el total de elementos), la complejidad total es:\n",
    "$$\n",
    "k - 1 \\; veces\\; O(N)\n",
    "\\newline\n",
    "O(N*(k - 1)) = O(k*N) - O(N)\n",
    "\\newline\n",
    "N << k*N,\\; entonces\\; se\\; desprecia\\; N\\; y\\; queda\\; O(k*N)\n",
    "$$\n",
    "Por lo tanto la complejidad del algoritmo por división y conquista es O(k*N), siendo k la cantidad de arreglos y N la cantidad total de elementos entre todos los arreglos."
   ]
  },
  {
   "attachments": {},
   "cell_type": "markdown",
   "metadata": {},
   "source": [
    "## Segunda Parte: ¡Problema de contrabando!\n",
    "#### Historia y Estado de la situación\n",
    "Genovia y Krakozhia son países limítrofes muy disímiles. Entre sus muchas diferencias, se encuentran los productos que se\n",
    "pueden producir o ingresar a uno y otro país. En particular, Krakozhia pertenece a la Unión Europea, haciendo que sea muy\n",
    "restrictiva con algunas clases de productos1\n",
    ".\n",
    "\n",
    "Por el contrario, el Reino de Genovia casi no tiene restricciones ni en el acceso ni en la producción de productos. Este es uno\n",
    "de los problemas que tienen con sus vecinos de la Unión Europea (el otro, es ser considerando un paraíso fiscal).\n",
    "Es muy común que ciudadanos de Krakozhia viajen a Genovia, y aprovechen su estadía para comprar productos que no\n",
    "podrían comprar en su país. Incluso hay quienes aprovechan para comprar bastantes productos, para luego revenderlos\n",
    "en Krakozhia, a un alto precio. ¿El problema? es ilegal entrar con esos productos a la Unión Europea, y en particular a\n",
    "Krakozhia, por lo que sus agentes aduaneros deberían confiscarles los productos (y potencialmente labrarles un acta o algún\n",
    "otro tipo de sansión). ¿Lo bueno? Los agentes aduaneros de Krakozhia no destacan por su honestidad. El menos corrupto no\n",
    "puede armar una declaración jurada de ingresos medianamente creíble. Esto quiere decir que al pasar por la aduana, un\n",
    "agente aduanero puede pedir, en concepto de soborno, una cierta cantidad de algunos productos que se lleve consigo (luego de\n",
    "revisarlos), el cual debe pagarse sí o sí, si no se quiere caer en serios problemas.\n",
    "Planteo del problema\n",
    "Queremos pasar mercadería de contrabando de Genovia a Krakozhia. La mercadería viene en paquetes que no podemos abrir.\n",
    "Cada paquete i trae Xi unidades de un determinado tipo de producto j. Podríamos llegar a tener varios paquetes del mismo\n",
    "tipo de producto j, incluso con diferente cantidad de unidades. También podemos tener diferentes paquetes de diferentes\n",
    "productos. Es decir, cada paquete (in-abrible) es de una cantidad específica de un tipo específico, y en total para un tipo\n",
    "específico j tenemos la suma de Xi unidades, para todos los i que sean de ese tipo.\n",
    "Para nuestro ejemplo, supongamos que tenemos un paquete que trae 8 cajetillas de cigarrillos sabor arándano. Otro paquete\n",
    "trae 5 cajetillas de lo mismos cigarrillos. Otro paquete puede traer 5 botellitas de 100ml de vodka radioactivo, etc. . .\n",
    "Al pasar por la aduana, el corrupto funcionario puede indicarnos que “por acá no pasan sin dejarme al menos 6 cajetillas de\n",
    "cigarrillos de arándano”.\n",
    "Ante la imposibilidad de abrir y/o separar los paquetes, es claro que en dicho caso nos conviene dejar el paquete de 8 (no\n",
    "podemos abrirlo para sacar 6 de allí. . . sino la movida sería muy evidente). Si el oficial hubiera dicho que hay que dejar\n",
    "al menos 10 cajetillas, habría sido necesario dejar ambos paquetes para un total de 13 unidades de dicho producto. Si este\n",
    "hubiera dicho que le dejemos una cajetilla de cigarrillos y una botellita de vodka, tendríamos que dejar el paquete de 5\n",
    "botellitas de vodka y el paquete de 5 cajetillas de cigarrillos.\n",
    "\n",
    "#### Consigna\n",
    "1. Describir e implementar un algoritmo greedy que, dado un input con los productos que se tienen, y lo pedido como\n",
    "soborno, nos permita salir airosos de la situación, con la mayor cantidad de productos posibles. Justificar por qué el\n",
    "algoritmo es, efectivamente, greedy. Considerar que siempre se nos pedirá una cantidad de productos en existencias (en\n",
    "nuestro ejemplo anterior, no nos habrían pedido que dejemos 7 botellas de vodka radioactivo, ni tampoco mandarinas\n",
    "del Sahara).\n",
    "2. Con las mismas consideraciones que en el punto anterior, describir e implementar un algoritmo (que sea óptimo) que\n",
    "resuelva el problema utilizando programación dinámica.\n",
    "3. Indicar y justificar la complejidad de ambos algoritmos propuestos. Indicar casos (características y ejemplos) de\n",
    "deficiencias en el algoritmo greedy propuesto, para los cuales este no obtenga una solución óptima.\n",
    "4. Implementar un programa que utilice ambos algoritmos, realizar mediciones y presentar resultados comparativos de\n",
    "ambas soluciones, en lo que refiere a su optimalidad de la solución (no de su complejidad). Incluir en la entrega del tp\n",
    "los sets de datos utilizados para estas simulaciones (que deben estar explicados en el informe). Estos deben incluir al\n",
    "menos una prueba de volumen, indicando cómo es que fueron generadas.\n"
   ]
  },
  {
   "attachments": {},
   "cell_type": "markdown",
   "metadata": {},
   "source": [
    "1. Describir e implementar un algoritmo greedy que, dado un input con los productos que se tienen, y lo pedido como\n",
    "soborno, nos permita salir airosos de la situación, con la mayor cantidad de productos posibles. Justificar por qué el\n",
    "algoritmo es, efectivamente, greedy. Considerar que siempre se nos pedirá una cantidad de productos en existencias (en\n",
    "nuestro ejemplo anterior, no nos habrían pedido que dejemos 7 botellas de vodka radioactivo, ni tampoco mandarinas\n",
    "del Sahara)."
   ]
  },
  {
   "attachments": {},
   "cell_type": "markdown",
   "metadata": {},
   "source": [
    "El algoritmo greedy que planteamos es el siguiente:\n",
    "1. Ordenamos la lista de menor a mayor segun la cantidad de elementos que tiene cada paquete\n",
    "2. Recorremos la lista comparando la cantidad de elementos con la cantidad de elementos pedidos\n",
    "    - Si la cantidad de elementos es mayor o igual que el pedido, devuelvo ese valor\n",
    "    - Sino continuo recorriendo la lista hasta el ultimo paquete y vuelvo a iterar con (elementos pedidos - cantidad del último paquete)\n",
    "3. Finalmente, devuelvo el acumulado de los elementos que se necesitan"
   ]
  },
  {
   "attachments": {},
   "cell_type": "markdown",
   "metadata": {},
   "source": [
    "¿Pero por qué es Greedy?  \n",
    "En los algoritmos Greedy se aplica una regla sencilla que permita obtener el máximo local, en este caso el máximo local es el primer paquete que iguale o supere a la cantidad pedida. En el caso de no encontrar un paquete que cumpla esto, se toma el paquete con mayor cantidad de elementos y se busca un óptimo local para la cantidad restante."
   ]
  },
  {
   "cell_type": "code",
   "execution_count": 13,
   "metadata": {},
   "outputs": [],
   "source": [
    "# Modelamos los datos del problema de la siguiente forma:\n",
    "# Existencias -> {mandarinas_rgb: [1, 6, 10, 4, 7], creditos_fiuba: [200, 300, 500, 100, 400]}\n",
    "# Soborno -> {mandarinas_rgb: 11, creditos_fiuba: 250}\n",
    "\n",
    "def _soborno_greedy(existencias, minimo, acumulado):\n",
    "    indice = 0\n",
    "    soborno = existencias[indice]\n",
    "    while soborno < minimo and indice < len(existencias) - 1:\n",
    "        indice += 1\n",
    "        soborno = existencias[indice]\n",
    "    acumulado.append(existencias.pop(indice))\n",
    "    if soborno >= minimo:\n",
    "        return acumulado\n",
    "    restante = minimo - soborno\n",
    "    return _soborno_greedy(existencias, restante, acumulado)\n",
    "\n",
    "def soborno_greedy(existencias, pedido): \n",
    "    soborno = {}\n",
    "    for tipo in pedido.keys():\n",
    "        existencias_ordenadas = sorted(existencias[tipo].copy())\n",
    "        soborno[tipo] = _soborno_greedy(existencias_ordenadas, pedido[tipo], [])\n",
    "    return soborno"
   ]
  },
  {
   "cell_type": "code",
   "execution_count": 14,
   "metadata": {},
   "outputs": [
    {
     "name": "stdout",
     "output_type": "stream",
     "text": [
      "{'creditos_fiuba': [7]}\n",
      "{'creditos_fiuba': [7, 2]}\n",
      "{'creditos_fiuba': [9, 5]}\n"
     ]
    }
   ],
   "source": [
    "pedido = {\"creditos_fiuba\": 6}\n",
    "existencias = {\"creditos_fiuba\": [1, 2, 3, 5, 7]}\n",
    "print(soborno_greedy(existencias, pedido))\n",
    "\n",
    "pedido = {\"creditos_fiuba\": 9}\n",
    "existencias = {\"creditos_fiuba\": [1, 2, 3, 5, 7]}\n",
    "print(soborno_greedy(existencias, pedido))\n",
    "\n",
    "pedido = {\"creditos_fiuba\": 11}\n",
    "existencias = {\"creditos_fiuba\": [1, 1, 5, 6, 9]}\n",
    "print(soborno_greedy(existencias, pedido))"
   ]
  },
  {
   "attachments": {},
   "cell_type": "markdown",
   "metadata": {},
   "source": [
    "Se puede ver más adelante que la complejidad de este algoritmo es cuadrática. Entonces, vamos a proponer un algoritmo con una complejidad menor"
   ]
  },
  {
   "cell_type": "code",
   "execution_count": 44,
   "metadata": {},
   "outputs": [],
   "source": [
    "def _soborno_greedy_no_cuadratico(existencias, minimo):\n",
    "    acumulado = []\n",
    "    i = 0\n",
    "    while sum(acumulado) < minimo:\n",
    "        acumulado.append(existencias[i])\n",
    "        i += 1\n",
    "    return acumulado\n",
    "\n",
    "def soborno_greedy_no_cuadratico(existencias, pedido): \n",
    "    soborno = {}\n",
    "    for tipo in pedido.keys():\n",
    "        existencias_ordenadas = sorted(existencias[tipo].copy(), reverse=True)\n",
    "        soborno[tipo] = _soborno_greedy_no_cuadratico(existencias_ordenadas, pedido[tipo])\n",
    "    return soborno"
   ]
  },
  {
   "cell_type": "code",
   "execution_count": 45,
   "metadata": {},
   "outputs": [
    {
     "name": "stdout",
     "output_type": "stream",
     "text": [
      "{'creditos_fiuba': [7]}\n",
      "{'creditos_fiuba': [7, 5]}\n",
      "{'creditos_fiuba': [9, 6]}\n"
     ]
    }
   ],
   "source": [
    "pedido = {\"creditos_fiuba\": 6}\n",
    "existencias = {\"creditos_fiuba\": [1, 2, 3, 5, 7]}\n",
    "print(soborno_greedy_no_cuadratico(existencias, pedido))\n",
    "\n",
    "pedido = {\"creditos_fiuba\": 9}\n",
    "existencias = {\"creditos_fiuba\": [1, 2, 3, 5, 7]}\n",
    "print(soborno_greedy_no_cuadratico(existencias, pedido))\n",
    "\n",
    "pedido = {\"creditos_fiuba\": 11}\n",
    "existencias = {\"creditos_fiuba\": [1, 1, 5, 6, 9]}\n",
    "print(soborno_greedy_no_cuadratico(existencias, pedido))"
   ]
  },
  {
   "attachments": {},
   "cell_type": "markdown",
   "metadata": {},
   "source": [
    "por qué es Greedy?  \n",
    "En los algoritmos Greedy se aplica una regla sencilla que permita obtener el máximo local, en este caso el máximo local es el primer paquete que iguale o supere a la cantidad pedida. En el caso de no encontrar un paquete que cumpla esto, se toma el paquete con mayor cantidad de elementos y se busca un óptimo local para la cantidad restante."
   ]
  },
  {
   "attachments": {},
   "cell_type": "markdown",
   "metadata": {},
   "source": [
    "2. Con las mismas consideraciones que en el punto anterior, describir e implementar un algoritmo (que sea óptimo) que\n",
    "resuelva el problema utilizando programación dinámica."
   ]
  },
  {
   "attachments": {},
   "cell_type": "markdown",
   "metadata": {},
   "source": [
    "La primera opción que se nos ocurrió fue la siguiente:  \n",
    "1. Tomamos el primer paquete de la lista  \n",
    "2. Vemos la cantidad de paquetes restantes en la lista  \n",
    "  a. Si no quedan, devolvemos el paquete que acabamos de tomar  \n",
    "  b. Si quedan, pero en conjunto no alcanzan a cubrir la cantidad pedida, devolvemos una lista vacía (no hay solución con estos paquetes)  \n",
    "  c. Si quedan y en conjunto alcanzan a cubrir la cantidad pedida, vamos a tener que ver dos casos distintos (tomando el paquete actual y no tomándolo)  \n",
    "3. Calculamos el soborno restante teniendo en cuenta a ese elemento  \n",
    "  a. Si el total de la sumatoria de los paquetes restantes (punto 2) no alcanza a cubrir el soborno, es porque hay que tener en cuenta al primer paquete (punto 1), entonces, devolvemos al primer paquete y el resultado del cálculo del punto 3  \n",
    "  b. En caso contrario, hay que hacer el cálculo sin tener en cuenta al primer paquete  \n",
    "4. Calculamos el soborno restante sin tener en cuenta a ese elemento  \n",
    "5. Comparamos los resultados de los puntos 3 y 4 y devolvemos el que sume menor cantidad de productos"
   ]
  },
  {
   "cell_type": "code",
   "execution_count": 15,
   "metadata": {},
   "outputs": [],
   "source": [
    "def _soborno_dinamico_beta(existencias, pedido):\n",
    "    if len(existencias) == 0:\n",
    "        return []\n",
    "    elemento = existencias[0]\n",
    "    elementos_restantes = existencias[1:]    \n",
    "    total_restante = sum(elementos_restantes)\n",
    "\n",
    "    # considerando el elemento\n",
    "    restante = pedido - elemento\n",
    "    if restante == 0:\n",
    "        return [elemento]\n",
    "    if total_restante < restante:\n",
    "        return []\n",
    "    soborno_restante = _soborno_dinamico_beta(elementos_restantes, restante)\n",
    "\n",
    "    # sin considerar el elemento\n",
    "    if total_restante < pedido:\n",
    "        return [elemento] + soborno_restante\n",
    "    soborno_sin_elemento = _soborno_dinamico_beta(elementos_restantes, pedido)\n",
    "    \n",
    "    total_con_elemento = sum([elemento] + soborno_restante)\n",
    "    total_sin_elemento = sum(soborno_sin_elemento)\n",
    "    if total_con_elemento < total_sin_elemento:\n",
    "        return [elemento] + soborno_restante\n",
    "    return soborno_sin_elemento\n",
    "  \n",
    "\n",
    "def soborno_dinamico_beta(existencias, pedido):\n",
    "    soborno = {}\n",
    "    for tipo in pedido.keys():\n",
    "        soborno[tipo] = _soborno_dinamico_beta(existencias[tipo], pedido[tipo])\n",
    "    return soborno"
   ]
  },
  {
   "cell_type": "code",
   "execution_count": 16,
   "metadata": {},
   "outputs": [
    {
     "name": "stdout",
     "output_type": "stream",
     "text": [
      "{'creditos_fiuba': [1, 5]}\n",
      "{'creditos_fiuba': [2, 7]}\n",
      "{'creditos_fiuba': [5, 6]}\n"
     ]
    }
   ],
   "source": [
    "pedido = {\"creditos_fiuba\": 6}\n",
    "existencias = {\"creditos_fiuba\": [1, 2, 3, 5, 7]}\n",
    "print(soborno_dinamico_beta(existencias, pedido))\n",
    "\n",
    "pedido = {\"creditos_fiuba\": 9}\n",
    "existencias = {\"creditos_fiuba\": [1, 2, 3, 5, 7]}\n",
    "print(soborno_dinamico_beta(existencias, pedido))\n",
    "\n",
    "pedido = {\"creditos_fiuba\": 11}\n",
    "existencias = {\"creditos_fiuba\": [1, 1, 5, 6, 9]}\n",
    "print(soborno_dinamico_beta(existencias, pedido))"
   ]
  },
  {
   "attachments": {},
   "cell_type": "markdown",
   "metadata": {},
   "source": [
    "El problema de éste método es que no memoriza los resultados de los cálculos que va haciendo, lo cual es algo importante para que el algoritmo sea de programación dinámica. Por lo tanto, decidimos cambiarlo a fin de encontrar una solución óptima."
   ]
  },
  {
   "attachments": {},
   "cell_type": "markdown",
   "metadata": {},
   "source": [
    "El segundo approach que tomamos, fue pensar al problema de forma inversa. En lugar de pensar qué era lo que se quedaba el funcionario, pensamos qué nos quedamos nosotros como comerciantes. De esta forma, quedaria un problema igual al problema de la mochila con valores iguales al peso. De esta forma, intentamos maximizar la cantidad de items que nos quedamos. Como este algoritmo es óptimo para encontrar el máximo al problema de la mochila, también es óptimo para el problema inverso de minimizar la cantidad de elementos demas que le dejamos al funcionario."
   ]
  },
  {
   "cell_type": "code",
   "execution_count": 17,
   "metadata": {},
   "outputs": [],
   "source": [
    "def mochila_simple(capacidad, pesos, cantidad_elementos):\n",
    "    matriz = [[0 for _ in range(capacidad + 1)] for _ in range(cantidad_elementos + 1)]\n",
    "\n",
    "    # Calculamos la solución óptima usando programación dinámica\n",
    "    for i in range(1, cantidad_elementos + 1):\n",
    "        for w in range(1, capacidad + 1):\n",
    "            if pesos[i-1] <= w:\n",
    "                matriz[i][w] = max(pesos[i-1] + matriz[i-1][w-pesos[i-1]], matriz[i-1][w])\n",
    "            else:\n",
    "                matriz[i][w] = matriz[i-1][w]\n",
    "    return matriz\n",
    "\n",
    "def mochila_simple_items(capacidad, pesos, cantidad_elementos):\n",
    "    matriz = mochila_simple(capacidad, pesos, cantidad_elementos)\n",
    "    # Reconstruimos la solución\n",
    "    elementos = []\n",
    "    w = capacidad\n",
    "    for i in range(cantidad_elementos, 0, -1):\n",
    "        if matriz[i][w] != matriz[i-1][w]:\n",
    "            elementos.append(i-1)\n",
    "            w -= pesos[i-1]\n",
    "    return elementos\n",
    "\n",
    "def _soborno_dinamico(existencias, pedido):\n",
    "    cantidad_elementos = len(existencias)\n",
    "    capacidad = sum(existencias) - pedido\n",
    "    if capacidad == 0:\n",
    "        return existencias\n",
    "    elementos_propios = mochila_simple_items(capacidad, existencias, cantidad_elementos)\n",
    "    soborno = existencias.copy()\n",
    "    for i in elementos_propios:\n",
    "        elemento = existencias[i]\n",
    "        soborno.remove(elemento)\n",
    "    return soborno\n",
    "\n",
    "def soborno_dinamico(existencias, pedido):\n",
    "    soborno = {}\n",
    "    existencias_copia = existencias.copy()\n",
    "    for tipo in pedido.keys():\n",
    "        soborno[tipo] = _soborno_dinamico(existencias_copia[tipo], pedido[tipo])\n",
    "    return soborno\n"
   ]
  },
  {
   "cell_type": "code",
   "execution_count": 18,
   "metadata": {},
   "outputs": [
    {
     "name": "stdout",
     "output_type": "stream",
     "text": [
      "{'creditos_fiuba': [1, 5]}\n",
      "{'creditos_fiuba': [2, 7]}\n",
      "{'creditos_fiuba': [1, 1, 9]}\n"
     ]
    }
   ],
   "source": [
    "pedido = {\"creditos_fiuba\": 6}\n",
    "existencias = {\"creditos_fiuba\": [1, 2, 3, 5, 7]}\n",
    "print(soborno_dinamico(existencias, pedido))\n",
    "\n",
    "pedido = {\"creditos_fiuba\": 9}\n",
    "existencias = {\"creditos_fiuba\": [1, 2, 3, 5, 7]}\n",
    "print(soborno_dinamico(existencias, pedido))\n",
    "\n",
    "pedido = {\"creditos_fiuba\": 11}\n",
    "existencias = {\"creditos_fiuba\": [1, 1, 5, 6, 9]}\n",
    "print(soborno_dinamico(existencias, pedido))"
   ]
  },
  {
   "attachments": {},
   "cell_type": "markdown",
   "metadata": {},
   "source": [
    "3. Indicar y justificar la complejidad de ambos algoritmos propuestos. Indicar casos (características y ejemplos) de\n",
    "deficiencias en el algoritmo greedy propuesto, para los cuales este no obtenga una solución óptima."
   ]
  },
  {
   "attachments": {},
   "cell_type": "markdown",
   "metadata": {},
   "source": [
    "Siendo:  \n",
    "T -> Cantidad de distintos tipos extraños de productos solicitados  \n",
    "N -> Cantidad máxima de paquetes en existencias de un tipo de producto  \n",
    "\n",
    "**Algoritmo Greedy**  \n",
    "Para un tipo puntual de producto, con el algoritmo greedy el peor caso es tener que dar todos los paquetes de ese tipo, resultando en N llamadas recursivas al algoritmo greedy. Una llamada (sin recursividad) al algoritmo greedy tiene una complejidad de O(N) ya que recorre la lista de paquetes una vez.\n",
    "Además, en todos los casos hay que ordenar, lo cual es O(N log(N)). Entonces, la complejidad del algoritmo greedy para un sólo tipo es O(N log(N) + N^2) y como N log(N) < N^2, la complejidad es O(N^2).\n",
    "De esta forma, siendo T una cantidad variable, la complejidad del algoritmo greedy es O(T * N^2).\n",
    "\n",
    "**Algoritmo de programación dinámica**  \n",
    "Para el algoritmo del problema de la mochila, siento N' la cantidad de elementos y W la capacidad de la mochila, se sabe que la resolución con programación dinámica tiene una complejidad de O(N' * W).\n",
    "Como nuestro algoritmo es una modificación del problema de la mochila, para definir la complejidad de nuestro algoritmo:\n",
    "N' = N ya que la cantidad de elementos es igual a la cantidad de paquetes en existencias de un tipo de producto\n",
    "\n",
    "Para ver quién es W vamos a definir una nueva variable:\n",
    "D -> Diferencia máxima entre la cantidad de un tipo de elemento en existencias y la cantidad pedida de ese tipo de elemento\n",
    "\n",
    "W = D ya que en nuestro problema, nuestro input para W es la cantidad _a quedarnos_ de un producto, por lo que W sería D. En el problema de la mochila, en el peor caso tiene un W muy grande, y en nuestro problema el peor caso se da cuando nos piden un porcentaje muy chico de un producto que tenemos.\n",
    "\n",
    "De esta forma la complejidad para el algoritmo de programación dinámica, teniendo en cuenta que nos pueden pedir distintos tipos de productos, es O(T * N * D).\n",
    "\n",
    "Para dar mayor claridad sobre el orden de complejidad vamos a dar un ejemplo:  \n",
    "Existencias = {Créditos fiuba = [3, 4, 6, 4, 6, 6, 4, 3, 6, 4],  \n",
    "               Chicle infinito = [2, 3, 7, 11, 13, 17],  \n",
    "               Botellas de vodka luminoso = [6, 6, 9, 12, 3],  \n",
    "               Mandarinas del Sahara = [5, 10, 2, 1],  \n",
    "               Chocolates RGB = [10, 7, 2]}               \n",
    "Pedidos = {Créditos fiuba = 24,\n",
    "           Chocolates RGB = 5,\n",
    "           Botellas de vodka luminoso = 10,\n",
    "           Chicle infinito = 5}\n",
    "\n"
   ]
  },
  {
   "attachments": {},
   "cell_type": "markdown",
   "metadata": {},
   "source": [
    "El algoritmo greedy cuenta con una deficiencia, y es que si la solución óptima no se puede representar con una forma puntual (explicada a continuación), el algoritmo no dará una solución óptima sino una aproximación.\n",
    "Formas en las que la solución óptima debe poder expresarse para poder obtenerla mediante el algoritmo greedy:  \n",
    "a. La solución óptima son los x paquetes más grandes  \n",
    "b. La solución óptima son los x paquetes más grandes + 1 paquete más chico (caso particular de a)  \n",
    "c. La solución óptima es un único paquete (caso particular de b con x = 0) "
   ]
  },
  {
   "cell_type": "code",
   "execution_count": 19,
   "metadata": {},
   "outputs": [
    {
     "name": "stdout",
     "output_type": "stream",
     "text": [
      "Caso A Optimo\n",
      "Solucion con greedy: [7, 5], cantidad de elementos que se llevan 12\n",
      "Solucion optima: [5, 7], cantidad de elementos que se llevan 12\n",
      "\n",
      "Caso B Optimo\n",
      "Solucion con greedy: [7, 5, 2], cantidad de elementos que se llevan 14\n",
      "Solucion optima: [2, 5, 7], cantidad de elementos que se llevan 14\n",
      "\n",
      "Caso C Optimo\n",
      "Solucion con greedy: [6], cantidad de elementos que se llevan 6\n",
      "Solucion optima: [6], cantidad de elementos que se llevan 6\n",
      "\n",
      "Caso que falla\n",
      "Solucion con greedy: [7, 5], cantidad de elementos que se llevan 12\n",
      "Solucion optima: [1, 3, 7], cantidad de elementos que se llevan 11\n",
      "\n",
      "Caso que falla\n",
      "Solucion con greedy: [7, 2], cantidad de elementos que se llevan 9\n",
      "Solucion optima: [3, 5], cantidad de elementos que se llevan 8\n"
     ]
    }
   ],
   "source": [
    "# Caso A -> Optimo\n",
    "print(\"Caso A Optimo\")\n",
    "\n",
    "pedido = {\"creditos_fiuba\": 5+7}\n",
    "existencias = {\"creditos_fiuba\": [1, 2, 3, 5, 7]}\n",
    "greedy = soborno_greedy(existencias, pedido)[\"creditos_fiuba\"]\n",
    "optimo = soborno_dinamico(existencias, pedido)[\"creditos_fiuba\"]\n",
    "print(f\"Solucion con greedy: {greedy}, cantidad de elementos que se llevan {sum(greedy)}\")\n",
    "print(f\"Solucion optima: {optimo}, cantidad de elementos que se llevan {sum(optimo)}\")\n",
    "\n",
    "# Caso B -> Optimo\n",
    "print(\"\\nCaso B Optimo\")\n",
    "\n",
    "pedido = {\"creditos_fiuba\": 2+5+7}\n",
    "existencias = {\"creditos_fiuba\": [1, 2, 3, 5, 7]}\n",
    "greedy = soborno_greedy(existencias, pedido)[\"creditos_fiuba\"]\n",
    "optimo = soborno_dinamico(existencias, pedido)[\"creditos_fiuba\"]\n",
    "print(f\"Solucion con greedy: {greedy}, cantidad de elementos que se llevan {sum(greedy)}\")\n",
    "print(f\"Solucion optima: {optimo}, cantidad de elementos que se llevan {sum(optimo)}\")\n",
    "\n",
    "# Caso C -> Optimo\n",
    "print(\"\\nCaso C Optimo\")\n",
    "\n",
    "pedido = {\"creditos_fiuba\": 6}\n",
    "existencias = {\"creditos_fiuba\": [1, 1, 5, 6, 9]}\n",
    "greedy = soborno_greedy(existencias, pedido)[\"creditos_fiuba\"]\n",
    "optimo = soborno_dinamico(existencias, pedido)[\"creditos_fiuba\"]\n",
    "print(f\"Solucion con greedy: {greedy}, cantidad de elementos que se llevan {sum(greedy)}\")\n",
    "print(f\"Solucion optima: {optimo}, cantidad de elementos que se llevan {sum(optimo)}\")\n",
    "\n",
    "# Casos que no cumplen ninguna de las tres reglas\n",
    "\n",
    "print(\"\\nCaso que falla\")\n",
    "\n",
    "pedido = {\"creditos_fiuba\": 4+7 }\n",
    "existencias = {\"creditos_fiuba\": [1, 2, 3, 5, 7]}\n",
    "greedy = soborno_greedy(existencias, pedido)[\"creditos_fiuba\"]\n",
    "optimo = soborno_dinamico(existencias, pedido)[\"creditos_fiuba\"]\n",
    "print(f\"Solucion con greedy: {greedy}, cantidad de elementos que se llevan {sum(greedy)}\")\n",
    "print(f\"Solucion optima: {optimo}, cantidad de elementos que se llevan {sum(optimo)}\")\n",
    "\n",
    "print(\"\\nCaso que falla\")\n",
    "pedido = {\"creditos_fiuba\": 3+5}\n",
    "existencias = {\"creditos_fiuba\": [2, 3, 5, 7]}\n",
    "\n",
    "greedy = soborno_greedy(existencias, pedido)[\"creditos_fiuba\"]\n",
    "optimo = soborno_dinamico(existencias, pedido)[\"creditos_fiuba\"]\n",
    "print(f\"Solucion con greedy: {greedy}, cantidad de elementos que se llevan {sum(greedy)}\")\n",
    "print(f\"Solucion optima: {optimo}, cantidad de elementos que se llevan {sum(optimo)}\")"
   ]
  },
  {
   "attachments": {},
   "cell_type": "markdown",
   "metadata": {},
   "source": [
    "4. Implementar un programa que utilice ambos algoritmos, realizar mediciones y presentar resultados comparativos de\n",
    "ambas soluciones, en lo que refiere a su optimalidad de la solución (no de su complejidad). Incluir en la entrega del tp\n",
    "los sets de datos utilizados para estas simulaciones (que deben estar explicados en el informe). Estos deben incluir al\n",
    "menos una prueba de volumen, indicando cómo es que fueron generadas."
   ]
  },
  {
   "attachments": {},
   "cell_type": "markdown",
   "metadata": {},
   "source": [
    "Los sets de datos para las pruebas comparativas fueron creados con funciones que generan una cantidad random de productos por paquetes dada una cantidad de productos por tipo máxima y un salto entre cantidades. De esta forma, se pueden generar distintos sets a convenieniencia."
   ]
  },
  {
   "cell_type": "code",
   "execution_count": 20,
   "metadata": {},
   "outputs": [],
   "source": [
    "import random\n",
    "\n",
    "def generar_random_arrays(n):\n",
    "    return [random.randint(1, 10 * n) for _ in range(n)]\n",
    "\n",
    "def generar_diccionarios(n, jump):\n",
    "    diccionarios = []\n",
    "    for i in range(10, n + 10, jump):\n",
    "        dicc_i = {}\n",
    "        elementos = i // 10\n",
    "        for j in range(elementos):\n",
    "            nombre = \"elemento_raro\" + str(j)\n",
    "            arreglo = generar_random_arrays(i)\n",
    "            dicc_i[nombre] = arreglo\n",
    "        diccionarios.append(dicc_i)\n",
    "    return diccionarios"
   ]
  },
  {
   "cell_type": "code",
   "execution_count": 21,
   "metadata": {},
   "outputs": [],
   "source": [
    "def generar_coima(diccionario):\n",
    "    coima = {}\n",
    "    for key, value in diccionario.items():\n",
    "        max = sum(value)\n",
    "        cantidad = random.randint(0, max)\n",
    "        if cantidad > 0:\n",
    "            coima[key] = cantidad\n",
    "    return coima\n",
    "\n",
    "def generar_coimas(diccionario):\n",
    "    coimas = []\n",
    "    for d in diccionario:\n",
    "        coimas.append(generar_coima(d))\n",
    "    return coimas"
   ]
  },
  {
   "cell_type": "code",
   "execution_count": 22,
   "metadata": {},
   "outputs": [],
   "source": [
    "def obtener_resultados(diccionarios, coimas, algoritmo):\n",
    "    resultados = []\n",
    "    for i in range(len(diccionarios)):\n",
    "        existencias = diccionarios[i]\n",
    "        pedido = coimas[i]\n",
    "        obtenido = algoritmo(existencias, pedido)\n",
    "        resultados.append(obtenido)\n",
    "    return resultados"
   ]
  },
  {
   "cell_type": "code",
   "execution_count": 23,
   "metadata": {},
   "outputs": [],
   "source": [
    "def print_tabla(pedido, res):\n",
    "    for elem in pedido.keys():\n",
    "        print(f\"- {elem} -> se pidio: {pedido[elem]}, se obtuvo {sum(res[elem])} ({res[elem]})\")"
   ]
  },
  {
   "cell_type": "code",
   "execution_count": 24,
   "metadata": {},
   "outputs": [],
   "source": [
    "def calcular_diferencia(coima, respuesta):\n",
    "    total_coima = sum(coima.values())\n",
    "    total_respuesta = sum([sum(x) for x in respuesta.values()])\n",
    "    return total_respuesta - total_coima"
   ]
  },
  {
   "attachments": {},
   "cell_type": "markdown",
   "metadata": {},
   "source": [
    "Comenzaremos con un test pequeño en donde imprimiremos una comparativa detallada de los resultados de ambos algoritmos."
   ]
  },
  {
   "cell_type": "code",
   "execution_count": 25,
   "metadata": {},
   "outputs": [],
   "source": [
    "diccionarios = generar_diccionarios(50, 10)\n",
    "coimas = generar_coimas(diccionarios)"
   ]
  },
  {
   "cell_type": "code",
   "execution_count": 26,
   "metadata": {},
   "outputs": [],
   "source": [
    "resultados_greedy = obtener_resultados(diccionarios, coimas, soborno_greedy)\n",
    "resultados_dinamico = obtener_resultados(diccionarios, coimas, soborno_dinamico)"
   ]
  },
  {
   "cell_type": "code",
   "execution_count": 27,
   "metadata": {},
   "outputs": [
    {
     "name": "stdout",
     "output_type": "stream",
     "text": [
      "::Pedido 0::\n",
      "Greedy\n",
      "- elemento_raro0 -> se pidio: 387, se obtuvo 389 ([100, 73, 71, 66, 53, 26])\n",
      "Dinamico\n",
      "- elemento_raro0 -> se pidio: 387, se obtuvo 388 ([22, 23, 100, 73, 33, 71, 66])\n",
      "\n",
      "Diferencia total (suma de las diferencias de cada elemento):\n",
      "Greedy: 2 | Dinamico: 1\n",
      "\n",
      "::Pedido 1::\n",
      "Greedy\n",
      "- elemento_raro0 -> se pidio: 952, se obtuvo 955 ([180, 177, 175, 159, 154, 110])\n",
      "- elemento_raro1 -> se pidio: 534, se obtuvo 538 ([189, 183, 166])\n",
      "Dinamico\n",
      "- elemento_raro0 -> se pidio: 952, se obtuvo 952 ([151, 35, 148, 175, 154, 110, 24, 58, 33, 64])\n",
      "- elemento_raro1 -> se pidio: 534, se obtuvo 534 ([25, 132, 28, 183, 166])\n",
      "\n",
      "Diferencia total (suma de las diferencias de cada elemento):\n",
      "Greedy: 7 | Dinamico: 0\n",
      "\n",
      "::Pedido 2::\n",
      "Greedy\n",
      "- elemento_raro0 -> se pidio: 797, se obtuvo 806 ([300, 298, 208])\n",
      "- elemento_raro1 -> se pidio: 3452, se obtuvo 3481 ([290, 266, 247, 237, 234, 234, 212, 179, 172, 171, 163, 163, 161, 159, 148, 147, 130, 120, 48])\n",
      "- elemento_raro2 -> se pidio: 4166, se obtuvo 4184 ([298, 298, 296, 292, 280, 267, 266, 249, 248, 247, 229, 224, 221, 200, 190, 188, 170, 21])\n",
      "Dinamico\n",
      "- elemento_raro0 -> se pidio: 797, se obtuvo 797 ([78, 247, 209, 2, 261])\n",
      "- elemento_raro1 -> se pidio: 3452, se obtuvo 3452 ([172, 88, 105, 48, 94, 148, 71, 163, 179, 247, 89, 171, 147, 159, 237, 290, 74, 53, 49, 234, 234, 4, 266, 130])\n",
      "- elemento_raro2 -> se pidio: 4166, se obtuvo 4166 ([44, 32, 110, 120, 41, 266, 156, 249, 57, 166, 100, 62, 188, 190, 296, 224, 292, 60, 280, 247, 200, 267, 298, 221])\n",
      "\n",
      "Diferencia total (suma de las diferencias de cada elemento):\n",
      "Greedy: 56 | Dinamico: 0\n",
      "\n",
      "::Pedido 3::\n",
      "Greedy\n",
      "- elemento_raro0 -> se pidio: 7334, se obtuvo 7339 ([399, 395, 385, 380, 348, 337, 328, 321, 318, 312, 308, 294, 282, 281, 236, 227, 213, 203, 194, 190, 190, 190, 176, 161, 133, 125, 123, 115, 112, 63])\n",
      "- elemento_raro1 -> se pidio: 679, se obtuvo 695 ([397, 298])\n",
      "- elemento_raro2 -> se pidio: 3038, se obtuvo 3059 ([397, 389, 379, 358, 358, 341, 340, 339, 158])\n",
      "- elemento_raro3 -> se pidio: 979, se obtuvo 979 ([376, 367, 236])\n",
      "Dinamico\n",
      "- elemento_raro0 -> se pidio: 7334, se obtuvo 7334 ([190, 318, 282, 236, 213, 385, 106, 328, 308, 80, 125, 44, 48, 176, 27, 115, 190, 7, 348, 89, 337, 203, 123, 66, 161, 102, 190, 399, 294, 395, 112, 321, 227, 63, 133, 312, 281])\n",
      "- elemento_raro1 -> se pidio: 679, se obtuvo 679 ([4, 14, 50, 23, 337, 138, 113])\n",
      "- elemento_raro2 -> se pidio: 3038, se obtuvo 3038 ([9, 54, 12, 186, 115, 74, 35, 358, 332, 96, 339, 284, 358, 288, 274, 28, 43, 83, 70])\n",
      "- elemento_raro3 -> se pidio: 979, se obtuvo 979 ([21, 5, 13, 219, 21, 3, 245, 296, 147, 9])\n",
      "\n",
      "Diferencia total (suma de las diferencias de cada elemento):\n",
      "Greedy: 42 | Dinamico: 0\n",
      "\n",
      "::Pedido 4::\n",
      "Greedy\n",
      "- elemento_raro0 -> se pidio: 10918, se obtuvo 10919 ([478, 473, 467, 465, 444, 433, 427, 426, 422, 418, 409, 391, 380, 379, 366, 355, 353, 347, 344, 332, 316, 315, 311, 311, 285, 277, 275, 256, 249, 215])\n",
      "- elemento_raro1 -> se pidio: 7959, se obtuvo 7967 ([477, 471, 465, 452, 436, 432, 427, 426, 419, 413, 401, 396, 383, 373, 345, 330, 329, 323, 305, 299, 65])\n",
      "- elemento_raro2 -> se pidio: 9969, se obtuvo 9971 ([492, 490, 461, 452, 442, 436, 421, 408, 406, 405, 402, 392, 384, 375, 372, 359, 348, 313, 305, 305, 304, 304, 298, 271, 261, 207, 202, 156])\n",
      "- elemento_raro3 -> se pidio: 5978, se obtuvo 5984 ([488, 471, 468, 468, 447, 443, 441, 428, 426, 426, 419, 416, 407, 236])\n",
      "- elemento_raro4 -> se pidio: 12492, se obtuvo 12506 ([491, 491, 488, 488, 479, 479, 478, 464, 440, 424, 420, 416, 414, 393, 382, 373, 365, 353, 348, 342, 318, 300, 290, 278, 272, 272, 259, 224, 209, 207, 206, 195, 189, 184, 161, 158, 153, 103])\n",
      "Dinamico\n",
      "- elemento_raro0 -> se pidio: 10918, se obtuvo 10918 ([311, 175, 19, 219, 379, 159, 391, 353, 433, 117, 355, 478, 277, 332, 26, 44, 366, 203, 444, 249, 422, 426, 24, 84, 211, 256, 315, 14, 285, 239, 344, 427, 45, 115, 199, 90, 311, 418, 128, 316, 45, 465, 409])\n",
      "- elemento_raro1 -> se pidio: 7959, se obtuvo 7959 ([81, 82, 11, 194, 99, 25, 254, 419, 323, 373, 413, 436, 203, 236, 427, 148, 147, 426, 396, 258, 183, 156, 286, 465, 452, 285, 225, 208, 432, 71, 245])\n",
      "- elemento_raro2 -> se pidio: 9969, se obtuvo 9969 ([11, 200, 107, 490, 26, 348, 165, 313, 14, 359, 305, 167, 442, 201, 304, 298, 71, 170, 202, 201, 305, 34, 406, 42, 170, 54, 492, 13, 452, 126, 207, 408, 436, 304, 421, 95, 152, 271, 372, 384, 261, 170])\n",
      "- elemento_raro3 -> se pidio: 5978, se obtuvo 5978 ([154, 8, 17, 41, 63, 115, 341, 193, 136, 236, 79, 239, 286, 468, 179, 274, 302, 180, 377, 114, 447, 25, 428, 443, 407, 426])\n",
      "- elemento_raro4 -> se pidio: 12492, se obtuvo 12492 ([479, 393, 290, 420, 12, 424, 209, 300, 272, 491, 488, 272, 318, 24, 464, 30, 224, 259, 103, 440, 189, 17, 488, 161, 478, 36, 278, 207, 66, 491, 114, 365, 21, 184, 342, 414, 353, 127, 195, 382, 479, 158, 39, 373, 153, 416, 54])\n",
      "\n",
      "Diferencia total (suma de las diferencias de cada elemento):\n",
      "Greedy: 31 | Dinamico: 0\n",
      "\n"
     ]
    }
   ],
   "source": [
    "for i in range(len(diccionarios)):\n",
    "    pedido = coimas[i]\n",
    "    res_greedy = resultados_greedy[i]\n",
    "    res_dinamico = resultados_dinamico[i]\n",
    "    print(f\"::Pedido {i}::\")\n",
    "    print(\"Greedy\")\n",
    "    print_tabla(pedido, res_greedy)\n",
    "    print(\"Dinamico\")\n",
    "    print_tabla(pedido, res_dinamico)\n",
    "    print(\"\\nDiferencia total (suma de las diferencias de cada elemento):\")\n",
    "    print(f\"Greedy: {calcular_diferencia(pedido, res_greedy)}\", end=\" | \")\n",
    "    print(f\"Dinamico: {calcular_diferencia(pedido, res_dinamico)}\\n\")"
   ]
  },
  {
   "attachments": {},
   "cell_type": "markdown",
   "metadata": {},
   "source": [
    "Ahora haremos pruebas más grandes, por lo tanto mostraremos sólo las diferencias totales a modo de comparativa."
   ]
  },
  {
   "cell_type": "code",
   "execution_count": 28,
   "metadata": {},
   "outputs": [],
   "source": [
    "diccionarios = generar_diccionarios(150, 5)\n",
    "coimas = generar_coimas(diccionarios)"
   ]
  },
  {
   "cell_type": "code",
   "execution_count": 29,
   "metadata": {},
   "outputs": [],
   "source": [
    "resultados_greedy = obtener_resultados(diccionarios, coimas, soborno_greedy)"
   ]
  },
  {
   "cell_type": "code",
   "execution_count": 30,
   "metadata": {},
   "outputs": [],
   "source": [
    "resultados_dinamico = obtener_resultados(diccionarios, coimas, soborno_dinamico)"
   ]
  },
  {
   "attachments": {},
   "cell_type": "markdown",
   "metadata": {},
   "source": [
    "Debido a tener un output muy grande, los resultados de las siguientes pruebas se encuentran en el archivo \"PruebasDeVolumen.txt\"."
   ]
  },
  {
   "cell_type": "code",
   "execution_count": 31,
   "metadata": {},
   "outputs": [],
   "source": [
    "with open(\"PruebasDeVolumen.txt\", 'w', encoding=\"utf-8\") as archivo:\n",
    "    for i in range(len(diccionarios)):\n",
    "        pedido = coimas[i]\n",
    "        res_greedy = resultados_greedy[i]\n",
    "        res_dinamico = resultados_dinamico[i]\n",
    "        cant_tipos_solicitados = len(list(pedido.keys()))\n",
    "        cant_elementos = len(diccionarios[i][list(pedido.keys())[0]]) # Cantidad de paquetes por tipo\n",
    "        archivo.write(f\"::Pedido {i}:: -> {cant_tipos_solicitados} tipos de productos, {cant_elementos} paquetes por tipo\\n\")\n",
    "        archivo.write(\"\\tDiferencia total (suma de las diferencias de cada elemento):\\n\")\n",
    "        diferencia_greedy = calcular_diferencia(pedido, res_greedy)\n",
    "        diferencia_dinamico = calcular_diferencia(pedido, res_dinamico)\n",
    "        archivo.write(f\"\\t\\tGreedy: {diferencia_greedy} | Dinámico: {diferencia_dinamico}\\n\")\n",
    "        diferencia_algoritmos = diferencia_greedy - diferencia_dinamico\n",
    "        if diferencia_algoritmos == 0:\n",
    "            archivo.write(\"\\t\\tAmbos algoritmos dieron el mismo resultado -> Greedy fue óptimo\\n\\n\")\n",
    "        else:\n",
    "            archivo.write(f\"\\t\\tDinámico dio un total de {diferencia_algoritmos} productos menos que Greedy\\n\\n\")"
   ]
  }
 ],
 "metadata": {
  "kernelspec": {
   "display_name": "Python 3",
   "language": "python",
   "name": "python3"
  },
  "language_info": {
   "codemirror_mode": {
    "name": "ipython",
    "version": 3
   },
   "file_extension": ".py",
   "mimetype": "text/x-python",
   "name": "python",
   "nbconvert_exporter": "python",
   "pygments_lexer": "ipython3",
   "version": "3.10.4"
  },
  "orig_nbformat": 4
 },
 "nbformat": 4,
 "nbformat_minor": 2
}
